{
 "cells": [
  {
   "cell_type": "markdown",
   "metadata": {},
   "source": [
    "# Pythagoras' Theorem Documentation\n",
    "\n",
    "## Introduction\n",
    "\n",
    "Pythagora's Theorem is a fundamental concept in geometry that relates to the sides of a right-angled triangle. It is named after the ancient Greek mathematician Pythagoras, who is credited with its discovery. This theorem has applications in various fields of science, engineering, and everyday life. This documentation provides an overview of Pythagoras' Theorem, its formula, and its applications.\n",
    "\n",
    "## Statement of the Theorem\n",
    "\n",
    "In a riight-angled triangle, the square of the length of the hypotenuse (the side opposite the right angle) is equal to the sum of the squares of the other two sides. Mathematically, it is expressed as:\n",
    "\n",
    "$c^2 = a^2 + b^2$\n",
    "\n",
    "### Where:\n",
    "\n",
    "* c represents the length of the hypotenuse.\n",
    "* a and b represent the lengths of the other two sides (the legs of the triangle).\n",
    "\n",
    "### Illustration\n",
    "\n",
    "![Right Angled Triangle Illustration](./lab1img.png \"A Right Angled Triangle\")\n",
    "\n",
    "In the triangle above, c is the hypotenuse, and a and b are the legs.\n",
    "\n",
    "## Applications\n",
    "\n",
    "|    |        Area           |                                                    Description                                                                              |\n",
    "| -- | --------------------- | ------------------------------------------------------------------------------------------------------------------------------------------------ |\n",
    "| 1. | **Geometry**          | Pythagoras' Theorem is extensively used in geometry to calculate distances, angles, and side lengths in right-angled triangles.                  |\n",
    "| 2. | **Engineering**       | It is vital in fields such as Civil Engineering for determining the length of diagonals in rectangular structures, which is critcal for stability and construction.                                                                                                                                                               |\n",
    "| 3. | **Physics**           | The theorem is applied in physics to understand vectors and calculate distances, velocities, and forces.                                         |\n",
    "| 4. | **Navigation**        | It is used in navigation to find distances between points, particularly in applications like GPS.                                                |\n",
    "| 5. | **Trigonometry**      | The theorem is a foundation for trigonometric concepts and calculations, as it connects angles and side lengths in right triangles.              |\n",
    "| 6. | **Computer Graphics** | In computer graphics, Pythagoras' Theorem is employed to calculate distances and angles for rendering and modeling 3D objects.                   |\n",
    "\n",
    "## Conclusion\n",
    "\n",
    "Pythagoras' Theorem is a timeless and fundamental concept in mathematics and science. Its applications are widespread, making it a crucial tool for solving various real-world problems involving right-angled triangles. Understanding the theorem is essential for anyone working in fields where geometry, trigonometry, and distance calculations are relevant."
   ]
  }
 ],
 "metadata": {
  "language_info": {
   "name": "python"
  },
  "orig_nbformat": 4
 },
 "nbformat": 4,
 "nbformat_minor": 2
}
