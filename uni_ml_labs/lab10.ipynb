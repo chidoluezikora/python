{
 "cells": [
  {
   "cell_type": "code",
   "execution_count": 1,
   "metadata": {},
   "outputs": [
    {
     "name": "stderr",
     "output_type": "stream",
     "text": [
      "2024-01-10 09:42:22.971548: I external/local_tsl/tsl/cuda/cudart_stub.cc:31] Could not find cuda drivers on your machine, GPU will not be used.\n",
      "2024-01-10 09:42:23.049884: E external/local_xla/xla/stream_executor/cuda/cuda_dnn.cc:9261] Unable to register cuDNN factory: Attempting to register factory for plugin cuDNN when one has already been registered\n",
      "2024-01-10 09:42:23.050023: E external/local_xla/xla/stream_executor/cuda/cuda_fft.cc:607] Unable to register cuFFT factory: Attempting to register factory for plugin cuFFT when one has already been registered\n",
      "2024-01-10 09:42:23.051127: E external/local_xla/xla/stream_executor/cuda/cuda_blas.cc:1515] Unable to register cuBLAS factory: Attempting to register factory for plugin cuBLAS when one has already been registered\n",
      "2024-01-10 09:42:23.059622: I external/local_tsl/tsl/cuda/cudart_stub.cc:31] Could not find cuda drivers on your machine, GPU will not be used.\n",
      "2024-01-10 09:42:23.060111: I tensorflow/core/platform/cpu_feature_guard.cc:182] This TensorFlow binary is optimized to use available CPU instructions in performance-critical operations.\n",
      "To enable the following instructions: AVX2 FMA, in other operations, rebuild TensorFlow with the appropriate compiler flags.\n",
      "2024-01-10 09:42:24.351968: W tensorflow/compiler/tf2tensorrt/utils/py_utils.cc:38] TF-TRT Warning: Could not find TensorRT\n"
     ]
    }
   ],
   "source": [
    "import tensorflow as tf\n",
    "from tensorflow import keras\n",
    "import keras_tuner as kt\n",
    "import numpy as np"
   ]
  },
  {
   "cell_type": "code",
   "execution_count": 2,
   "metadata": {},
   "outputs": [],
   "source": [
    "from PIL import Image\n",
    "import os\n",
    "\n",
    "def get_and_save_data_and_labels(path):\n",
    "    data = open(path,\"r\")\n",
    "\n",
    "    names = []\n",
    "    types = []\n",
    "\n",
    "    for line in data:\n",
    "        fields = line.split(\" \")\n",
    "        names.append( fields[0] )\n",
    "        types.append( fields[1] )\n",
    "        \n",
    "    nData = len(names)\n",
    "    imgSize = 128\n",
    "    galaxies = np.zeros((nData,imgSize,imgSize,3))\n",
    "    labels = np.zeros(nData, dtype='int')\n",
    "\n",
    "    for i in range(nData):\n",
    "        filename = \"/mnt/share/nnds/galaxies/png/\"+str(names[i])+\".png\"\n",
    "        img = Image.open(filename)\n",
    "\n",
    "        imgResized = img.resize(size=(imgSize,imgSize))\n",
    "        imgArr = np.array(imgResized)\n",
    "\n",
    "        imgArr = imgArr/255.\n",
    "        \n",
    "        galaxies[i,:,:,:] = imgArr \n",
    "        labels[i] = types[i]\n",
    "    \n",
    "    split = 955\n",
    "\n",
    "    train_data = galaxies[:split,:,:,:]\n",
    "    train_labels = labels[:split]\n",
    "\n",
    "    test_data = galaxies[split+1:nData-1,:,:,:]\n",
    "    test_labels = labels[split+1:nData-1]\n",
    "    \n",
    "    os.makedirs(\"galaxies\")\n",
    "    np.save(\"galaxies/trainGalaxies.npy\", train_data)\n",
    "    np.save(\"galaxies/trainLabels.npy\", train_labels)\n",
    "\n",
    "    np.save(\"galaxies/testGalaxies.npy\", test_data)\n",
    "    np.save(\"galaxies/testLabels.npy\", test_labels)\n",
    "        \n",
    "    return train_data, train_labels, test_data, test_labels"
   ]
  },
  {
   "cell_type": "code",
   "execution_count": 3,
   "metadata": {},
   "outputs": [],
   "source": [
    "def load_train_and_test_data():\n",
    "    train_data = np.load(\"galaxies/trainGalaxies.npy\")\n",
    "    train_labels = np.load(\"galaxies/trainLabels.npy\", )\n",
    "\n",
    "    test_data = np.load(\"galaxies/testGalaxies.npy\")\n",
    "    test_labels = np.load(\"galaxies/testLabels.npy\", )\n",
    "    \n",
    "    return train_data, train_labels, test_data, test_labels"
   ]
  },
  {
   "cell_type": "code",
   "execution_count": 4,
   "metadata": {},
   "outputs": [],
   "source": [
    "# 1a.\n",
    "train_data, train_labels, test_data, test_labels = load_train_and_test_data()"
   ]
  },
  {
   "cell_type": "code",
   "execution_count": 5,
   "metadata": {},
   "outputs": [
    {
     "name": "stderr",
     "output_type": "stream",
     "text": [
      "2024-01-10 09:42:41.381497: I external/local_xla/xla/stream_executor/cuda/cuda_executor.cc:901] successful NUMA node read from SysFS had negative value (-1), but there must be at least one NUMA node, so returning NUMA node zero. See more at https://github.com/torvalds/linux/blob/v6.0/Documentation/ABI/testing/sysfs-bus-pci#L344-L355\n",
      "2024-01-10 09:42:41.383222: W tensorflow/core/common_runtime/gpu/gpu_device.cc:2256] Cannot dlopen some GPU libraries. Please make sure the missing libraries mentioned above are installed properly if you would like to use GPU. Follow the guide at https://www.tensorflow.org/install/gpu for how to download and setup the required libraries for your platform.\n",
      "Skipping registering GPU devices...\n"
     ]
    }
   ],
   "source": [
    "galNet = keras.Sequential([\n",
    "    keras.layers.Conv2D(96, (6, 6), activation='relu', input_shape=(128,128,3)),\n",
    "    keras.layers.MaxPooling2D(pool_size=(3,3)),\n",
    "    keras.layers.Flatten(),\n",
    "    keras.layers.Dense(24, activation='relu'),\n",
    "    keras.layers.Dense(3, activation='softmax')\n",
    "])"
   ]
  },
  {
   "cell_type": "code",
   "execution_count": 6,
   "metadata": {},
   "outputs": [
    {
     "name": "stdout",
     "output_type": "stream",
     "text": [
      "Model: \"sequential\"\n",
      "_________________________________________________________________\n",
      " Layer (type)                Output Shape              Param #   \n",
      "=================================================================\n",
      " conv2d (Conv2D)             (None, 123, 123, 96)      10464     \n",
      "                                                                 \n",
      " max_pooling2d (MaxPooling2  (None, 41, 41, 96)        0         \n",
      " D)                                                              \n",
      "                                                                 \n",
      " flatten (Flatten)           (None, 161376)            0         \n",
      "                                                                 \n",
      " dense (Dense)               (None, 24)                3873048   \n",
      "                                                                 \n",
      " dense_1 (Dense)             (None, 3)                 75        \n",
      "                                                                 \n",
      "=================================================================\n",
      "Total params: 3883587 (14.81 MB)\n",
      "Trainable params: 3883587 (14.81 MB)\n",
      "Non-trainable params: 0 (0.00 Byte)\n",
      "_________________________________________________________________\n"
     ]
    }
   ],
   "source": [
    "galNet.summary()"
   ]
  },
  {
   "cell_type": "code",
   "execution_count": 7,
   "metadata": {},
   "outputs": [
    {
     "name": "stdout",
     "output_type": "stream",
     "text": [
      "Epoch 1/50\n"
     ]
    },
    {
     "name": "stderr",
     "output_type": "stream",
     "text": [
      "2024-01-10 09:43:11.016538: W external/local_tsl/tsl/framework/cpu_allocator_impl.cc:83] Allocation of 187760640 exceeds 10% of free system memory.\n",
      "2024-01-10 09:43:12.867835: W external/local_tsl/tsl/framework/cpu_allocator_impl.cc:83] Allocation of 185905152 exceeds 10% of free system memory.\n",
      "2024-01-10 09:43:12.971308: W external/local_tsl/tsl/framework/cpu_allocator_impl.cc:83] Allocation of 185905152 exceeds 10% of free system memory.\n"
     ]
    },
    {
     "name": "stdout",
     "output_type": "stream",
     "text": [
      " 1/30 [>.............................] - ETA: 55s - loss: 1.0924 - accuracy: 0.4688"
     ]
    },
    {
     "name": "stderr",
     "output_type": "stream",
     "text": [
      "2024-01-10 09:43:13.400762: W external/local_tsl/tsl/framework/cpu_allocator_impl.cc:83] Allocation of 185905152 exceeds 10% of free system memory.\n",
      "2024-01-10 09:43:13.458129: W external/local_tsl/tsl/framework/cpu_allocator_impl.cc:83] Allocation of 185905152 exceeds 10% of free system memory.\n"
     ]
    },
    {
     "name": "stdout",
     "output_type": "stream",
     "text": [
      "30/30 [==============================] - 16s 470ms/step - loss: 1.1438 - accuracy: 0.4806 - val_loss: 0.9945 - val_accuracy: 0.5042\n",
      "Epoch 2/50\n",
      "30/30 [==============================] - 12s 409ms/step - loss: 0.8928 - accuracy: 0.5717 - val_loss: 0.8646 - val_accuracy: 0.6471\n",
      "Epoch 3/50\n",
      "30/30 [==============================] - 8s 263ms/step - loss: 0.7229 - accuracy: 0.6785 - val_loss: 0.7136 - val_accuracy: 0.6639\n",
      "Epoch 4/50\n",
      "30/30 [==============================] - 9s 284ms/step - loss: 0.6280 - accuracy: 0.6764 - val_loss: 0.6734 - val_accuracy: 0.6471\n",
      "Epoch 5/50\n",
      "30/30 [==============================] - 12s 394ms/step - loss: 0.5482 - accuracy: 0.6932 - val_loss: 0.5611 - val_accuracy: 0.6723\n",
      "Epoch 6/50\n",
      "30/30 [==============================] - 10s 326ms/step - loss: 0.4696 - accuracy: 0.7738 - val_loss: 0.5120 - val_accuracy: 0.7899\n",
      "Epoch 7/50\n",
      "30/30 [==============================] - 12s 404ms/step - loss: 0.4247 - accuracy: 0.8366 - val_loss: 0.4435 - val_accuracy: 0.8403\n",
      "Epoch 8/50\n",
      "30/30 [==============================] - 9s 313ms/step - loss: 0.3719 - accuracy: 0.8702 - val_loss: 0.4409 - val_accuracy: 0.7983\n",
      "Epoch 9/50\n",
      "30/30 [==============================] - 13s 428ms/step - loss: 0.2881 - accuracy: 0.9026 - val_loss: 0.3658 - val_accuracy: 0.8655\n",
      "Epoch 10/50\n",
      "30/30 [==============================] - 12s 405ms/step - loss: 0.2528 - accuracy: 0.9183 - val_loss: 0.3732 - val_accuracy: 0.8319\n",
      "Epoch 11/50\n",
      "30/30 [==============================] - 10s 354ms/step - loss: 0.1883 - accuracy: 0.9455 - val_loss: 0.3422 - val_accuracy: 0.8235\n",
      "Epoch 12/50\n",
      "30/30 [==============================] - 12s 414ms/step - loss: 0.1670 - accuracy: 0.9529 - val_loss: 0.3303 - val_accuracy: 0.8655\n",
      "Epoch 13/50\n",
      "30/30 [==============================] - 6s 184ms/step - loss: 0.1237 - accuracy: 0.9686 - val_loss: 0.4193 - val_accuracy: 0.7731\n",
      "Epoch 14/50\n",
      "30/30 [==============================] - 5s 179ms/step - loss: 0.1161 - accuracy: 0.9759 - val_loss: 0.3513 - val_accuracy: 0.8235\n",
      "Epoch 15/50\n",
      "30/30 [==============================] - 5s 181ms/step - loss: 0.0793 - accuracy: 0.9832 - val_loss: 0.3860 - val_accuracy: 0.8235\n",
      "Epoch 16/50\n",
      "30/30 [==============================] - 7s 233ms/step - loss: 0.0508 - accuracy: 0.9948 - val_loss: 0.3765 - val_accuracy: 0.7983\n",
      "Epoch 17/50\n",
      "30/30 [==============================] - 13s 429ms/step - loss: 0.0399 - accuracy: 0.9979 - val_loss: 0.3924 - val_accuracy: 0.8151\n",
      "Epoch 18/50\n",
      "30/30 [==============================] - 13s 422ms/step - loss: 0.0310 - accuracy: 0.9958 - val_loss: 0.4214 - val_accuracy: 0.7983\n",
      "Epoch 19/50\n",
      "30/30 [==============================] - 9s 279ms/step - loss: 0.0257 - accuracy: 0.9979 - val_loss: 0.4954 - val_accuracy: 0.8151\n",
      "Epoch 20/50\n",
      "30/30 [==============================] - 12s 415ms/step - loss: 0.0213 - accuracy: 0.9979 - val_loss: 0.4177 - val_accuracy: 0.8235\n",
      "Epoch 21/50\n",
      "30/30 [==============================] - 13s 426ms/step - loss: 0.0135 - accuracy: 0.9979 - val_loss: 0.4261 - val_accuracy: 0.8319\n",
      "Epoch 22/50\n",
      "30/30 [==============================] - 9s 288ms/step - loss: 0.0101 - accuracy: 1.0000 - val_loss: 0.4488 - val_accuracy: 0.8319\n",
      "Epoch 23/50\n",
      "30/30 [==============================] - 12s 412ms/step - loss: 0.0081 - accuracy: 1.0000 - val_loss: 0.4472 - val_accuracy: 0.8151\n",
      "Epoch 24/50\n",
      "30/30 [==============================] - 12s 392ms/step - loss: 0.0073 - accuracy: 1.0000 - val_loss: 0.4758 - val_accuracy: 0.8151\n",
      "Epoch 25/50\n",
      "30/30 [==============================] - 9s 308ms/step - loss: 0.0054 - accuracy: 1.0000 - val_loss: 0.5158 - val_accuracy: 0.7983\n",
      "Epoch 26/50\n",
      "30/30 [==============================] - 9s 313ms/step - loss: 0.0045 - accuracy: 1.0000 - val_loss: 0.5118 - val_accuracy: 0.7899\n",
      "Epoch 27/50\n",
      "30/30 [==============================] - 11s 380ms/step - loss: 0.0046 - accuracy: 1.0000 - val_loss: 0.5803 - val_accuracy: 0.7899\n",
      "Epoch 28/50\n",
      "30/30 [==============================] - 12s 398ms/step - loss: 0.0044 - accuracy: 1.0000 - val_loss: 0.5198 - val_accuracy: 0.8067\n",
      "Epoch 29/50\n",
      "30/30 [==============================] - 8s 275ms/step - loss: 0.0029 - accuracy: 1.0000 - val_loss: 0.5239 - val_accuracy: 0.7899\n",
      "Epoch 30/50\n",
      "30/30 [==============================] - 9s 282ms/step - loss: 0.0024 - accuracy: 1.0000 - val_loss: 0.5206 - val_accuracy: 0.8151\n",
      "Epoch 31/50\n",
      "30/30 [==============================] - 12s 398ms/step - loss: 0.0027 - accuracy: 1.0000 - val_loss: 0.5477 - val_accuracy: 0.8067\n",
      "Epoch 32/50\n",
      "30/30 [==============================] - 13s 433ms/step - loss: 0.0020 - accuracy: 1.0000 - val_loss: 0.5921 - val_accuracy: 0.7815\n",
      "Epoch 33/50\n",
      "30/30 [==============================] - 13s 428ms/step - loss: 0.0019 - accuracy: 1.0000 - val_loss: 0.5676 - val_accuracy: 0.8067\n",
      "Epoch 34/50\n",
      "30/30 [==============================] - 9s 281ms/step - loss: 0.0016 - accuracy: 1.0000 - val_loss: 0.5603 - val_accuracy: 0.7983\n",
      "Epoch 35/50\n",
      "30/30 [==============================] - 13s 425ms/step - loss: 0.0014 - accuracy: 1.0000 - val_loss: 0.5917 - val_accuracy: 0.7983\n",
      "Epoch 36/50\n",
      "30/30 [==============================] - 13s 430ms/step - loss: 0.0012 - accuracy: 1.0000 - val_loss: 0.5728 - val_accuracy: 0.8067\n",
      "Epoch 37/50\n",
      "30/30 [==============================] - 9s 282ms/step - loss: 0.0011 - accuracy: 1.0000 - val_loss: 0.5876 - val_accuracy: 0.7983\n",
      "Epoch 38/50\n",
      "30/30 [==============================] - 13s 423ms/step - loss: 9.9283e-04 - accuracy: 1.0000 - val_loss: 0.5667 - val_accuracy: 0.8151\n",
      "Epoch 39/50\n",
      "30/30 [==============================] - 10s 336ms/step - loss: 9.6920e-04 - accuracy: 1.0000 - val_loss: 0.6193 - val_accuracy: 0.7983\n",
      "Epoch 40/50\n",
      "30/30 [==============================] - 11s 379ms/step - loss: 8.4997e-04 - accuracy: 1.0000 - val_loss: 0.6445 - val_accuracy: 0.7983\n",
      "Epoch 41/50\n",
      "30/30 [==============================] - 12s 411ms/step - loss: 9.2227e-04 - accuracy: 1.0000 - val_loss: 0.5883 - val_accuracy: 0.8067\n",
      "Epoch 42/50\n",
      "30/30 [==============================] - 10s 316ms/step - loss: 8.0995e-04 - accuracy: 1.0000 - val_loss: 0.6387 - val_accuracy: 0.7815\n",
      "Epoch 43/50\n",
      "30/30 [==============================] - 12s 409ms/step - loss: 6.6353e-04 - accuracy: 1.0000 - val_loss: 0.6177 - val_accuracy: 0.7983\n",
      "Epoch 44/50\n",
      "30/30 [==============================] - 13s 444ms/step - loss: 5.3792e-04 - accuracy: 1.0000 - val_loss: 0.6337 - val_accuracy: 0.7899\n",
      "Epoch 45/50\n",
      "30/30 [==============================] - 12s 396ms/step - loss: 5.0864e-04 - accuracy: 1.0000 - val_loss: 0.6489 - val_accuracy: 0.8067\n",
      "Epoch 46/50\n",
      "30/30 [==============================] - 8s 257ms/step - loss: 4.6673e-04 - accuracy: 1.0000 - val_loss: 0.6492 - val_accuracy: 0.7899\n",
      "Epoch 47/50\n",
      "30/30 [==============================] - 8s 249ms/step - loss: 4.2050e-04 - accuracy: 1.0000 - val_loss: 0.6414 - val_accuracy: 0.7983\n",
      "Epoch 48/50\n",
      "30/30 [==============================] - 5s 182ms/step - loss: 3.8417e-04 - accuracy: 1.0000 - val_loss: 0.6646 - val_accuracy: 0.7983\n",
      "Epoch 49/50\n",
      "30/30 [==============================] - 8s 270ms/step - loss: 3.2341e-04 - accuracy: 1.0000 - val_loss: 0.7242 - val_accuracy: 0.8067\n",
      "Epoch 50/50\n",
      "30/30 [==============================] - 13s 418ms/step - loss: 3.0296e-04 - accuracy: 1.0000 - val_loss: 0.6693 - val_accuracy: 0.7983\n"
     ]
    }
   ],
   "source": [
    "# 1b.\n",
    "epochs = 50\n",
    "galNet.compile(optimizer='adam',loss='sparse_categorical_crossentropy',metrics=['accuracy'])\n",
    "history = galNet.fit(train_data, train_labels, validation_data=(test_data, test_labels), epochs=epochs)"
   ]
  },
  {
   "cell_type": "code",
   "execution_count": 16,
   "metadata": {},
   "outputs": [
    {
     "name": "stdout",
     "output_type": "stream",
     "text": [
      "4/4 [==============================] - 0s 35ms/step\n",
      "Class 0 accuracy: 0.9333333333333333\n",
      "Class 1 accuracy: 0.7666666666666667\n",
      "Class 2 accuracy: 0.7241379310344828\n",
      "Training data distribution: [238 515 202]\n",
      "Test data distribution: [30 60 29]\n"
     ]
    }
   ],
   "source": [
    "# 1c.\n",
    "predictions = galNet.predict(test_data)\n",
    "predicted_labels = np.argmax(predictions, axis=1)\n",
    "correct_counts = [0, 0, 0]\n",
    "total_counts = [0, 0, 0]\n",
    "\n",
    "for i in range(len(test_labels)):\n",
    "    true_label = test_labels[i]\n",
    "    predicted_label = predicted_labels[i]\n",
    "\n",
    "    total_counts[true_label] += 1\n",
    "\n",
    "    if true_label == predicted_label:\n",
    "        correct_counts[true_label] += 1\n",
    "        \n",
    "for i in range(3):\n",
    "    accuracy = correct_counts[i] / total_counts[i] if total_counts[i] > 0 else 0\n",
    "    print(f\"Class {i} accuracy: {accuracy}\")\n",
    "\n",
    "print(f\"Training data distribution: {np.bincount(train_labels)}\")\n",
    "print(f\"Test data distribution: {np.bincount(test_labels)}\")"
   ]
  },
  {
   "cell_type": "code",
   "execution_count": 1,
   "metadata": {},
   "outputs": [
    {
     "name": "stderr",
     "output_type": "stream",
     "text": [
      "2024-02-07 15:02:51.454587: I external/local_tsl/tsl/cuda/cudart_stub.cc:31] Could not find cuda drivers on your machine, GPU will not be used.\n",
      "2024-02-07 15:02:51.482959: E external/local_xla/xla/stream_executor/cuda/cuda_dnn.cc:9261] Unable to register cuDNN factory: Attempting to register factory for plugin cuDNN when one has already been registered\n",
      "2024-02-07 15:02:51.482981: E external/local_xla/xla/stream_executor/cuda/cuda_fft.cc:607] Unable to register cuFFT factory: Attempting to register factory for plugin cuFFT when one has already been registered\n",
      "2024-02-07 15:02:51.483560: E external/local_xla/xla/stream_executor/cuda/cuda_blas.cc:1515] Unable to register cuBLAS factory: Attempting to register factory for plugin cuBLAS when one has already been registered\n",
      "2024-02-07 15:02:51.487579: I external/local_tsl/tsl/cuda/cudart_stub.cc:31] Could not find cuda drivers on your machine, GPU will not be used.\n",
      "2024-02-07 15:02:51.487912: I tensorflow/core/platform/cpu_feature_guard.cc:182] This TensorFlow binary is optimized to use available CPU instructions in performance-critical operations.\n",
      "To enable the following instructions: AVX2 FMA, in other operations, rebuild TensorFlow with the appropriate compiler flags.\n",
      "2024-02-07 15:02:51.983613: W tensorflow/compiler/tf2tensorrt/utils/py_utils.cc:38] TF-TRT Warning: Could not find TensorRT\n"
     ]
    }
   ],
   "source": [
    "# 2a.\n",
    "from keras.datasets import cifar10\n",
    "from keras.utils import to_categorical\n",
    "import tensorflow as tf\n",
    "from tensorflow import keras"
   ]
  },
  {
   "cell_type": "code",
   "execution_count": 5,
   "metadata": {},
   "outputs": [],
   "source": [
    "(train_images, train_labels), (test_images, test_labels) = cifar10.load_data()\n",
    "\n",
    "train_images, test_images = train_images / 255.0, test_images / 255.0\n",
    "\n",
    "train_images = train_images.reshape((-1, 32, 32, 3))\n",
    "test_images = test_images.reshape((-1, 32, 32, 3))\n",
    "\n",
    "train_labels = to_categorical(train_labels, num_classes=10)\n",
    "test_labels = to_categorical(test_labels, num_classes=10)"
   ]
  },
  {
   "cell_type": "code",
   "execution_count": 6,
   "metadata": {},
   "outputs": [],
   "source": [
    "# 2b. \n",
    "model = keras.Sequential([\n",
    "    keras.layers.Conv2D(32, (3, 3), activation='relu', input_shape=(32, 32, 3)),\n",
    "    keras.layers.MaxPooling2D((2, 2)),\n",
    "    keras.layers.Conv2D(64, (3, 3), activation='relu'),\n",
    "    keras.layers.MaxPooling2D((2, 2)),\n",
    "    keras.layers.Flatten(),\n",
    "    keras.layers.Dense(64, activation='relu'),\n",
    "    keras.layers.Dense(10, activation='softmax')\n",
    "])"
   ]
  },
  {
   "cell_type": "code",
   "execution_count": 7,
   "metadata": {},
   "outputs": [
    {
     "name": "stdout",
     "output_type": "stream",
     "text": [
      "Epoch 1/20\n",
      "1250/1250 [==============================] - 8s 6ms/step - loss: 1.5221 - accuracy: 0.4464 - val_loss: 1.2709 - val_accuracy: 0.5522\n",
      "Epoch 2/20\n",
      "1250/1250 [==============================] - 7s 5ms/step - loss: 1.1679 - accuracy: 0.5886 - val_loss: 1.1326 - val_accuracy: 0.6027\n",
      "Epoch 3/20\n",
      "1250/1250 [==============================] - 7s 5ms/step - loss: 1.0282 - accuracy: 0.6408 - val_loss: 1.0176 - val_accuracy: 0.6471\n",
      "Epoch 4/20\n",
      "1250/1250 [==============================] - 7s 5ms/step - loss: 0.9344 - accuracy: 0.6755 - val_loss: 0.9698 - val_accuracy: 0.6658\n",
      "Epoch 5/20\n",
      "1250/1250 [==============================] - 7s 5ms/step - loss: 0.8719 - accuracy: 0.6952 - val_loss: 0.9412 - val_accuracy: 0.6787\n",
      "Epoch 6/20\n",
      "1250/1250 [==============================] - 7s 5ms/step - loss: 0.8094 - accuracy: 0.7190 - val_loss: 0.9423 - val_accuracy: 0.6786\n",
      "Epoch 7/20\n",
      "1250/1250 [==============================] - 7s 5ms/step - loss: 0.7619 - accuracy: 0.7347 - val_loss: 0.9284 - val_accuracy: 0.6884\n",
      "Epoch 8/20\n",
      "1250/1250 [==============================] - 7s 5ms/step - loss: 0.7126 - accuracy: 0.7513 - val_loss: 0.9515 - val_accuracy: 0.6769\n",
      "Epoch 9/20\n",
      "1250/1250 [==============================] - 7s 5ms/step - loss: 0.6759 - accuracy: 0.7645 - val_loss: 0.9328 - val_accuracy: 0.6888\n",
      "Epoch 10/20\n",
      "1250/1250 [==============================] - 7s 6ms/step - loss: 0.6354 - accuracy: 0.7784 - val_loss: 0.9314 - val_accuracy: 0.6916\n",
      "Epoch 11/20\n",
      "1250/1250 [==============================] - 7s 5ms/step - loss: 0.6026 - accuracy: 0.7886 - val_loss: 0.9659 - val_accuracy: 0.6874\n",
      "Epoch 12/20\n",
      "1250/1250 [==============================] - 7s 5ms/step - loss: 0.5691 - accuracy: 0.8007 - val_loss: 0.9622 - val_accuracy: 0.6955\n",
      "Epoch 13/20\n",
      "1250/1250 [==============================] - 7s 5ms/step - loss: 0.5332 - accuracy: 0.8132 - val_loss: 1.0050 - val_accuracy: 0.6861\n",
      "Epoch 14/20\n",
      "1250/1250 [==============================] - 7s 5ms/step - loss: 0.5044 - accuracy: 0.8236 - val_loss: 1.0392 - val_accuracy: 0.6858\n",
      "Epoch 15/20\n",
      "1250/1250 [==============================] - 7s 5ms/step - loss: 0.4780 - accuracy: 0.8321 - val_loss: 1.0434 - val_accuracy: 0.6910\n",
      "Epoch 16/20\n",
      "1250/1250 [==============================] - 7s 5ms/step - loss: 0.4445 - accuracy: 0.8429 - val_loss: 1.1169 - val_accuracy: 0.6881\n",
      "Epoch 17/20\n",
      "1250/1250 [==============================] - 7s 5ms/step - loss: 0.4174 - accuracy: 0.8538 - val_loss: 1.1186 - val_accuracy: 0.6836\n",
      "Epoch 18/20\n",
      "1250/1250 [==============================] - 7s 6ms/step - loss: 0.3923 - accuracy: 0.8637 - val_loss: 1.2042 - val_accuracy: 0.6823\n",
      "Epoch 19/20\n",
      "1250/1250 [==============================] - 7s 6ms/step - loss: 0.3728 - accuracy: 0.8683 - val_loss: 1.2296 - val_accuracy: 0.6818\n",
      "Epoch 20/20\n",
      "1250/1250 [==============================] - 7s 6ms/step - loss: 0.3448 - accuracy: 0.8783 - val_loss: 1.2444 - val_accuracy: 0.6788\n"
     ]
    },
    {
     "data": {
      "text/plain": [
       "<keras.src.callbacks.History at 0x7effc46435d0>"
      ]
     },
     "execution_count": 7,
     "metadata": {},
     "output_type": "execute_result"
    }
   ],
   "source": [
    "# 2c. training for 20 epochs\n",
    "model.compile(optimizer='adam',\n",
    "              loss='categorical_crossentropy',\n",
    "              metrics=['accuracy'])\n",
    "\n",
    "model.fit(train_images, train_labels, epochs=20, validation_split=0.2)"
   ]
  },
  {
   "cell_type": "markdown",
   "metadata": {},
   "source": [
    "### 2d.\n",
    "Image augmentation can be useful to improve model generalization. Some common augmentations for this dataset include:\n",
    "- Random horizontal flip: Reflecting an image horizontally.\n",
    "- Random rotation: Rotating the image by a certain degree.\n",
    "- Width and height shift: Shifting the image horizontally or vertically.\n",
    "- Zoom range: Zooming into or out of the image.\n",
    "\n",
    "```py\n",
    "# Example:\n",
    "datagen = keras.preprocessing.image.ImageDataGenerator(\n",
    "    rotation_range=20,\n",
    "    width_shift_range=0.2,\n",
    "    height_shift_range=0.2,\n",
    "    horizontal_flip=True,\n",
    "    zoom_range=0.1\n",
    ")\n",
    "\n",
    "# Applying augmentation during training\n",
    "augmented_train_data = datagen.flow(train_images, train_labels)\n",
    "\n",
    "model.fit(augmented_train_data, epochs=20, validation_data=(test_images, test_labels))\n",
    "```"
   ]
  }
 ],
 "metadata": {
  "interpreter": {
   "hash": "098b6707bb4d57eb12a2c3ccb2ba5d8a46b3e4b7830e3a9b994bb36d94b7693a"
  },
  "kernelspec": {
   "display_name": "Python 3.11.4 ('base': conda)",
   "language": "python",
   "name": "python3"
  },
  "language_info": {
   "codemirror_mode": {
    "name": "ipython",
    "version": 3
   },
   "file_extension": ".py",
   "mimetype": "text/x-python",
   "name": "python",
   "nbconvert_exporter": "python",
   "pygments_lexer": "ipython3",
   "version": "3.11.4"
  },
  "orig_nbformat": 4
 },
 "nbformat": 4,
 "nbformat_minor": 2
}
