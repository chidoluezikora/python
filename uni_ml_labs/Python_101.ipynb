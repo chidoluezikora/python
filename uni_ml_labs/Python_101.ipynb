{
 "cells": [
  {
   "cell_type": "markdown",
   "id": "e740b067",
   "metadata": {},
   "source": [
    "# Python 101"
   ]
  },
  {
   "cell_type": "markdown",
   "id": "14e0fc16",
   "metadata": {},
   "source": [
    "Python is an object-oriented high-level language that originated in the 1990s and aims to stand out through clarity, readability, and a simple syntax. The _Zen of Python_ encompasses design principles such as:\n",
    "\n",
    "- Beautiful is better than ugly.\n",
    "- Explicit is better than implicit.\n",
    "- Simple is better than complex.\n",
    "- Readability counts.\n",
    "- Practicality beats purity.\n",
    "- Errors should never pass silently.\n",
    "- There should be one obvious way to do it.\n",
    "- If the implementation is hard to explain, it's a bad idea.\n",
    "\n",
    "Learn more at https://en.wikipedia.org/wiki/Zen_of_Python.\n",
    "\n",
    "The syntax is heavily influenced by Java and C, in many ways, Python appears as a hybrid of these two languages. Today, Python enjoys great popularity, especially in fields like data science and machine learning.\n",
    "\n",
    "## Interpreted, not compiled\n",
    "\n",
    "One significant difference from compiled languages like Java and C is that Python programs don't need to be translated into executable code first; they are interpreted at runtime. Therefore, it is often referred to as a scripting language. Traditionally, we start our journey with a \"Hello World!\" example:"
   ]
  },
  {
   "cell_type": "code",
   "execution_count": null,
   "id": "ef353d93",
   "metadata": {},
   "outputs": [],
   "source": [
    "print(\"Hello World!\")"
   ]
  },
  {
   "cell_type": "markdown",
   "id": "bfe1d384",
   "metadata": {},
   "source": [
    "## Everything is an object\n",
    "\n",
    "Python continues on the path established by Java and is strictly object-oriented. All data structures can be traced back to seven fundamental classes:\n",
    "\n",
    "![TYPES](Python_3_types.png)\n",
    "\n",
    "The data types for integers or floating-point numbers known from C and Java are also classes in Python. While C and Java determine data types at compile-time (static typing), Python is much more flexible in this regard:"
   ]
  },
  {
   "cell_type": "code",
   "execution_count": null,
   "id": "547e47e5",
   "metadata": {},
   "outputs": [],
   "source": [
    "num_1 = 3\n",
    "num_2 = 4\n",
    "num_3 = num_1 / num_2 # Python supports all common operators: + - * / // **\n",
    "\n",
    "print(num_3) # The print function not only accepts strings but can generate output for almost any class\n",
    "print(f\"Result of my calculation as an integer: {num_3}\") # f-Strings allow you to insert variables into strings\n",
    "print(type(num_3)) # The type function determines the data type"
   ]
  },
  {
   "cell_type": "markdown",
   "id": "1e12b4c1",
   "metadata": {},
   "source": [
    "## Dynamic Typing\n",
    "\n",
    "The _data types_ of variables in Python are dynamic and typically do not need to be explicitly specified. Python almost always recognizes which data type is most appropriate to represent the content. Explicit conversions are possible at any time using the functions `int`, `float`, or `str`."
   ]
  },
  {
   "cell_type": "code",
   "execution_count": null,
   "id": "f7a82282",
   "metadata": {},
   "outputs": [],
   "source": [
    "print(1+3)\n",
    "print(int(7/3))\n",
    "print(\"Hello\"+\" \"+\"World\")\n",
    "print(str(10)+str(11))"
   ]
  },
  {
   "cell_type": "markdown",
   "id": "1e9ca625",
   "metadata": {},
   "source": [
    "## Assignments\n",
    "\n",
    "Assignments work just like in any other programming language. In contrast to low-level languages such as C, we don't have to care about data types:"
   ]
  },
  {
   "cell_type": "code",
   "execution_count": null,
   "id": "4aff3d6b",
   "metadata": {},
   "outputs": [],
   "source": [
    "i = 3 # Integer\n",
    "flt = 1.2 # Float/Double\n",
    "\n",
    "str1 = \"Hello\" # String\n",
    "str2 = \"World\"\n",
    "\n",
    "primes = [1,2,3,5,7,11,13,17,19] # List (mutable)\n",
    "\n",
    "names = [\"Mercury\",\"Venus\",\"Earth\",\"Mars\",\"Jupyter\",\"Saturn\",\"Uranus\",\"Neptune\",\"Pluto\"]\n",
    "radii = [2440,6050,6380,3400,71500,60300,25600,24800,1150] # planetary radii in kilometres\n",
    "\n",
    "planets = [names, radii] # Nested list with inhomogenous elements"
   ]
  },
  {
   "cell_type": "markdown",
   "id": "8cef97e4",
   "metadata": {},
   "source": [
    "## Output\n",
    "\n",
    "Just as C, Python has a generic ``print`` function for output into stdout. However, we don't need to bother about cryptic placeholders such as ``%lf`` or ``%d``:"
   ]
  },
  {
   "cell_type": "code",
   "execution_count": null,
   "id": "530965f7",
   "metadata": {},
   "outputs": [],
   "source": [
    "print(\"Variable i =\", i,\", data type\", type(i))\n",
    "print(\"Variable flt =\", flt , \", data type\", type(flt))\n",
    "print(\"Variable str1 =\", str1,\", data type\", type(str1))\n",
    "print(f\"Variable i = {i}\")"
   ]
  },
  {
   "cell_type": "markdown",
   "id": "c72f19f9",
   "metadata": {},
   "source": [
    "Printing lists:"
   ]
  },
  {
   "cell_type": "code",
   "execution_count": null,
   "id": "b33f5222",
   "metadata": {},
   "outputs": [],
   "source": [
    "print(\"List\", primes,\", data type\", type(primes))\n",
    "print(\"List Element prime[0] = \", primes[0],\", data type\", type(primes[0]))"
   ]
  },
  {
   "cell_type": "code",
   "execution_count": null,
   "id": "806d4f0b",
   "metadata": {},
   "outputs": [],
   "source": [
    "print(names)"
   ]
  },
  {
   "cell_type": "markdown",
   "id": "9f19c46c",
   "metadata": {},
   "source": [
    "Nested lists involve a second index:"
   ]
  },
  {
   "cell_type": "code",
   "execution_count": null,
   "id": "d9f8e04b",
   "metadata": {},
   "outputs": [],
   "source": [
    "print( \"Printing nested lists:\", planets[0] ) # Omit the second index and you are prompted with the full list\n",
    "print( \"Accessing nested list elements:\", planets[0][0],planets[1][0],\"\\n\")\n",
    "\n",
    "idx = 2\n",
    "print(\"Planet\", planets[0][idx],\"has a radius of\",planets[1][idx],\"kilometres\")"
   ]
  },
  {
   "cell_type": "markdown",
   "id": "3e0586b8",
   "metadata": {},
   "source": [
    "## Basic arithmetics\n",
    "\n",
    "Python supports all generic arithmetic and logical operators. In addition, it has a built-in power function:"
   ]
  },
  {
   "cell_type": "code",
   "execution_count": null,
   "id": "3a414213",
   "metadata": {},
   "outputs": [],
   "source": [
    "a = 42\n",
    "b = 23\n",
    "c = 1/3\n",
    "\n",
    "print(\"My random calculation:\", a * (b+0.25) ** c )"
   ]
  },
  {
   "cell_type": "code",
   "execution_count": null,
   "id": "fc337d27",
   "metadata": {},
   "outputs": [],
   "source": [
    "x = 1\n",
    "y = 2\n",
    "z = 1.\n",
    "\n",
    "print( x == 2, x != 2 )\n",
    "print( x == int(z), x == 2 )\n",
    "print( x < y ,\"\\n\")\n",
    "\n",
    "bool1 = True\n",
    "bool2 = False\n",
    "\n",
    "print( bool1 and bool2 )\n",
    "print( bool1 or bool2 )"
   ]
  },
  {
   "cell_type": "markdown",
   "id": "24c17fbe",
   "metadata": {},
   "source": [
    "But what happens, when we try to do basic arithmetics with string objects?"
   ]
  },
  {
   "cell_type": "code",
   "execution_count": null,
   "id": "c7a7ee49",
   "metadata": {},
   "outputs": [],
   "source": [
    "print(2*str1)"
   ]
  },
  {
   "cell_type": "markdown",
   "id": "d4ec3fdc",
   "metadata": {},
   "source": [
    "It looks nicer with a whitespace in between though ..."
   ]
  },
  {
   "cell_type": "code",
   "execution_count": null,
   "id": "c091d7cb",
   "metadata": {},
   "outputs": [],
   "source": [
    "print(str1+\" \"+str2)"
   ]
  },
  {
   "cell_type": "markdown",
   "id": "719a9a7f",
   "metadata": {},
   "source": [
    "More on that in the chapter \"String Operations\"."
   ]
  },
  {
   "cell_type": "markdown",
   "id": "dac0316c",
   "metadata": {},
   "source": [
    "## List operations"
   ]
  },
  {
   "cell_type": "markdown",
   "id": "5dccca8c",
   "metadata": {},
   "source": [
    "Generic operators also work on lists:"
   ]
  },
  {
   "cell_type": "code",
   "execution_count": null,
   "id": "e41acd43",
   "metadata": {},
   "outputs": [],
   "source": [
    "print(2 * names)\n",
    "print(\"\\n\")\n",
    "print(names+names)"
   ]
  },
  {
   "cell_type": "markdown",
   "id": "6ed12144",
   "metadata": {},
   "source": [
    "To modify a given list, the most common methods are ``extend`` and ``append``. While the former adds every argument as an individual list element, the latter just creates a single new element, resulting in a nested list if we pass a list as argument."
   ]
  },
  {
   "cell_type": "code",
   "execution_count": null,
   "id": "a916b2b4",
   "metadata": {},
   "outputs": [],
   "source": [
    "tnos = [\"Haumea\", \"Makemake\", \"Eris\"] # short for trans-neptunian objects\n",
    "names.extend( tnos )\n",
    "print ( names )"
   ]
  },
  {
   "cell_type": "markdown",
   "id": "1c2020ff",
   "metadata": {},
   "source": [
    "Removing items can be carried out either by simply specifying the index or by item matching:"
   ]
  },
  {
   "cell_type": "code",
   "execution_count": null,
   "id": "a0e4716e",
   "metadata": {},
   "outputs": [],
   "source": [
    "del names[-1] # -1 is the last item, -2 the second-last, ...\n",
    "print(names)"
   ]
  },
  {
   "cell_type": "code",
   "execution_count": null,
   "id": "53f142b4",
   "metadata": {},
   "outputs": [],
   "source": [
    "names.remove(\"Makemake\") # Item matching\n",
    "print(names)"
   ]
  },
  {
   "cell_type": "markdown",
   "id": "532f4ede",
   "metadata": {},
   "source": [
    "We can also pass a range of elements to be removed:"
   ]
  },
  {
   "cell_type": "code",
   "execution_count": null,
   "id": "bcfec4a1",
   "metadata": {},
   "outputs": [],
   "source": [
    "del names[-2:] # Leaving the upper bound empty means that we take all elements up to the last one\n",
    "print(names)"
   ]
  },
  {
   "cell_type": "markdown",
   "id": "a70b05b9",
   "metadata": {},
   "source": [
    "Some of you may have noticed that we have mispelled Jupiter ... let's remove it and insert the right name at the correct position:"
   ]
  },
  {
   "cell_type": "code",
   "execution_count": null,
   "id": "cce5aef0",
   "metadata": {},
   "outputs": [],
   "source": [
    "names.remove(\"Jupyter\")\n",
    "names.insert(4, \"Jupiter\") # Insert at position 4\n",
    "print(names)"
   ]
  },
  {
   "cell_type": "markdown",
   "id": "45207e63",
   "metadata": {},
   "source": [
    "How can we check if a given element is member of a list?"
   ]
  },
  {
   "cell_type": "code",
   "execution_count": null,
   "id": "91556bc2",
   "metadata": {},
   "outputs": [],
   "source": [
    "print(\"Pluto\" in names)\n",
    "print(names.index(\"Jupiter\")) # Returns the index of the first match"
   ]
  },
  {
   "cell_type": "markdown",
   "id": "a7d87ec2",
   "metadata": {},
   "source": [
    "One of the most important list (and array) operation is slicing, i.e. creating sublists:"
   ]
  },
  {
   "cell_type": "code",
   "execution_count": null,
   "id": "cadda292",
   "metadata": {},
   "outputs": [],
   "source": [
    "# General syntax: list[start:end:step]\n",
    "print(\"Reversed order:\", names[::-1])\n",
    "print(\"Inner planets:\", names[:4]) # Note that this statement includes elements 0, 1, 2, 3\n",
    "print(\"Outer planets:\", names[4:])\n",
    "print(\"Every second planet:\", names[::2])"
   ]
  },
  {
   "cell_type": "markdown",
   "id": "1b3fa5c1",
   "metadata": {},
   "source": [
    "When we're dealing with lists of numbers, a common task is creating a simple sequence of numbers with some start, end and step size:"
   ]
  },
  {
   "cell_type": "code",
   "execution_count": null,
   "id": "15a0348c",
   "metadata": {},
   "outputs": [],
   "source": [
    "grid = range(0, 17, 1) # Start, upper boundary, step size (integer)\n",
    "\n",
    "print(list(grid))"
   ]
  },
  {
   "cell_type": "markdown",
   "id": "32c5ddf1",
   "metadata": {},
   "source": [
    "## Iterations"
   ]
  },
  {
   "cell_type": "markdown",
   "id": "5f93eab4",
   "metadata": {},
   "source": [
    "We can iterate through a list to do stuff with the list elements:"
   ]
  },
  {
   "cell_type": "code",
   "execution_count": null,
   "id": "27d41dd6",
   "metadata": {},
   "outputs": [],
   "source": [
    "names = [\"Alex\", \"Willy\", \"Francis\", \"Max\", \"John\"]\n",
    "\n",
    "for name in names:\n",
    "    print(name,\"has\",len(name),\"characters.\")"
   ]
  },
  {
   "cell_type": "markdown",
   "id": "29f9532e",
   "metadata": {},
   "source": [
    "A string can be handled like a list of characters:"
   ]
  },
  {
   "cell_type": "code",
   "execution_count": null,
   "id": "1212e9ef",
   "metadata": {},
   "outputs": [],
   "source": [
    "string = \"network\"\n",
    "\n",
    "for char in string:\n",
    "    print(char)"
   ]
  },
  {
   "cell_type": "code",
   "execution_count": null,
   "id": "2ab2922f",
   "metadata": {},
   "outputs": [],
   "source": [
    "string = \"incomprehensibilities\"\n",
    "\n",
    "print(string[:5]) # First five characters\n",
    "print(string[-5:]) # Last five characters\n",
    "print(string[3:7]) # Fourth to seventh character\n",
    "print(string[::3]) # Every third character"
   ]
  },
  {
   "cell_type": "code",
   "execution_count": null,
   "id": "de1a60fc",
   "metadata": {},
   "outputs": [],
   "source": [
    "for name in names:\n",
    "    eman = name[::-1] # \n",
    "    eman = eman.lower()\n",
    "    eman = eman.capitalize()\n",
    "    print(name,\"spelled backwards is\",eman)"
   ]
  },
  {
   "cell_type": "markdown",
   "id": "c176b068",
   "metadata": {},
   "source": [
    "List comprehensions are an elegant way to initialize more sophisticated lists in a single line:"
   ]
  },
  {
   "cell_type": "code",
   "execution_count": null,
   "id": "91e83590",
   "metadata": {},
   "outputs": [],
   "source": [
    "n = 10\n",
    "d5 = [ 5 * x + 3 for x in range(n) if x % 2 == 0 ] # range creates a list of numbers we are iterating through: 0, 1, 2, ... 9\n",
    "\n",
    "print(d5)\n",
    "\n",
    "names = [\"Alexander\", \"Wilhelm\", \"Franziskus\", \"Maximilian\", \"Johannes\"]\n",
    "lengths = [ len(name) for name in names ]\n",
    "\n",
    "print(lengths)"
   ]
  },
  {
   "cell_type": "markdown",
   "id": "e345ff67",
   "metadata": {},
   "source": [
    "If you need to address multiple lists by a single index, you can also just use a simple C-style loop:"
   ]
  },
  {
   "cell_type": "code",
   "execution_count": null,
   "id": "e3561831",
   "metadata": {},
   "outputs": [],
   "source": [
    "n = 3\n",
    "names = [\"Tim\", \"Anne\", \"Rob\"]\n",
    "apples = [34,24,21]\n",
    "\n",
    "for i in range(0,n,1): # First value, upper bound, step size\n",
    "    print(names[i],\"has\",apples[i],\"apples.\")"
   ]
  },
  {
   "cell_type": "markdown",
   "id": "45fe1cbe",
   "metadata": {},
   "source": [
    "However, a more pythonic approach is using the ``zip`` function to combine two (or more) lists into a single iterator: "
   ]
  },
  {
   "cell_type": "code",
   "execution_count": null,
   "id": "39d407e7",
   "metadata": {},
   "outputs": [],
   "source": [
    "for stuff in zip(names,apples): # First value, upper bound, step size\n",
    "    print(stuff[0],\"has\",stuff[1],\"apples.\")"
   ]
  },
  {
   "cell_type": "markdown",
   "id": "f8384405",
   "metadata": {},
   "source": [
    "Every first element is paired with every first element of the input lists, every second element with every second, and so on."
   ]
  },
  {
   "cell_type": "markdown",
   "id": "6363dadd",
   "metadata": {},
   "source": [
    "### Importing libraries"
   ]
  },
  {
   "cell_type": "markdown",
   "id": "beef619e",
   "metadata": {},
   "source": [
    "Python features thousands of libraries (refered to as modules) such as the generic math library:"
   ]
  },
  {
   "cell_type": "code",
   "execution_count": null,
   "id": "59b56f47",
   "metadata": {},
   "outputs": [],
   "source": [
    "import math"
   ]
  },
  {
   "cell_type": "markdown",
   "id": "b9417917",
   "metadata": {},
   "source": [
    "Python is a object-orientated programming language, everything is an object. We can check what kind of object the library is we've just imported:"
   ]
  },
  {
   "cell_type": "code",
   "execution_count": null,
   "id": "f00b77e8",
   "metadata": {
    "scrolled": true
   },
   "outputs": [],
   "source": [
    "print(type(math))\n",
    "print(dir(math))"
   ]
  },
  {
   "cell_type": "code",
   "execution_count": null,
   "id": "b375806d",
   "metadata": {},
   "outputs": [],
   "source": [
    "print(math.cos(0))"
   ]
  },
  {
   "cell_type": "markdown",
   "id": "85519e5f",
   "metadata": {},
   "source": [
    "Strictly speaking, ``math`` is a class that provides us with methods. In order to access a method, we use the dot operator:"
   ]
  },
  {
   "cell_type": "code",
   "execution_count": null,
   "id": "8514e8f3",
   "metadata": {},
   "outputs": [],
   "source": [
    "val = 2\n",
    "print(\"The squareroot of\",val,\"is\",math.sqrt(val))\n",
    "\n",
    "res = math.exp(42) * math.log(1) + 42 * math.sin( math.pi ) / math.cos( math.pi )\n",
    "\n",
    "print(\"Result of our random calculation:\", res)\n",
    "print(math.exp(42) * math.log(1))\n",
    "print(42 * math.sin( math.pi ) / math.cos( math.pi ))"
   ]
  },
  {
   "cell_type": "markdown",
   "id": "7682a991",
   "metadata": {},
   "source": [
    "One of the most frequently used libraries is ``Matplotlib`` which provides powerful plotting and data visualization functions:"
   ]
  },
  {
   "cell_type": "code",
   "execution_count": null,
   "id": "cb40702c",
   "metadata": {},
   "outputs": [],
   "source": [
    "import matplotlib.pyplot as plt\n",
    "%matplotlib inline \n",
    "# By default, plots are opened in a new window. We don't want that\n",
    "\n",
    "x = [0.1*val for val in range(-30,31,1)]\n",
    "y = [xs*math.exp(-xs**2) for xs in x]\n",
    "\n",
    "plt.figure(figsize=(15,10))\n",
    "plt.plot(x, y, color='blue', linewidth=5)\n",
    "plt.xlim(-3,3)\n",
    "plt.ylim(-1,1)\n",
    "plt.xlabel('x')\n",
    "plt.ylabel('y')\n",
    "plt.show()"
   ]
  },
  {
   "cell_type": "markdown",
   "id": "89372ae3",
   "metadata": {},
   "source": [
    "## Functions"
   ]
  },
  {
   "cell_type": "markdown",
   "id": "d205e9d3",
   "metadata": {},
   "source": [
    "Functions work just like in any other programming languages: They have a name, a list of arguments, local variables and can return a value:"
   ]
  },
  {
   "cell_type": "code",
   "execution_count": null,
   "id": "370c1d31",
   "metadata": {},
   "outputs": [],
   "source": [
    "def f(x): # You don't need to provide a data type\n",
    "    a = 2.5\n",
    "    b = 4.0\n",
    "    return a*x**2-b\n",
    "\n",
    "x = 2\n",
    "\n",
    "print(\"f (\",x,\") =\",f(2))"
   ]
  },
  {
   "cell_type": "markdown",
   "id": "f6e7f875",
   "metadata": {},
   "source": [
    "Python is neither strictly *call by reference* nor strictly *call by value*. \"Normal\" data types such as ``int``, ``float/double`` or ``string`` are called by value and the function receives a copy of the variable:"
   ]
  },
  {
   "cell_type": "code",
   "execution_count": null,
   "id": "92eda434",
   "metadata": {},
   "outputs": [],
   "source": [
    "def double_val(x):\n",
    "    x = 2*x\n",
    "    print(id(x))\n",
    "\n",
    "x = 3\n",
    "print(id(x))\n",
    "double_val(x)    \n",
    "#print(x)"
   ]
  },
  {
   "cell_type": "markdown",
   "id": "0d641855",
   "metadata": {},
   "source": [
    "On the other hand, list that are passed as argument can be manipulated inside the function with permanent effect:"
   ]
  },
  {
   "cell_type": "code",
   "execution_count": null,
   "id": "5299a0bc",
   "metadata": {},
   "outputs": [],
   "source": [
    "def append_sum(numList):\n",
    "    numList.append( sum(numList) )\n",
    "\n",
    "myList = [1,2,3]\n",
    "\n",
    "append_sum(myList)\n",
    "\n",
    "print(myList)"
   ]
  },
  {
   "cell_type": "markdown",
   "id": "c38926d3",
   "metadata": {},
   "source": [
    "As expected, we can also work with strings:"
   ]
  },
  {
   "cell_type": "code",
   "execution_count": null,
   "id": "ed6a7716",
   "metadata": {},
   "outputs": [],
   "source": [
    "def count_vowels(string):\n",
    "    vowels = list(\"aeiou\") # Typecast string into list\n",
    "    num = 0\n",
    "    for vow in vowels:\n",
    "        num += string.count(vow)\n",
    "        \n",
    "    return num\n",
    "\n",
    "print(count_vowels(\"fusion reactors are just around the corner\"))"
   ]
  },
  {
   "cell_type": "markdown",
   "id": "fdd465e9",
   "metadata": {},
   "source": [
    "To apply some function to all elements of a list, we can again work with list comprehensions:"
   ]
  },
  {
   "cell_type": "code",
   "execution_count": null,
   "id": "ddb4def7",
   "metadata": {},
   "outputs": [],
   "source": [
    "x = [1,2,3]\n",
    "\n",
    "y = [f(xi) for xi in x]\n",
    "\n",
    "print(y)"
   ]
  },
  {
   "cell_type": "markdown",
   "id": "2e8a9d58",
   "metadata": {},
   "source": [
    "Or we can use the ``map`` function and convert its output back to a list:"
   ]
  },
  {
   "cell_type": "code",
   "execution_count": null,
   "id": "83bf1e38",
   "metadata": {},
   "outputs": [],
   "source": [
    "z = list(map(f,x))\n",
    "\n",
    "print(z)"
   ]
  },
  {
   "cell_type": "markdown",
   "id": "3c82f004",
   "metadata": {},
   "source": [
    "Remember that functions have their own stack of variables:"
   ]
  },
  {
   "cell_type": "code",
   "execution_count": null,
   "id": "952f2f68",
   "metadata": {},
   "outputs": [],
   "source": [
    "def some_func():\n",
    "    x = 10\n",
    "    print(\"Value inside function:\",x)\n",
    "\n",
    "x = 20\n",
    "some_func()\n",
    "print(\"Value outside function:\",x)"
   ]
  },
  {
   "cell_type": "markdown",
   "id": "76aec275",
   "metadata": {},
   "source": [
    "Using tuples (i.e., immutable lists), functions can return more than one result:"
   ]
  },
  {
   "cell_type": "code",
   "execution_count": null,
   "id": "29690536",
   "metadata": {},
   "outputs": [],
   "source": [
    "def pq_formula(p,q):\n",
    "    diskSq = math.sqrt((p/2)**2-q)\n",
    "    return (-p/2+diskSq, -p/2-diskSq)\n",
    "\n",
    "# x**2 + px + q = 0\n",
    "\n",
    "p = 2\n",
    "q = -8\n",
    "x1, x2 = pq_formula(p,q)\n",
    "\n",
    "print(\"Equation:\", p,\"* x**2 +\",p,\"* x +\",q)\n",
    "print(\"Solutions: x1 =\",x1,\"; x2 =\", x2)"
   ]
  },
  {
   "cell_type": "markdown",
   "id": "49120cf3",
   "metadata": {},
   "source": [
    "Function arguments can have default values that are adopted if the respective argument is omitted:"
   ]
  },
  {
   "cell_type": "code",
   "execution_count": null,
   "id": "54cd2328",
   "metadata": {},
   "outputs": [],
   "source": [
    "def gauss(x, mu = 0, sig = 1):\n",
    "    return (1/(math.sqrt(2*math.pi*sig**2)))*math.exp( -(x-mu)**2/(2*sig**2) )\n",
    "\n",
    "print( gauss(0.5) )\n",
    "print( gauss(0.5, mu=1.5) )\n",
    "print( gauss(-0.25, -1, 0.25) )"
   ]
  },
  {
   "cell_type": "markdown",
   "id": "ccdf9908",
   "metadata": {},
   "source": [
    "If we don't know the number of arguments we will be dealing with, we can use an argument vector:"
   ]
  },
  {
   "cell_type": "code",
   "execution_count": null,
   "id": "cbfb4f0c",
   "metadata": {},
   "outputs": [],
   "source": [
    "def adder(*num):\n",
    "    sum = 0\n",
    "        \n",
    "    for n in num:\n",
    "        sum = sum + n\n",
    "    print(\"Sum:\",sum)\n",
    "\n",
    "adder(3,5)\n",
    "adder(4,5,6,7)\n",
    "adder(1,2,3,5,6)"
   ]
  },
  {
   "cell_type": "markdown",
   "id": "6260dda6",
   "metadata": {},
   "source": [
    "Everything can be a function argument - even functions. "
   ]
  },
  {
   "cell_type": "code",
   "execution_count": null,
   "id": "95d6bdf5",
   "metadata": {},
   "outputs": [],
   "source": [
    "def f(x):\n",
    "    return x*math.exp(-x**2)\n",
    "\n",
    "def g(x):\n",
    "    return -2*x**2+4\n",
    "\n",
    "def integrateTrap(f, x_l, x_u, n):\n",
    "    h = (x_u-x_l)/n\n",
    "    parts = [f(x_l+k*h) for k in range(1,n)]\n",
    "    return 0.5 * h * (f(x_l) + f(x_u) + 2*sum(parts))\n",
    "\n",
    "print( integrateTrap(f, 0, 2, 10000) )\n",
    "print( integrateTrap(g, 0, 2, 10000) )"
   ]
  },
  {
   "cell_type": "markdown",
   "id": "7321bd36",
   "metadata": {},
   "source": [
    "Thanks to the argument vector ``*args``, we can even deal with functions that have more than one argument: "
   ]
  },
  {
   "cell_type": "code",
   "execution_count": null,
   "id": "67a9b9df",
   "metadata": {},
   "outputs": [],
   "source": [
    "def integrateTrap(f, x_l, x_u, n, *args):\n",
    "    h = (x_u-x_l)/n\n",
    "    parts = [f(x_l+k*h, *args) for k in range(1,n)] # The argument vector is passed on to the function f\n",
    "    return 0.5*h*(f(x_l, *args)+f(x_u, *args)+ 2*sum(parts))\n",
    "\n",
    "print( integrateTrap(gauss, -2, 2, 10000) ) # The argument vector is empty\n",
    "print( integrateTrap(gauss, 8, 11, 10000, 10, 2) ) # The argument vector contains two arguments"
   ]
  },
  {
   "cell_type": "markdown",
   "id": "2e94d5c8",
   "metadata": {},
   "source": [
    "## Flow control"
   ]
  },
  {
   "cell_type": "markdown",
   "id": "0a9459b8",
   "metadata": {},
   "source": [
    "Naturally, Python has classic ``if`` constructs to execute different codes branches depending on one or more conditions:"
   ]
  },
  {
   "cell_type": "code",
   "execution_count": null,
   "id": "ce5f4db0",
   "metadata": {},
   "outputs": [],
   "source": [
    "def numCheck(num):\n",
    "    if num > 0:    \n",
    "        return \"a positive number\"\n",
    "    elif num == 0:\n",
    "        return \"zero\"\n",
    "    else:\n",
    "        return \"a negative number\"\n",
    "\n",
    "num = 5 \n",
    "print(num, \"is\", numCheck(num))"
   ]
  },
  {
   "cell_type": "markdown",
   "id": "e5f1bd82",
   "metadata": {},
   "source": [
    "``for`` loops have already been introduced. While iterating through a list (``for elem in list:``) is the most elegant way to do ``for`` loops in Python, classic indexed loops also work:"
   ]
  },
  {
   "cell_type": "code",
   "execution_count": null,
   "id": "c0eaefa1",
   "metadata": {},
   "outputs": [],
   "source": [
    "nmax = 101\n",
    "nsum = 0\n",
    "\n",
    "for i in range(nmax):\n",
    "    nsum += i\n",
    "\n",
    "print(nsum)"
   ]
  },
  {
   "cell_type": "markdown",
   "id": "1f690304",
   "metadata": {},
   "source": [
    "In many cases, explicit loops can be ommitted:"
   ]
  },
  {
   "cell_type": "code",
   "execution_count": null,
   "id": "65748216",
   "metadata": {},
   "outputs": [],
   "source": [
    "print( sum( range(nmax) ) ) # Range returns a \"list\" which is summed up and printed"
   ]
  },
  {
   "cell_type": "markdown",
   "id": "2fd949f6",
   "metadata": {},
   "source": [
    "To stop an iteration, use the ``break`` statement:"
   ]
  },
  {
   "cell_type": "code",
   "execution_count": null,
   "id": "dd72c9c4",
   "metadata": {},
   "outputs": [],
   "source": [
    "for char in \"string\":\n",
    "    if char == \"i\":\n",
    "        break\n",
    "    print(char)"
   ]
  },
  {
   "cell_type": "markdown",
   "id": "0b156a93",
   "metadata": {},
   "source": [
    "To skip the current iteration, use the ``continue`` statement:"
   ]
  },
  {
   "cell_type": "code",
   "execution_count": null,
   "id": "94d85b73",
   "metadata": {},
   "outputs": [],
   "source": [
    "for char in \"string\":\n",
    "    if char == \"i\":\n",
    "        continue\n",
    "    print(char)"
   ]
  },
  {
   "cell_type": "markdown",
   "id": "4b03f813",
   "metadata": {},
   "source": [
    "In addition, Python also supports classic ``while`` loops for cases in which we don't know the exact number of iterations:"
   ]
  },
  {
   "cell_type": "code",
   "execution_count": null,
   "id": "b82aab84",
   "metadata": {},
   "outputs": [],
   "source": [
    "def rootBisection(f, xl, xr, eps, *args):\n",
    "    i = 0\n",
    "    imax = 100\n",
    "    while abs(xl-xr) > eps:\n",
    "        xm = 0.5*(xl+xr)\n",
    "        if f(xm,*args)*f(xl,*args) <= 0.:\n",
    "            xr = xm\n",
    "        else:\n",
    "            xl = xm\n",
    "        i += 1\n",
    "        if i > imax:\n",
    "            break\n",
    "    print(i)    \n",
    "    return 0.5*(xl+xr) "
   ]
  },
  {
   "cell_type": "code",
   "execution_count": null,
   "id": "c2d2ae92",
   "metadata": {},
   "outputs": [],
   "source": [
    "def f(x, a):\n",
    "    return x**2-a\n",
    "\n",
    "val = 9\n",
    "print( rootBisection(f,1,val,1.e-14,val) )"
   ]
  }
 ],
 "metadata": {
  "kernelspec": {
   "display_name": "Python 3",
   "language": "python",
   "name": "python3"
  },
  "language_info": {
   "codemirror_mode": {
    "name": "ipython",
    "version": 3
   },
   "file_extension": ".py",
   "mimetype": "text/x-python",
   "name": "python",
   "nbconvert_exporter": "python",
   "pygments_lexer": "ipython3",
   "version": "3.9.6"
  }
 },
 "nbformat": 4,
 "nbformat_minor": 5
}
