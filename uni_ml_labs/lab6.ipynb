{
 "cells": [
  {
   "cell_type": "markdown",
   "metadata": {},
   "source": [
    "# Problem 1\n",
    "Neural networks need tons of labelled data. The MNIST dataset of labelled handwritten digits is one of the\n",
    "basic benchmarks to check the predictive power of a network. Here, we will load some of the data into a\n",
    "Numpy array for further processing."
   ]
  },
  {
   "cell_type": "markdown",
   "metadata": {},
   "source": [
    "a) Unzipping the contents of mnist_test.zip into a folder called \"data\":"
   ]
  },
  {
   "cell_type": "code",
   "execution_count": 1,
   "metadata": {},
   "outputs": [],
   "source": [
    "import os"
   ]
  },
  {
   "cell_type": "code",
   "execution_count": 2,
   "metadata": {},
   "outputs": [],
   "source": [
    "!unzip -q mnist_test.zip -d data/"
   ]
  },
  {
   "cell_type": "markdown",
   "metadata": {},
   "source": [
    "b) Creating a 1D Numpy array \"labels\" and read in all labels from \"labels.txt\":"
   ]
  },
  {
   "cell_type": "code",
   "execution_count": 3,
   "metadata": {},
   "outputs": [],
   "source": [
    "import numpy as np"
   ]
  },
  {
   "cell_type": "code",
   "execution_count": 4,
   "metadata": {},
   "outputs": [],
   "source": [
    "# Reading labels from labels.txt\n",
    "labels_path = \"data/labels.txt\"\n",
    "labels = np.loadtxt(labels_path, dtype=int)"
   ]
  },
  {
   "cell_type": "markdown",
   "metadata": {},
   "source": [
    "c) Creating a 3D Numpy array \"test\" to represent the images:"
   ]
  },
  {
   "cell_type": "code",
   "execution_count": 5,
   "metadata": {},
   "outputs": [],
   "source": [
    "n = 10000  # total number of images\n",
    "test = np.empty((n, 28, 28), dtype=float)"
   ]
  },
  {
   "cell_type": "markdown",
   "metadata": {},
   "source": [
    "d) Generating a list of all image names using list comprehension:"
   ]
  },
  {
   "cell_type": "code",
   "execution_count": 6,
   "metadata": {},
   "outputs": [],
   "source": [
    "imgNames = [f\"test_{str(i).zfill(len(str(n)))}.gif\" for i in range(n)]"
   ]
  },
  {
   "cell_type": "markdown",
   "metadata": {},
   "source": [
    "e) Iterating through all image files, loading the associated image file, converting it to a Numpy array, normalizing it, and storing it in \"test\":"
   ]
  },
  {
   "cell_type": "code",
   "execution_count": 7,
   "metadata": {},
   "outputs": [],
   "source": [
    "from PIL import Image\n",
    "\n",
    "for i, img_name in enumerate(imgNames):\n",
    "    img_path = os.path.join(\"data\", img_name)\n",
    "    img = np.array(Image.open(img_path))\n",
    "\n",
    "    # Normalizing the image\n",
    "    img = img / 255.0\n",
    "\n",
    "    test[i] = img\n"
   ]
  },
  {
   "cell_type": "code",
   "execution_count": 8,
   "metadata": {},
   "outputs": [
    {
     "name": "stdout",
     "output_type": "stream",
     "text": [
      "[[[0.27843137 0.27843137 0.27843137 ... 0.27843137 0.27843137 0.27843137]\n",
      "  [0.27843137 0.27843137 0.27843137 ... 0.27843137 0.27843137 0.27843137]\n",
      "  [0.27843137 0.27843137 0.27843137 ... 0.27843137 0.27843137 0.27843137]\n",
      "  ...\n",
      "  [0.27843137 0.27843137 0.27843137 ... 0.27843137 0.27843137 0.27843137]\n",
      "  [0.27843137 0.27843137 0.27843137 ... 0.27843137 0.27843137 0.27843137]\n",
      "  [0.27843137 0.27843137 0.27843137 ... 0.27843137 0.27843137 0.27843137]]\n",
      "\n",
      " [[0.25882353 0.25882353 0.25882353 ... 0.25882353 0.25882353 0.25882353]\n",
      "  [0.25882353 0.25882353 0.25882353 ... 0.25882353 0.25882353 0.25882353]\n",
      "  [0.25882353 0.25882353 0.25882353 ... 0.25882353 0.25882353 0.25882353]\n",
      "  ...\n",
      "  [0.25882353 0.25882353 0.25882353 ... 0.25882353 0.25882353 0.25882353]\n",
      "  [0.25882353 0.25882353 0.25882353 ... 0.25882353 0.25882353 0.25882353]\n",
      "  [0.25882353 0.25882353 0.25882353 ... 0.25882353 0.25882353 0.25882353]]\n",
      "\n",
      " [[0.19215686 0.19215686 0.19215686 ... 0.19215686 0.19215686 0.19215686]\n",
      "  [0.19215686 0.19215686 0.19215686 ... 0.19215686 0.19215686 0.19215686]\n",
      "  [0.19215686 0.19215686 0.19215686 ... 0.19215686 0.19215686 0.19215686]\n",
      "  ...\n",
      "  [0.19215686 0.19215686 0.19215686 ... 0.19215686 0.19215686 0.19215686]\n",
      "  [0.19215686 0.19215686 0.19215686 ... 0.19215686 0.19215686 0.19215686]\n",
      "  [0.19215686 0.19215686 0.19215686 ... 0.19215686 0.19215686 0.19215686]]\n",
      "\n",
      " ...\n",
      "\n",
      " [[0.25882353 0.25882353 0.25882353 ... 0.25882353 0.25882353 0.25882353]\n",
      "  [0.25882353 0.25882353 0.25882353 ... 0.25882353 0.25882353 0.25882353]\n",
      "  [0.25882353 0.25882353 0.25882353 ... 0.25882353 0.25882353 0.25882353]\n",
      "  ...\n",
      "  [0.25882353 0.25882353 0.25882353 ... 0.25882353 0.25882353 0.25882353]\n",
      "  [0.25882353 0.25882353 0.25882353 ... 0.25882353 0.25882353 0.25882353]\n",
      "  [0.25882353 0.25882353 0.25882353 ... 0.25882353 0.25882353 0.25882353]]\n",
      "\n",
      " [[0.30196078 0.30196078 0.30196078 ... 0.30196078 0.30196078 0.30196078]\n",
      "  [0.30196078 0.30196078 0.30196078 ... 0.30196078 0.30196078 0.30196078]\n",
      "  [0.30196078 0.30196078 0.30196078 ... 0.30196078 0.30196078 0.30196078]\n",
      "  ...\n",
      "  [0.30196078 0.30196078 0.30196078 ... 0.30196078 0.30196078 0.30196078]\n",
      "  [0.30196078 0.30196078 0.30196078 ... 0.30196078 0.30196078 0.30196078]\n",
      "  [0.30196078 0.30196078 0.30196078 ... 0.30196078 0.30196078 0.30196078]]\n",
      "\n",
      " [[0.3372549  0.3372549  0.3372549  ... 0.3372549  0.3372549  0.3372549 ]\n",
      "  [0.3372549  0.3372549  0.3372549  ... 0.3372549  0.3372549  0.3372549 ]\n",
      "  [0.3372549  0.3372549  0.3372549  ... 0.3372549  0.3372549  0.3372549 ]\n",
      "  ...\n",
      "  [0.3372549  0.3372549  0.3372549  ... 0.3372549  0.3372549  0.3372549 ]\n",
      "  [0.3372549  0.3372549  0.3372549  ... 0.3372549  0.3372549  0.3372549 ]\n",
      "  [0.3372549  0.3372549  0.3372549  ... 0.3372549  0.3372549  0.3372549 ]]]\n"
     ]
    }
   ],
   "source": [
    "print(test)"
   ]
  },
  {
   "cell_type": "markdown",
   "metadata": {},
   "source": [
    "# Problem 2\n",
    "Thanks to Pillow, a few lines of code suffice to get handwritten stuff into your notebook.\n",
    "\n",
    "Task **2a.** was carried out outside the notebook using Microsoft Paint."
   ]
  },
  {
   "cell_type": "markdown",
   "metadata": {},
   "source": [
    "b) Loading the hand-drawn number and resizing it to 28 x 28 pixels"
   ]
  },
  {
   "cell_type": "code",
   "execution_count": 9,
   "metadata": {},
   "outputs": [],
   "source": [
    "from PIL import Image\n",
    "import matplotlib.pyplot as plt\n",
    "import numpy as np"
   ]
  },
  {
   "cell_type": "code",
   "execution_count": 10,
   "metadata": {},
   "outputs": [],
   "source": [
    "img = Image.open(\"eight.gif\").convert('L')\n",
    "imgSize = 28\n",
    "imgRe = img.resize(size=(imgSize, imgSize))\n",
    "img = np.array(img) "
   ]
  },
  {
   "cell_type": "markdown",
   "metadata": {},
   "source": [
    "c) Generating a single plot of five MNIST images of my digit"
   ]
  },
  {
   "cell_type": "code",
   "execution_count": 11,
   "metadata": {},
   "outputs": [
    {
     "data": {
      "image/png": "[encoded data removed]",
      "text/plain": [
       "<Figure size 1500x300 with 6 Axes>"
      ]
     },
     "metadata": {},
     "output_type": "display_data"
    }
   ],
   "source": [
    "mnist_images = []\n",
    "mnist_images.append(Image.open(\"data/test_00061.gif\").convert('L'))\n",
    "mnist_images.append(Image.open(\"data/test_00084.gif\").convert('L'))\n",
    "mnist_images.append(Image.open(\"data/test_00110.gif\").convert('L'))\n",
    "mnist_images.append(Image.open(\"data/test_00128.gif\").convert('L'))\n",
    "mnist_images.append(Image.open(\"data/test_00134.gif\").convert('L'))\n",
    "\n",
    "fig, axes = plt.subplots(1, 6, figsize=(15, 3))\n",
    "\n",
    "axes[0].imshow(img)#, cmap='gray')\n",
    "axes[0].set_title('my digit')\n",
    "\n",
    "for i, image in zip(range(len(mnist_images)), mnist_images):\n",
    "    image = image.resize(size=(imgSize, imgSize))\n",
    "    axes[i+1].imshow(np.array(image))#, cmap='gray')\n",
    "    axes[i+1].set_title(f'mnist digit {i+1}')\n",
    "\n",
    "plt.show()"
   ]
  },
  {
   "cell_type": "markdown",
   "metadata": {},
   "source": [
    "# Problem 3\n",
    "In the lecture, we have established the foundation of a neural network class neuralNetwork which will be\n",
    "extended method by method throughout the next weeks before we switch to Tensorflow."
   ]
  },
  {
   "cell_type": "markdown",
   "metadata": {},
   "source": [
    "a) Copying all the code that is required to create an instance of the class neuralNetwork."
   ]
  },
  {
   "cell_type": "code",
   "execution_count": 12,
   "metadata": {},
   "outputs": [],
   "source": [
    "def sigmoid(X):\n",
    "    return 1/(1+np.exp(-X))\n",
    "\n",
    "class neuralNetwork:\n",
    "    def __init__(self, iNodes, hNodes, oNodes, lRate):\n",
    "        # Number of input, hidden and output nodes\n",
    "        self.iNodes = iNodes\n",
    "        self.hNodes = hNodes\n",
    "        self.oNodes = oNodes  \n",
    "        # Weight matrices, wih and who, initialized with random numbers that follow a normal distribution\n",
    "        self.wih = np.random.normal(0.0, 0.5, (self.hNodes,self.iNodes))\n",
    "        self.who = np.random.normal(0.0, 0.5, (self.oNodes,self.hNodes))   \n",
    "        # Learning rate (for session 7)\n",
    "        self.lRate = lRate\n",
    "        # Activation function is the sigmoid function\n",
    "        self.actFunc = sigmoid\n",
    "    \n",
    "    def __str__(self):\n",
    "        return f\"Input nodes: {self.iNodes}, Hidden nodes: {self.hNodes}, Output nodes: {self.oNodes}, Learning rate: {self.lRate}, wih matrix shape: {self.wih.shape}, who matrix shape: {self.who.shape}\"\n",
    "        \n",
    "    def query(self, imgArr):\n",
    "        # Transform the image into a vector    \n",
    "        inputs = imgArr.flatten()\n",
    "        # Move signal into hidden layer\n",
    "        hiddenInputs = np.dot(self.wih, inputs)\n",
    "        # Apply the activation function\n",
    "        hiddenOutputs = self.actFunc(hiddenInputs)\n",
    "        # Move signal into output layer\n",
    "        outputs = np.dot(self.who, hiddenOutputs)\n",
    "        # Apply the activation function\n",
    "        prediction = self.actFunc(outputs)\n",
    "        return prediction "
   ]
  },
  {
   "cell_type": "markdown",
   "metadata": {},
   "source": [
    "b) Writing a function `softmax(arr)` that applies the softmax operation to a Numpy array:"
   ]
  },
  {
   "cell_type": "code",
   "execution_count": 13,
   "metadata": {},
   "outputs": [],
   "source": [
    "def softmax(arr):\n",
    "    exp_arr = np.exp(arr - np.max(arr))  # Subtracting max for numerical stability\n",
    "    return exp_arr / exp_arr.sum()"
   ]
  },
  {
   "cell_type": "markdown",
   "metadata": {},
   "source": [
    "c) Using the network’s query method to feed my handwritten digit into the network. "
   ]
  },
  {
   "cell_type": "code",
   "execution_count": 14,
   "metadata": {},
   "outputs": [],
   "source": [
    "iNodes = 16384\n",
    "hNodes = 100\n",
    "oNodes = 10 \n",
    "lRate = 0.1  "
   ]
  },
  {
   "cell_type": "code",
   "execution_count": 15,
   "metadata": {},
   "outputs": [
    {
     "name": "stdout",
     "output_type": "stream",
     "text": [
      "Sum of entries in softmax_output: 1.0\n"
     ]
    }
   ],
   "source": [
    "handwritten_digit = img / 255.0\n",
    "nn = neuralNetwork(iNodes, hNodes, oNodes, lRate)\n",
    "output_vector = nn.query(handwritten_digit)\n",
    "softmax_output = softmax(output_vector)\n",
    "\n",
    "print(\"Sum of entries in softmax_output:\", np.sum(softmax_output))"
   ]
  },
  {
   "cell_type": "markdown",
   "metadata": {},
   "source": [
    "Verified. The sum of its entries equals 1."
   ]
  }
 ],
 "metadata": {
  "interpreter": {
   "hash": "31f2aee4e71d21fbe5cf8b01ff0e069b9275f58929596ceb00d14d90e3e16cd6"
  },
  "kernelspec": {
   "display_name": "Python 3.10.12 64-bit",
   "language": "python",
   "name": "python3"
  },
  "language_info": {
   "codemirror_mode": {
    "name": "ipython",
    "version": 3
   },
   "file_extension": ".py",
   "mimetype": "text/x-python",
   "name": "python",
   "nbconvert_exporter": "python",
   "pygments_lexer": "ipython3",
   "version": "3.11.4"
  },
  "orig_nbformat": 4
 },
 "nbformat": 4,
 "nbformat_minor": 2
}
