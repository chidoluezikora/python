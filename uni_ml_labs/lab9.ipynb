{
 "cells": [
  {
   "cell_type": "markdown",
   "metadata": {},
   "source": [
    "# Problem 1\n",
    "Recreate your testNet neural network in Tensorflow and compare the performance of the two networks.\n",
    "Give possible reasons for their different performance."
   ]
  },
  {
   "cell_type": "code",
   "execution_count": 1,
   "metadata": {},
   "outputs": [
    {
     "name": "stderr",
     "output_type": "stream",
     "text": [
      "2024-02-07 15:10:30.596583: I external/local_tsl/tsl/cuda/cudart_stub.cc:31] Could not find cuda drivers on your machine, GPU will not be used.\n",
      "2024-02-07 15:10:30.622879: E external/local_xla/xla/stream_executor/cuda/cuda_dnn.cc:9261] Unable to register cuDNN factory: Attempting to register factory for plugin cuDNN when one has already been registered\n",
      "2024-02-07 15:10:30.622904: E external/local_xla/xla/stream_executor/cuda/cuda_fft.cc:607] Unable to register cuFFT factory: Attempting to register factory for plugin cuFFT when one has already been registered\n",
      "2024-02-07 15:10:30.623455: E external/local_xla/xla/stream_executor/cuda/cuda_blas.cc:1515] Unable to register cuBLAS factory: Attempting to register factory for plugin cuBLAS when one has already been registered\n",
      "2024-02-07 15:10:30.627261: I external/local_tsl/tsl/cuda/cudart_stub.cc:31] Could not find cuda drivers on your machine, GPU will not be used.\n",
      "2024-02-07 15:10:30.627560: I tensorflow/core/platform/cpu_feature_guard.cc:182] This TensorFlow binary is optimized to use available CPU instructions in performance-critical operations.\n",
      "To enable the following instructions: AVX2 FMA, in other operations, rebuild TensorFlow with the appropriate compiler flags.\n",
      "2024-02-07 15:10:31.089152: W tensorflow/compiler/tf2tensorrt/utils/py_utils.cc:38] TF-TRT Warning: Could not find TensorRT\n"
     ]
    }
   ],
   "source": [
    "import numpy as np\n",
    "import matplotlib.pyplot as plt\n",
    "import tensorflow as tf"
   ]
  },
  {
   "cell_type": "code",
   "execution_count": 2,
   "metadata": {},
   "outputs": [],
   "source": [
    "data_train = np.load('/mnt/share/nnds/mnist/mnistDataTrain.npy')\n",
    "labels_train = np.load('/mnt/share/nnds/mnist/mnistLabelsTrain.npy')\n",
    "\n",
    "data_test = np.load('/mnt/share/nnds/mnist/mnistDataTest.npy')\n",
    "labels_test = np.load('/mnt/share/nnds/mnist/mnistLabelsTest.npy')"
   ]
  },
  {
   "cell_type": "code",
   "execution_count": 3,
   "metadata": {},
   "outputs": [
    {
     "name": "stderr",
     "output_type": "stream",
     "text": [
      "2024-02-07 15:10:35.994394: I external/local_xla/xla/stream_executor/cuda/cuda_executor.cc:901] successful NUMA node read from SysFS had negative value (-1), but there must be at least one NUMA node, so returning NUMA node zero. See more at https://github.com/torvalds/linux/blob/v6.0/Documentation/ABI/testing/sysfs-bus-pci#L344-L355\n",
      "2024-02-07 15:10:35.994856: W tensorflow/core/common_runtime/gpu/gpu_device.cc:2256] Cannot dlopen some GPU libraries. Please make sure the missing libraries mentioned above are installed properly if you would like to use GPU. Follow the guide at https://www.tensorflow.org/install/gpu for how to download and setup the required libraries for your platform.\n",
      "Skipping registering GPU devices...\n"
     ]
    }
   ],
   "source": [
    "testNet = tf.keras.models.Sequential([\n",
    "    tf.keras.layers.Flatten(input_shape=(28, 28)),  # 28 x 28 = 784 input nodes\n",
    "    tf.keras.layers.Dense(100, activation='sigmoid'),\n",
    "    tf.keras.layers.Dense(10, activation='sigmoid')\n",
    "])"
   ]
  },
  {
   "cell_type": "code",
   "execution_count": 4,
   "metadata": {},
   "outputs": [],
   "source": [
    "lr = 0.6\n",
    "\n",
    "testNet.compile(optimizer=tf.keras.optimizers.SGD(learning_rate=lr),\n",
    "              loss='sparse_categorical_crossentropy',\n",
    "              metrics=['accuracy'])"
   ]
  },
  {
   "cell_type": "code",
   "execution_count": 5,
   "metadata": {},
   "outputs": [
    {
     "name": "stdout",
     "output_type": "stream",
     "text": [
      "Epoch 1/10\n",
      "1875/1875 [==============================] - 2s 1ms/step - loss: 0.3140 - accuracy: 0.9065 - val_loss: 0.1775 - val_accuracy: 0.9483\n",
      "Epoch 2/10\n",
      "1875/1875 [==============================] - 2s 1ms/step - loss: 0.1464 - accuracy: 0.9567 - val_loss: 0.1185 - val_accuracy: 0.9663\n",
      "Epoch 3/10\n",
      "1875/1875 [==============================] - 2s 1ms/step - loss: 0.1041 - accuracy: 0.9686 - val_loss: 0.0961 - val_accuracy: 0.9716\n",
      "Epoch 4/10\n",
      "1875/1875 [==============================] - 2s 1ms/step - loss: 0.0823 - accuracy: 0.9751 - val_loss: 0.0901 - val_accuracy: 0.9711\n",
      "Epoch 5/10\n",
      "1875/1875 [==============================] - 2s 1ms/step - loss: 0.0674 - accuracy: 0.9801 - val_loss: 0.0821 - val_accuracy: 0.9742\n",
      "Epoch 6/10\n",
      "1875/1875 [==============================] - 2s 1ms/step - loss: 0.0563 - accuracy: 0.9830 - val_loss: 0.0779 - val_accuracy: 0.9751\n",
      "Epoch 7/10\n",
      "1875/1875 [==============================] - 2s 1ms/step - loss: 0.0482 - accuracy: 0.9857 - val_loss: 0.0694 - val_accuracy: 0.9774\n",
      "Epoch 8/10\n",
      "1875/1875 [==============================] - 2s 1ms/step - loss: 0.0413 - accuracy: 0.9884 - val_loss: 0.0707 - val_accuracy: 0.9763\n",
      "Epoch 9/10\n",
      "1875/1875 [==============================] - 2s 1ms/step - loss: 0.0361 - accuracy: 0.9903 - val_loss: 0.0654 - val_accuracy: 0.9784\n",
      "Epoch 10/10\n",
      "1875/1875 [==============================] - 2s 1ms/step - loss: 0.0312 - accuracy: 0.9921 - val_loss: 0.0667 - val_accuracy: 0.9797\n"
     ]
    }
   ],
   "source": [
    "# training the model\n",
    "history = testNet.fit(data_train, labels_train, epochs=10, validation_data=(data_test, labels_test))"
   ]
  },
  {
   "cell_type": "markdown",
   "metadata": {},
   "source": [
    "The tensorflow model with similar architecture was significantly more accurate on test data than the custom built model from lab 8 after training with the same training data.\n",
    "\n",
    "tensorflow model accuracy: 97.97%\n",
    "custom built model accuracy: 9.8%\n",
    "\n",
    "Possible reasons for these discrepancies include:\n",
    "- the fixed batch size while training the custom built model.\n",
    "- the lack of an optimizer in the custom built model.\n",
    "- the limited range of learning rates and hidden nodes for fixed batch size in the custom built model.\n",
    "- the lack of image augmentation in the custom built model."
   ]
  },
  {
   "cell_type": "markdown",
   "metadata": {},
   "source": [
    "# Problem 2\n",
    "Tensorflow’s fit method returns a history object which in turn contains an attribut history. Extract it\n",
    "from the object. Use it to plot the validation accuracy, training accuracy and loss as a function of the epoch.\n",
    "Set up a network with a single fully connected layer with 256 nodes (ReLU activated) and train it on MNIST\n",
    "Fashion."
   ]
  },
  {
   "cell_type": "code",
   "execution_count": 6,
   "metadata": {},
   "outputs": [],
   "source": [
    "model = tf.keras.models.Sequential([\n",
    "    tf.keras.layers.Flatten(input_shape=(28, 28)),  # 28 x 28 = 784 input nodes\n",
    "    tf.keras.layers.Dense(256, activation='relu'),\n",
    "    tf.keras.layers.Dense(10, activation='softmax')\n",
    "])"
   ]
  },
  {
   "cell_type": "code",
   "execution_count": 7,
   "metadata": {},
   "outputs": [],
   "source": [
    "model.compile(optimizer='adam',\n",
    "              loss='sparse_categorical_crossentropy',\n",
    "              metrics=['accuracy'])"
   ]
  },
  {
   "cell_type": "code",
   "execution_count": 8,
   "metadata": {},
   "outputs": [
    {
     "name": "stdout",
     "output_type": "stream",
     "text": [
      "Epoch 1/10\n",
      "1875/1875 [==============================] - 4s 2ms/step - loss: 0.2252 - accuracy: 0.9347 - val_loss: 0.1060 - val_accuracy: 0.9683\n",
      "Epoch 2/10\n",
      "1875/1875 [==============================] - 3s 2ms/step - loss: 0.0915 - accuracy: 0.9729 - val_loss: 0.0775 - val_accuracy: 0.9759\n",
      "Epoch 3/10\n",
      "1875/1875 [==============================] - 3s 2ms/step - loss: 0.0608 - accuracy: 0.9809 - val_loss: 0.0678 - val_accuracy: 0.9790\n",
      "Epoch 4/10\n",
      "1875/1875 [==============================] - 3s 2ms/step - loss: 0.0431 - accuracy: 0.9867 - val_loss: 0.0720 - val_accuracy: 0.9785\n",
      "Epoch 5/10\n",
      "1875/1875 [==============================] - 3s 2ms/step - loss: 0.0308 - accuracy: 0.9906 - val_loss: 0.0798 - val_accuracy: 0.9760\n",
      "Epoch 6/10\n",
      "1875/1875 [==============================] - 3s 2ms/step - loss: 0.0248 - accuracy: 0.9921 - val_loss: 0.0752 - val_accuracy: 0.9798\n",
      "Epoch 7/10\n",
      "1875/1875 [==============================] - 3s 2ms/step - loss: 0.0192 - accuracy: 0.9936 - val_loss: 0.0713 - val_accuracy: 0.9809\n",
      "Epoch 8/10\n",
      "1875/1875 [==============================] - 3s 2ms/step - loss: 0.0153 - accuracy: 0.9949 - val_loss: 0.0786 - val_accuracy: 0.9792\n",
      "Epoch 9/10\n",
      "1875/1875 [==============================] - 3s 2ms/step - loss: 0.0147 - accuracy: 0.9955 - val_loss: 0.0827 - val_accuracy: 0.9779\n",
      "Epoch 10/10\n",
      "1875/1875 [==============================] - 3s 2ms/step - loss: 0.0099 - accuracy: 0.9972 - val_loss: 0.0944 - val_accuracy: 0.9784\n"
     ]
    }
   ],
   "source": [
    "history = model.fit(data_train, labels_train, epochs=10, validation_data=(data_test, labels_test))"
   ]
  },
  {
   "cell_type": "code",
   "execution_count": 9,
   "metadata": {},
   "outputs": [
    {
     "data": {
      "image/png": "[encoded data removed]",
      "text/plain": [
       "<Figure size 1200x400 with 2 Axes>"
      ]
     },
     "metadata": {},
     "output_type": "display_data"
    }
   ],
   "source": [
    "training_accuracy = history.history['accuracy']\n",
    "validation_accuracy = history.history['val_accuracy']\n",
    "loss = history.history['loss']\n",
    "val_loss = history.history['val_loss']\n",
    "\n",
    "plt.figure(figsize=(12, 4))\n",
    "plt.subplot(1, 2, 1)\n",
    "plt.plot(training_accuracy, label='Training Accuracy')\n",
    "plt.plot(validation_accuracy, label='Validation Accuracy')\n",
    "plt.xlabel('Epoch')\n",
    "plt.ylabel('Accuracy')\n",
    "plt.legend()\n",
    "\n",
    "plt.subplot(1, 2, 2)\n",
    "plt.plot(loss, label='Training Loss')\n",
    "plt.plot(val_loss, label='Validation Loss')\n",
    "plt.xlabel('Epoch')\n",
    "plt.ylabel('Loss')\n",
    "plt.legend()\n",
    "\n",
    "plt.show()"
   ]
  },
  {
   "cell_type": "markdown",
   "metadata": {},
   "source": [
    "# Problem 3\n",
    "Tensorflow provides the tf.math.confusion_matrix method to create a simple confusion matrix. It returns\n",
    "a tf.tensor which can be converted into a regular Numpy array using np.array. Write a function\n",
    "confusion_matrix that takes a Tensorflow model and a test dataset, evaluates the test dataset, calculates\n",
    "the confusion matrix and turns it into something more readable, e.g. by providing labels, additional\n",
    "explanations, or even a nice graph via plt.img."
   ]
  },
  {
   "cell_type": "code",
   "execution_count": 10,
   "metadata": {},
   "outputs": [],
   "source": [
    "from sklearn.metrics import confusion_matrix\n",
    "import seaborn as sns"
   ]
  },
  {
   "cell_type": "code",
   "execution_count": 11,
   "metadata": {},
   "outputs": [],
   "source": [
    "def plot_confusion_matrix(model, test_data, test_labels, class_names=None, figsize=(8, 6)):\n",
    "    pred = model.predict(test_data)\n",
    "    pred_classes = np.argmax(pred, axis=1)\n",
    "    cm = confusion_matrix(test_labels, pred_classes)\n",
    "    \n",
    "    plt.figure(figsize=figsize)\n",
    "    sns.heatmap(cm, annot=True, fmt='d', cmap='Blues', cbar=False)\n",
    "    plt.title('Confusion Matrix')\n",
    "    plt.show()"
   ]
  },
  {
   "cell_type": "code",
   "execution_count": 12,
   "metadata": {},
   "outputs": [
    {
     "name": "stdout",
     "output_type": "stream",
     "text": [
      "313/313 [==============================] - 0s 503us/step\n"
     ]
    },
    {
     "data": {
      "image/png": "[encoded data removed]",
      "text/plain": [
       "<Figure size 800x600 with 1 Axes>"
      ]
     },
     "metadata": {},
     "output_type": "display_data"
    }
   ],
   "source": [
    "plot_confusion_matrix(model, data_test, labels_test)"
   ]
  },
  {
   "cell_type": "markdown",
   "metadata": {},
   "source": [
    "# Problem 4\n",
    "So far, we have been working with grayscale images."
   ]
  },
  {
   "cell_type": "markdown",
   "metadata": {},
   "source": [
    "a) Color images are harder to process because they contain more information than grayscale images. Grayscale images have a single channel representing intensity, whereas color images typically have three channels (Red, Green, and Blue). This additional information increases the complexity of the data and requires modifications to the neural network architecture. Neural networks designed for grayscale images may not be directly applicable to color images due to differences in input dimensions and the need to handle multiple channels."
   ]
  },
  {
   "cell_type": "markdown",
   "metadata": {},
   "source": [
    "b) Loading data from the CIFAR-10 dataset..."
   ]
  },
  {
   "cell_type": "code",
   "execution_count": 13,
   "metadata": {},
   "outputs": [
    {
     "name": "stdout",
     "output_type": "stream",
     "text": [
      "(50000, 32, 32)\n"
     ]
    }
   ],
   "source": [
    "data_cifar_train = np.load('/mnt/share/nnds/cifar10bw/dataTrain.npy')\n",
    "labels_cifar_train = np.load('/mnt/share/nnds/cifar10bw/labelsTrain.npy')\n",
    "data_cifar_test = np.load('/mnt/share/nnds/cifar10bw/dataTest.npy')\n",
    "labels_cifar_test = np.load('/mnt/share/nnds/cifar10bw/labelsTest.npy')\n",
    "\n",
    "# Normalizing pixel values to the range [0, 1]\n",
    "data_cifar_train = data_cifar_train.astype('float32') / 255.0\n",
    "data_cifar_test = data_cifar_test.astype('float32') / 255.0\n",
    "\n",
    "data_cifar_train = data_cifar_train.reshape((-1, 32, 32))\n",
    "data_cifar_test = data_cifar_test.reshape((-1, 32, 32))\n",
    "\n",
    "print(data_cifar_train.shape)"
   ]
  },
  {
   "cell_type": "markdown",
   "metadata": {},
   "source": [
    "c) Creating a network with a single hidden layer with 256 nodes (ReLU activation) and a softmaxed output."
   ]
  },
  {
   "cell_type": "code",
   "execution_count": 14,
   "metadata": {},
   "outputs": [],
   "source": [
    "from keras.models import Sequential\n",
    "from keras.layers import Flatten, Dense\n",
    "from keras.optimizers import SGD\n",
    "from keras import backend as K\n",
    "\n",
    "K.clear_session()"
   ]
  },
  {
   "cell_type": "code",
   "execution_count": 15,
   "metadata": {},
   "outputs": [],
   "source": [
    "cifar_model = Sequential()\n",
    "cifar_model.add(Flatten(input_shape=(32, 32)))\n",
    "cifar_model.add(Dense(256, activation='relu'))\n",
    "cifar_model.add(Dense(10, activation='softmax'))"
   ]
  },
  {
   "cell_type": "markdown",
   "metadata": {},
   "source": [
    "and training the network for (up to) 50 epochs and discuss the performance of the network..."
   ]
  },
  {
   "cell_type": "code",
   "execution_count": 16,
   "metadata": {},
   "outputs": [
    {
     "name": "stdout",
     "output_type": "stream",
     "text": [
      "Epoch 1/50\n",
      "1250/1250 [==============================] - 3s 2ms/step - loss: 2.1892 - accuracy: 0.1981 - val_loss: 2.1168 - val_accuracy: 0.2340\n",
      "Epoch 2/50\n",
      "1250/1250 [==============================] - 2s 2ms/step - loss: 2.0835 - accuracy: 0.2550 - val_loss: 2.0672 - val_accuracy: 0.2612\n",
      "Epoch 3/50\n",
      "1250/1250 [==============================] - 3s 2ms/step - loss: 2.0502 - accuracy: 0.2712 - val_loss: 2.0445 - val_accuracy: 0.2758\n",
      "Epoch 4/50\n",
      "1250/1250 [==============================] - 2s 2ms/step - loss: 2.0259 - accuracy: 0.2826 - val_loss: 2.0154 - val_accuracy: 0.2836\n",
      "Epoch 5/50\n",
      "1250/1250 [==============================] - 2s 2ms/step - loss: 2.0038 - accuracy: 0.2915 - val_loss: 1.9985 - val_accuracy: 0.2973\n",
      "Epoch 6/50\n",
      "1250/1250 [==============================] - 2s 2ms/step - loss: 1.9825 - accuracy: 0.3016 - val_loss: 1.9756 - val_accuracy: 0.3064\n",
      "Epoch 7/50\n",
      "1250/1250 [==============================] - 3s 2ms/step - loss: 1.9616 - accuracy: 0.3066 - val_loss: 1.9546 - val_accuracy: 0.3126\n",
      "Epoch 8/50\n",
      "1250/1250 [==============================] - 2s 2ms/step - loss: 1.9415 - accuracy: 0.3138 - val_loss: 1.9472 - val_accuracy: 0.3085\n",
      "Epoch 9/50\n",
      "1250/1250 [==============================] - 2s 2ms/step - loss: 1.9224 - accuracy: 0.3205 - val_loss: 1.9217 - val_accuracy: 0.3213\n",
      "Epoch 10/50\n",
      "1250/1250 [==============================] - 2s 2ms/step - loss: 1.9059 - accuracy: 0.3271 - val_loss: 1.9065 - val_accuracy: 0.3260\n",
      "Epoch 11/50\n",
      "1250/1250 [==============================] - 3s 2ms/step - loss: 1.8904 - accuracy: 0.3318 - val_loss: 1.8943 - val_accuracy: 0.3280\n",
      "Epoch 12/50\n",
      "1250/1250 [==============================] - 2s 2ms/step - loss: 1.8772 - accuracy: 0.3377 - val_loss: 1.8882 - val_accuracy: 0.3324\n",
      "Epoch 13/50\n",
      "1250/1250 [==============================] - 2s 2ms/step - loss: 1.8649 - accuracy: 0.3436 - val_loss: 1.8733 - val_accuracy: 0.3326\n",
      "Epoch 14/50\n",
      "1250/1250 [==============================] - 2s 2ms/step - loss: 1.8544 - accuracy: 0.3458 - val_loss: 1.8628 - val_accuracy: 0.3383\n",
      "Epoch 15/50\n",
      "1250/1250 [==============================] - 2s 2ms/step - loss: 1.8453 - accuracy: 0.3510 - val_loss: 1.8582 - val_accuracy: 0.3423\n",
      "Epoch 16/50\n",
      "1250/1250 [==============================] - 2s 2ms/step - loss: 1.8363 - accuracy: 0.3543 - val_loss: 1.8492 - val_accuracy: 0.3451\n",
      "Epoch 17/50\n",
      "1250/1250 [==============================] - 3s 2ms/step - loss: 1.8282 - accuracy: 0.3565 - val_loss: 1.8416 - val_accuracy: 0.3465\n",
      "Epoch 18/50\n",
      "1250/1250 [==============================] - 2s 2ms/step - loss: 1.8212 - accuracy: 0.3589 - val_loss: 1.8405 - val_accuracy: 0.3495\n",
      "Epoch 19/50\n",
      "1250/1250 [==============================] - 3s 2ms/step - loss: 1.8143 - accuracy: 0.3614 - val_loss: 1.8438 - val_accuracy: 0.3464\n",
      "Epoch 20/50\n",
      "1250/1250 [==============================] - 2s 2ms/step - loss: 1.8073 - accuracy: 0.3646 - val_loss: 1.8296 - val_accuracy: 0.3485\n",
      "Epoch 21/50\n",
      "1250/1250 [==============================] - 3s 2ms/step - loss: 1.8011 - accuracy: 0.3667 - val_loss: 1.8237 - val_accuracy: 0.3530\n",
      "Epoch 22/50\n",
      "1250/1250 [==============================] - 2s 2ms/step - loss: 1.7939 - accuracy: 0.3698 - val_loss: 1.8251 - val_accuracy: 0.3512\n",
      "Epoch 23/50\n",
      "1250/1250 [==============================] - 2s 2ms/step - loss: 1.7875 - accuracy: 0.3723 - val_loss: 1.8150 - val_accuracy: 0.3587\n",
      "Epoch 24/50\n",
      "1250/1250 [==============================] - 2s 2ms/step - loss: 1.7817 - accuracy: 0.3748 - val_loss: 1.8059 - val_accuracy: 0.3614\n",
      "Epoch 25/50\n",
      "1250/1250 [==============================] - 2s 2ms/step - loss: 1.7758 - accuracy: 0.3747 - val_loss: 1.8124 - val_accuracy: 0.3611\n",
      "Epoch 26/50\n",
      "1250/1250 [==============================] - 3s 2ms/step - loss: 1.7705 - accuracy: 0.3789 - val_loss: 1.7988 - val_accuracy: 0.3653\n",
      "Epoch 27/50\n",
      "1250/1250 [==============================] - 2s 2ms/step - loss: 1.7646 - accuracy: 0.3791 - val_loss: 1.7944 - val_accuracy: 0.3645\n",
      "Epoch 28/50\n",
      "1250/1250 [==============================] - 2s 2ms/step - loss: 1.7589 - accuracy: 0.3825 - val_loss: 1.7853 - val_accuracy: 0.3721\n",
      "Epoch 29/50\n",
      "1250/1250 [==============================] - 2s 2ms/step - loss: 1.7529 - accuracy: 0.3844 - val_loss: 1.7848 - val_accuracy: 0.3711\n",
      "Epoch 30/50\n",
      "1250/1250 [==============================] - 2s 2ms/step - loss: 1.7477 - accuracy: 0.3868 - val_loss: 1.7806 - val_accuracy: 0.3708\n",
      "Epoch 31/50\n",
      "1250/1250 [==============================] - 2s 2ms/step - loss: 1.7435 - accuracy: 0.3887 - val_loss: 1.7768 - val_accuracy: 0.3704\n",
      "Epoch 32/50\n",
      "1250/1250 [==============================] - 2s 2ms/step - loss: 1.7382 - accuracy: 0.3896 - val_loss: 1.7703 - val_accuracy: 0.3741\n",
      "Epoch 33/50\n",
      "1250/1250 [==============================] - 2s 2ms/step - loss: 1.7331 - accuracy: 0.3936 - val_loss: 1.7706 - val_accuracy: 0.3758\n",
      "Epoch 34/50\n",
      "1250/1250 [==============================] - 2s 2ms/step - loss: 1.7283 - accuracy: 0.3939 - val_loss: 1.7677 - val_accuracy: 0.3766\n",
      "Epoch 35/50\n",
      "1250/1250 [==============================] - 2s 2ms/step - loss: 1.7236 - accuracy: 0.3966 - val_loss: 1.7597 - val_accuracy: 0.3832\n",
      "Epoch 36/50\n",
      "1250/1250 [==============================] - 2s 2ms/step - loss: 1.7197 - accuracy: 0.3980 - val_loss: 1.7678 - val_accuracy: 0.3768\n",
      "Epoch 37/50\n",
      "1250/1250 [==============================] - 3s 2ms/step - loss: 1.7159 - accuracy: 0.3986 - val_loss: 1.7588 - val_accuracy: 0.3774\n",
      "Epoch 38/50\n",
      "1250/1250 [==============================] - 3s 2ms/step - loss: 1.7113 - accuracy: 0.4017 - val_loss: 1.7557 - val_accuracy: 0.3808\n",
      "Epoch 39/50\n",
      "1250/1250 [==============================] - 2s 2ms/step - loss: 1.7073 - accuracy: 0.4009 - val_loss: 1.7549 - val_accuracy: 0.3811\n",
      "Epoch 40/50\n",
      "1250/1250 [==============================] - 3s 2ms/step - loss: 1.7034 - accuracy: 0.4038 - val_loss: 1.7438 - val_accuracy: 0.3831\n",
      "Epoch 41/50\n",
      "1250/1250 [==============================] - 3s 2ms/step - loss: 1.7000 - accuracy: 0.4033 - val_loss: 1.7443 - val_accuracy: 0.3845\n",
      "Epoch 42/50\n",
      "1250/1250 [==============================] - 3s 2ms/step - loss: 1.6969 - accuracy: 0.4073 - val_loss: 1.7462 - val_accuracy: 0.3804\n",
      "Epoch 43/50\n",
      "1250/1250 [==============================] - 3s 2ms/step - loss: 1.6925 - accuracy: 0.4082 - val_loss: 1.7384 - val_accuracy: 0.3868\n",
      "Epoch 44/50\n",
      "1250/1250 [==============================] - 2s 2ms/step - loss: 1.6889 - accuracy: 0.4101 - val_loss: 1.7452 - val_accuracy: 0.3823\n",
      "Epoch 45/50\n",
      "1250/1250 [==============================] - 3s 2ms/step - loss: 1.6862 - accuracy: 0.4105 - val_loss: 1.7370 - val_accuracy: 0.3817\n",
      "Epoch 46/50\n",
      "1250/1250 [==============================] - 2s 2ms/step - loss: 1.6820 - accuracy: 0.4131 - val_loss: 1.7315 - val_accuracy: 0.3913\n",
      "Epoch 47/50\n",
      "1250/1250 [==============================] - 3s 2ms/step - loss: 1.6791 - accuracy: 0.4141 - val_loss: 1.7384 - val_accuracy: 0.3846\n",
      "Epoch 48/50\n",
      "1250/1250 [==============================] - 2s 2ms/step - loss: 1.6769 - accuracy: 0.4148 - val_loss: 1.7283 - val_accuracy: 0.3894\n",
      "Epoch 49/50\n",
      "1250/1250 [==============================] - 2s 2ms/step - loss: 1.6742 - accuracy: 0.4137 - val_loss: 1.7232 - val_accuracy: 0.3929\n",
      "Epoch 50/50\n",
      "1250/1250 [==============================] - 3s 2ms/step - loss: 1.6696 - accuracy: 0.4169 - val_loss: 1.7351 - val_accuracy: 0.3866\n"
     ]
    }
   ],
   "source": [
    "from keras.utils import to_categorical\n",
    "\n",
    "labels_cifar_train = to_categorical(labels_cifar_train, num_classes=10)\n",
    "labels_cifar_test = to_categorical(labels_cifar_test, num_classes=10)\n",
    "\n",
    "cifar_model.compile(optimizer='adam', loss='categorical_crossentropy', metrics=['accuracy'])\n",
    "history = cifar_model.fit(data_cifar_train, labels_cifar_train,\n",
    "                    epochs=50, batch_size=32, validation_split=0.2)"
   ]
  },
  {
   "cell_type": "markdown",
   "metadata": {},
   "source": [
    "The network's performance on the validation dataset could be improved. This may be done by; \n",
    "\n",
    "- changing hyperparameters and parameters like the number of nodes in its hidden layer\n",
    "- using a more optimal learning rate.\n",
    "- training for less of more epochs to avoid overfitting and underfitting respectively.\n",
    "- and of course by adding more hidden layers."
   ]
  },
  {
   "cell_type": "markdown",
   "metadata": {},
   "source": [
    "d) Calculating the fraction of correctly classified images as a function of the image class..."
   ]
  },
  {
   "cell_type": "code",
   "execution_count": 17,
   "metadata": {},
   "outputs": [
    {
     "name": "stdout",
     "output_type": "stream",
     "text": [
      "313/313 - 0s - loss: 1.7284 - accuracy: 0.3894 - 192ms/epoch - 613us/step\n",
      "Test accuracy: 0.38940000534057617\n"
     ]
    }
   ],
   "source": [
    "cifar_test_loss, cifar_test_acc = cifar_model.evaluate(data_cifar_test, labels_cifar_test, verbose=2)\n",
    "\n",
    "print(f'Test accuracy: {cifar_test_acc}')"
   ]
  },
  {
   "cell_type": "markdown",
   "metadata": {},
   "source": [
    "e) Creating a network with two hidden layers with 256 nodes each (ReLU activation) and a softmaxed\n",
    "output."
   ]
  },
  {
   "cell_type": "code",
   "execution_count": 18,
   "metadata": {},
   "outputs": [],
   "source": [
    "cifar_model2 = Sequential()\n",
    "cifar_model2.add(Flatten(input_shape=(32, 32)))\n",
    "cifar_model2.add(Dense(256, activation='relu'))\n",
    "cifar_model2.add(Dense(256, activation='relu'))\n",
    "cifar_model2.add(Dense(10, activation='softmax'))"
   ]
  },
  {
   "cell_type": "markdown",
   "metadata": {},
   "source": [
    "and training the network for (up to) 50 epochs..."
   ]
  },
  {
   "cell_type": "code",
   "execution_count": 19,
   "metadata": {},
   "outputs": [
    {
     "name": "stdout",
     "output_type": "stream",
     "text": [
      "Epoch 1/50\n",
      "1250/1250 [==============================] - 3s 2ms/step - loss: 2.1348 - accuracy: 0.2119 - val_loss: 2.0566 - val_accuracy: 0.2561\n",
      "Epoch 2/50\n",
      "1250/1250 [==============================] - 3s 2ms/step - loss: 2.0347 - accuracy: 0.2653 - val_loss: 2.0047 - val_accuracy: 0.2825\n",
      "Epoch 3/50\n",
      "1250/1250 [==============================] - 3s 2ms/step - loss: 1.9809 - accuracy: 0.2865 - val_loss: 1.9620 - val_accuracy: 0.2960\n",
      "Epoch 4/50\n",
      "1250/1250 [==============================] - 3s 2ms/step - loss: 1.9325 - accuracy: 0.3067 - val_loss: 1.9252 - val_accuracy: 0.3077\n",
      "Epoch 5/50\n",
      "1250/1250 [==============================] - 3s 2ms/step - loss: 1.8944 - accuracy: 0.3192 - val_loss: 1.8856 - val_accuracy: 0.3208\n",
      "Epoch 6/50\n",
      "1250/1250 [==============================] - 3s 2ms/step - loss: 1.8708 - accuracy: 0.3298 - val_loss: 1.8649 - val_accuracy: 0.3269\n",
      "Epoch 7/50\n",
      "1250/1250 [==============================] - 3s 2ms/step - loss: 1.8533 - accuracy: 0.3345 - val_loss: 1.8512 - val_accuracy: 0.3362\n",
      "Epoch 8/50\n",
      "1250/1250 [==============================] - 3s 2ms/step - loss: 1.8385 - accuracy: 0.3429 - val_loss: 1.8503 - val_accuracy: 0.3335\n",
      "Epoch 9/50\n",
      "1250/1250 [==============================] - 3s 2ms/step - loss: 1.8241 - accuracy: 0.3479 - val_loss: 1.8313 - val_accuracy: 0.3444\n",
      "Epoch 10/50\n",
      "1250/1250 [==============================] - 3s 2ms/step - loss: 1.8091 - accuracy: 0.3535 - val_loss: 1.8194 - val_accuracy: 0.3490\n",
      "Epoch 11/50\n",
      "1250/1250 [==============================] - 3s 2ms/step - loss: 1.7970 - accuracy: 0.3575 - val_loss: 1.8263 - val_accuracy: 0.3466\n",
      "Epoch 12/50\n",
      "1250/1250 [==============================] - 3s 2ms/step - loss: 1.7841 - accuracy: 0.3657 - val_loss: 1.7969 - val_accuracy: 0.3620\n",
      "Epoch 13/50\n",
      "1250/1250 [==============================] - 3s 2ms/step - loss: 1.7679 - accuracy: 0.3700 - val_loss: 1.7896 - val_accuracy: 0.3621\n",
      "Epoch 14/50\n",
      "1250/1250 [==============================] - 3s 2ms/step - loss: 1.7588 - accuracy: 0.3746 - val_loss: 1.7714 - val_accuracy: 0.3677\n",
      "Epoch 15/50\n",
      "1250/1250 [==============================] - 3s 2ms/step - loss: 1.7456 - accuracy: 0.3803 - val_loss: 1.7752 - val_accuracy: 0.3671\n",
      "Epoch 16/50\n",
      "1250/1250 [==============================] - 3s 2ms/step - loss: 1.7325 - accuracy: 0.3832 - val_loss: 1.7554 - val_accuracy: 0.3731\n",
      "Epoch 17/50\n",
      "1250/1250 [==============================] - 3s 2ms/step - loss: 1.7224 - accuracy: 0.3880 - val_loss: 1.7518 - val_accuracy: 0.3763\n",
      "Epoch 18/50\n",
      "1250/1250 [==============================] - 3s 2ms/step - loss: 1.7087 - accuracy: 0.3917 - val_loss: 1.7532 - val_accuracy: 0.3737\n",
      "Epoch 19/50\n",
      "1250/1250 [==============================] - 3s 2ms/step - loss: 1.7006 - accuracy: 0.3967 - val_loss: 1.7380 - val_accuracy: 0.3774\n",
      "Epoch 20/50\n",
      "1250/1250 [==============================] - 3s 2ms/step - loss: 1.6884 - accuracy: 0.4035 - val_loss: 1.7501 - val_accuracy: 0.3742\n",
      "Epoch 21/50\n",
      "1250/1250 [==============================] - 3s 2ms/step - loss: 1.6831 - accuracy: 0.4030 - val_loss: 1.7233 - val_accuracy: 0.3863\n",
      "Epoch 22/50\n",
      "1250/1250 [==============================] - 3s 2ms/step - loss: 1.6725 - accuracy: 0.4075 - val_loss: 1.7217 - val_accuracy: 0.3918\n",
      "Epoch 23/50\n",
      "1250/1250 [==============================] - 3s 2ms/step - loss: 1.6650 - accuracy: 0.4088 - val_loss: 1.7114 - val_accuracy: 0.3939\n",
      "Epoch 24/50\n",
      "1250/1250 [==============================] - 3s 2ms/step - loss: 1.6569 - accuracy: 0.4115 - val_loss: 1.7164 - val_accuracy: 0.3931\n",
      "Epoch 25/50\n",
      "1250/1250 [==============================] - 3s 2ms/step - loss: 1.6482 - accuracy: 0.4155 - val_loss: 1.7090 - val_accuracy: 0.3937\n",
      "Epoch 26/50\n",
      "1250/1250 [==============================] - 3s 2ms/step - loss: 1.6406 - accuracy: 0.4182 - val_loss: 1.7052 - val_accuracy: 0.3953\n",
      "Epoch 27/50\n",
      "1250/1250 [==============================] - 3s 2ms/step - loss: 1.6322 - accuracy: 0.4211 - val_loss: 1.6866 - val_accuracy: 0.3989\n",
      "Epoch 28/50\n",
      "1250/1250 [==============================] - 3s 2ms/step - loss: 1.6240 - accuracy: 0.4241 - val_loss: 1.7055 - val_accuracy: 0.3962\n",
      "Epoch 29/50\n",
      "1250/1250 [==============================] - 3s 2ms/step - loss: 1.6161 - accuracy: 0.4259 - val_loss: 1.6766 - val_accuracy: 0.4085\n",
      "Epoch 30/50\n",
      "1250/1250 [==============================] - 3s 2ms/step - loss: 1.6109 - accuracy: 0.4274 - val_loss: 1.6838 - val_accuracy: 0.3994\n",
      "Epoch 31/50\n",
      "1250/1250 [==============================] - 3s 2ms/step - loss: 1.6025 - accuracy: 0.4303 - val_loss: 1.6917 - val_accuracy: 0.4023\n",
      "Epoch 32/50\n",
      "1250/1250 [==============================] - 3s 2ms/step - loss: 1.5942 - accuracy: 0.4340 - val_loss: 1.6836 - val_accuracy: 0.3991\n",
      "Epoch 33/50\n",
      "1250/1250 [==============================] - 3s 2ms/step - loss: 1.5868 - accuracy: 0.4367 - val_loss: 1.6532 - val_accuracy: 0.4164\n",
      "Epoch 34/50\n",
      "1250/1250 [==============================] - 3s 2ms/step - loss: 1.5793 - accuracy: 0.4383 - val_loss: 1.6611 - val_accuracy: 0.4094\n",
      "Epoch 35/50\n",
      "1250/1250 [==============================] - 3s 2ms/step - loss: 1.5738 - accuracy: 0.4433 - val_loss: 1.6513 - val_accuracy: 0.4173\n",
      "Epoch 36/50\n",
      "1250/1250 [==============================] - 3s 2ms/step - loss: 1.5654 - accuracy: 0.4453 - val_loss: 1.6467 - val_accuracy: 0.4140\n",
      "Epoch 37/50\n",
      "1250/1250 [==============================] - 3s 2ms/step - loss: 1.5596 - accuracy: 0.4467 - val_loss: 1.6437 - val_accuracy: 0.4123\n",
      "Epoch 38/50\n",
      "1250/1250 [==============================] - 3s 2ms/step - loss: 1.5534 - accuracy: 0.4504 - val_loss: 1.6631 - val_accuracy: 0.4118\n",
      "Epoch 39/50\n",
      "1250/1250 [==============================] - 3s 2ms/step - loss: 1.5451 - accuracy: 0.4500 - val_loss: 1.6379 - val_accuracy: 0.4198\n",
      "Epoch 40/50\n",
      "1250/1250 [==============================] - 3s 2ms/step - loss: 1.5401 - accuracy: 0.4539 - val_loss: 1.6546 - val_accuracy: 0.4158\n",
      "Epoch 41/50\n",
      "1250/1250 [==============================] - 3s 2ms/step - loss: 1.5330 - accuracy: 0.4563 - val_loss: 1.6526 - val_accuracy: 0.4141\n",
      "Epoch 42/50\n",
      "1250/1250 [==============================] - 3s 2ms/step - loss: 1.5261 - accuracy: 0.4609 - val_loss: 1.6417 - val_accuracy: 0.4216\n",
      "Epoch 43/50\n",
      "1250/1250 [==============================] - 3s 2ms/step - loss: 1.5193 - accuracy: 0.4601 - val_loss: 1.6401 - val_accuracy: 0.4143\n",
      "Epoch 44/50\n",
      "1250/1250 [==============================] - 3s 2ms/step - loss: 1.5153 - accuracy: 0.4598 - val_loss: 1.6284 - val_accuracy: 0.4244\n",
      "Epoch 45/50\n",
      "1250/1250 [==============================] - 3s 2ms/step - loss: 1.5093 - accuracy: 0.4642 - val_loss: 1.6324 - val_accuracy: 0.4224\n",
      "Epoch 46/50\n",
      "1250/1250 [==============================] - 3s 2ms/step - loss: 1.5018 - accuracy: 0.4684 - val_loss: 1.6192 - val_accuracy: 0.4269\n",
      "Epoch 47/50\n",
      "1250/1250 [==============================] - 3s 2ms/step - loss: 1.4931 - accuracy: 0.4726 - val_loss: 1.6213 - val_accuracy: 0.4265\n",
      "Epoch 48/50\n",
      "1250/1250 [==============================] - 3s 2ms/step - loss: 1.4895 - accuracy: 0.4709 - val_loss: 1.6232 - val_accuracy: 0.4257\n",
      "Epoch 49/50\n",
      "1250/1250 [==============================] - 3s 2ms/step - loss: 1.4836 - accuracy: 0.4741 - val_loss: 1.6153 - val_accuracy: 0.4317\n",
      "Epoch 50/50\n",
      "1250/1250 [==============================] - 3s 2ms/step - loss: 1.4788 - accuracy: 0.4749 - val_loss: 1.6205 - val_accuracy: 0.4271\n"
     ]
    }
   ],
   "source": [
    "cifar_model2.compile(optimizer='adam', loss='categorical_crossentropy', metrics=['accuracy'])\n",
    "history2 = cifar_model2.fit(data_cifar_train, labels_cifar_train,\n",
    "                    epochs=50, batch_size=32, validation_split=0.2)"
   ]
  },
  {
   "cell_type": "code",
   "execution_count": 20,
   "metadata": {},
   "outputs": [
    {
     "name": "stdout",
     "output_type": "stream",
     "text": [
      "313/313 - 0s - loss: 1.6295 - accuracy: 0.4243 - 267ms/epoch - 853us/step\n",
      "Test accuracy: 0.4242999851703644\n"
     ]
    }
   ],
   "source": [
    "cifar_test_loss2, cifar_test_acc2 = cifar_model2.evaluate(data_cifar_test, labels_cifar_test, verbose=2)\n",
    "\n",
    "print(f'Test accuracy: {cifar_test_acc2}')"
   ]
  },
  {
   "cell_type": "markdown",
   "metadata": {},
   "source": [
    "We can see that the performance of the model with two hidden layers was significantly greater!"
   ]
  }
 ],
 "metadata": {
  "interpreter": {
   "hash": "098b6707bb4d57eb12a2c3ccb2ba5d8a46b3e4b7830e3a9b994bb36d94b7693a"
  },
  "kernelspec": {
   "display_name": "Python 3.11.4 ('base': conda)",
   "language": "python",
   "name": "python3"
  },
  "language_info": {
   "codemirror_mode": {
    "name": "ipython",
    "version": 3
   },
   "file_extension": ".py",
   "mimetype": "text/x-python",
   "name": "python",
   "nbconvert_exporter": "python",
   "pygments_lexer": "ipython3",
   "version": "3.11.4"
  },
  "orig_nbformat": 4
 },
 "nbformat": 4,
 "nbformat_minor": 2
}
