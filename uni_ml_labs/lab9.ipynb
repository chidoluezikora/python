{
 "cells": [
  {
   "cell_type": "markdown",
   "metadata": {},
   "source": [
    "# Problem 1\n",
    "Recreate your testNet neural network in Tensorflow and compare the performance of the two networks.\n",
    "Give possible reasons for their different performance."
   ]
  },
  {
   "cell_type": "code",
   "execution_count": 1,
   "metadata": {},
   "outputs": [
    {
     "name": "stderr",
     "output_type": "stream",
     "text": [
      "2024-02-07 14:37:21.955066: I external/local_tsl/tsl/cuda/cudart_stub.cc:31] Could not find cuda drivers on your machine, GPU will not be used.\n",
      "2024-02-07 14:37:21.982627: E external/local_xla/xla/stream_executor/cuda/cuda_dnn.cc:9261] Unable to register cuDNN factory: Attempting to register factory for plugin cuDNN when one has already been registered\n",
      "2024-02-07 14:37:21.982653: E external/local_xla/xla/stream_executor/cuda/cuda_fft.cc:607] Unable to register cuFFT factory: Attempting to register factory for plugin cuFFT when one has already been registered\n",
      "2024-02-07 14:37:21.983267: E external/local_xla/xla/stream_executor/cuda/cuda_blas.cc:1515] Unable to register cuBLAS factory: Attempting to register factory for plugin cuBLAS when one has already been registered\n",
      "2024-02-07 14:37:21.987267: I external/local_tsl/tsl/cuda/cudart_stub.cc:31] Could not find cuda drivers on your machine, GPU will not be used.\n",
      "2024-02-07 14:37:21.987588: I tensorflow/core/platform/cpu_feature_guard.cc:182] This TensorFlow binary is optimized to use available CPU instructions in performance-critical operations.\n",
      "To enable the following instructions: AVX2 FMA, in other operations, rebuild TensorFlow with the appropriate compiler flags.\n",
      "2024-02-07 14:37:22.542425: W tensorflow/compiler/tf2tensorrt/utils/py_utils.cc:38] TF-TRT Warning: Could not find TensorRT\n"
     ]
    }
   ],
   "source": [
    "import numpy as np\n",
    "import matplotlib.pyplot as plt\n",
    "import tensorflow as tf"
   ]
  },
  {
   "cell_type": "code",
   "execution_count": 2,
   "metadata": {},
   "outputs": [],
   "source": [
    "data_train = np.load('/mnt/share/nnds/mnist/mnistDataTrain.npy')\n",
    "labels_train = np.load('/mnt/share/nnds/mnist/mnistLabelsTrain.npy')\n",
    "\n",
    "data_test = np.load('/mnt/share/nnds/mnist/mnistDataTest.npy')\n",
    "labels_test = np.load('/mnt/share/nnds/mnist/mnistLabelsTest.npy')"
   ]
  },
  {
   "cell_type": "code",
   "execution_count": 3,
   "metadata": {},
   "outputs": [
    {
     "name": "stderr",
     "output_type": "stream",
     "text": [
      "2024-02-07 14:37:26.728562: I external/local_xla/xla/stream_executor/cuda/cuda_executor.cc:901] successful NUMA node read from SysFS had negative value (-1), but there must be at least one NUMA node, so returning NUMA node zero. See more at https://github.com/torvalds/linux/blob/v6.0/Documentation/ABI/testing/sysfs-bus-pci#L344-L355\n",
      "2024-02-07 14:37:26.729066: W tensorflow/core/common_runtime/gpu/gpu_device.cc:2256] Cannot dlopen some GPU libraries. Please make sure the missing libraries mentioned above are installed properly if you would like to use GPU. Follow the guide at https://www.tensorflow.org/install/gpu for how to download and setup the required libraries for your platform.\n",
      "Skipping registering GPU devices...\n"
     ]
    }
   ],
   "source": [
    "testNet = tf.keras.models.Sequential([\n",
    "    tf.keras.layers.Flatten(input_shape=(28, 28)),  # 28 x 28 = 784 input nodes\n",
    "    tf.keras.layers.Dense(100, activation='sigmoid'),\n",
    "    tf.keras.layers.Dense(10, activation='sigmoid')\n",
    "])"
   ]
  },
  {
   "cell_type": "code",
   "execution_count": 4,
   "metadata": {},
   "outputs": [],
   "source": [
    "lr = 0.6\n",
    "\n",
    "testNet.compile(optimizer=tf.keras.optimizers.SGD(learning_rate=lr),\n",
    "              loss='sparse_categorical_crossentropy',\n",
    "              metrics=['accuracy'])"
   ]
  },
  {
   "cell_type": "code",
   "execution_count": 5,
   "metadata": {},
   "outputs": [
    {
     "name": "stdout",
     "output_type": "stream",
     "text": [
      "Epoch 1/10\n",
      "1875/1875 [==============================] - 2s 1ms/step - loss: 0.3211 - accuracy: 0.9040 - val_loss: 0.1890 - val_accuracy: 0.9431\n",
      "Epoch 2/10\n",
      "1875/1875 [==============================] - 2s 1ms/step - loss: 0.1534 - accuracy: 0.9550 - val_loss: 0.1230 - val_accuracy: 0.9630\n",
      "Epoch 3/10\n",
      "1875/1875 [==============================] - 2s 1ms/step - loss: 0.1077 - accuracy: 0.9685 - val_loss: 0.1036 - val_accuracy: 0.9684\n",
      "Epoch 4/10\n",
      "1875/1875 [==============================] - 2s 1ms/step - loss: 0.0836 - accuracy: 0.9751 - val_loss: 0.0946 - val_accuracy: 0.9720\n",
      "Epoch 5/10\n",
      "1875/1875 [==============================] - 2s 986us/step - loss: 0.0684 - accuracy: 0.9793 - val_loss: 0.0849 - val_accuracy: 0.9733\n",
      "Epoch 6/10\n",
      "1875/1875 [==============================] - 2s 993us/step - loss: 0.0566 - accuracy: 0.9837 - val_loss: 0.0762 - val_accuracy: 0.9765\n",
      "Epoch 7/10\n",
      "1875/1875 [==============================] - 2s 965us/step - loss: 0.0488 - accuracy: 0.9859 - val_loss: 0.0741 - val_accuracy: 0.9772\n",
      "Epoch 8/10\n",
      "1875/1875 [==============================] - 2s 1ms/step - loss: 0.0412 - accuracy: 0.9886 - val_loss: 0.0714 - val_accuracy: 0.9777\n",
      "Epoch 9/10\n",
      "1875/1875 [==============================] - 2s 1ms/step - loss: 0.0353 - accuracy: 0.9904 - val_loss: 0.0704 - val_accuracy: 0.9768\n",
      "Epoch 10/10\n",
      "1875/1875 [==============================] - 2s 1ms/step - loss: 0.0301 - accuracy: 0.9924 - val_loss: 0.0732 - val_accuracy: 0.9769\n"
     ]
    }
   ],
   "source": [
    "# training the model\n",
    "history = testNet.fit(data_train, labels_train, epochs=10, validation_data=(data_test, labels_test))"
   ]
  },
  {
   "cell_type": "markdown",
   "metadata": {},
   "source": [
    "The tensorflow model with similar architecture was significantly more accurate on test data than the custom built model from lab 8 after training with the same training data.\n",
    "\n",
    "tensorflow model accuracy: 97.69%\n",
    "custom built model accuracy: 9.8%\n",
    "\n",
    "Possible reasons for these discrepancies include:\n",
    "- the fixed batch size while training the custom built model.\n",
    "- the lack of an optimizer in the custom built model.\n",
    "- the limited range of learning rates and hidden nodes for fixed batch size in the custom built model.\n",
    "- the lack of image augmentation in the custom built model."
   ]
  },
  {
   "cell_type": "markdown",
   "metadata": {},
   "source": [
    "# Problem 2\n",
    "Tensorflow’s fit method returns a history object which in turn contains an attribut history. Extract it\n",
    "from the object. Use it to plot the validation accuracy, training accuracy and loss as a function of the epoch.\n",
    "Set up a network with a single fully connected layer with 256 nodes (ReLU activated) and train it on MNIST\n",
    "Fashion."
   ]
  },
  {
   "cell_type": "code",
   "execution_count": 6,
   "metadata": {},
   "outputs": [],
   "source": [
    "model = tf.keras.models.Sequential([\n",
    "    tf.keras.layers.Flatten(input_shape=(28, 28)),  # 28 x 28 = 784 input nodes\n",
    "    tf.keras.layers.Dense(256, activation='relu'),\n",
    "    tf.keras.layers.Dense(10, activation='softmax')\n",
    "])"
   ]
  },
  {
   "cell_type": "code",
   "execution_count": 7,
   "metadata": {},
   "outputs": [],
   "source": [
    "model.compile(optimizer='adam',\n",
    "              loss='sparse_categorical_crossentropy',\n",
    "              metrics=['accuracy'])"
   ]
  },
  {
   "cell_type": "code",
   "execution_count": 8,
   "metadata": {},
   "outputs": [
    {
     "name": "stdout",
     "output_type": "stream",
     "text": [
      "Epoch 1/10\n",
      "1875/1875 [==============================] - 3s 2ms/step - loss: 0.2245 - accuracy: 0.9347 - val_loss: 0.1075 - val_accuracy: 0.9684\n",
      "Epoch 2/10\n",
      "1875/1875 [==============================] - 3s 2ms/step - loss: 0.0920 - accuracy: 0.9730 - val_loss: 0.0815 - val_accuracy: 0.9750\n",
      "Epoch 3/10\n",
      "1875/1875 [==============================] - 3s 2ms/step - loss: 0.0612 - accuracy: 0.9813 - val_loss: 0.0731 - val_accuracy: 0.9781\n",
      "Epoch 4/10\n",
      "1875/1875 [==============================] - 3s 2ms/step - loss: 0.0438 - accuracy: 0.9865 - val_loss: 0.0654 - val_accuracy: 0.9787\n",
      "Epoch 5/10\n",
      "1875/1875 [==============================] - 3s 2ms/step - loss: 0.0340 - accuracy: 0.9894 - val_loss: 0.0611 - val_accuracy: 0.9811\n",
      "Epoch 6/10\n",
      "1875/1875 [==============================] - 3s 2ms/step - loss: 0.0246 - accuracy: 0.9922 - val_loss: 0.0652 - val_accuracy: 0.9810\n",
      "Epoch 7/10\n",
      "1875/1875 [==============================] - 3s 2ms/step - loss: 0.0191 - accuracy: 0.9941 - val_loss: 0.0762 - val_accuracy: 0.9795\n",
      "Epoch 8/10\n",
      "1875/1875 [==============================] - 3s 2ms/step - loss: 0.0163 - accuracy: 0.9947 - val_loss: 0.0682 - val_accuracy: 0.9812\n",
      "Epoch 9/10\n",
      "1875/1875 [==============================] - 3s 2ms/step - loss: 0.0129 - accuracy: 0.9962 - val_loss: 0.0793 - val_accuracy: 0.9814\n",
      "Epoch 10/10\n",
      "1875/1875 [==============================] - 3s 2ms/step - loss: 0.0114 - accuracy: 0.9963 - val_loss: 0.0660 - val_accuracy: 0.9823\n"
     ]
    }
   ],
   "source": [
    "history = model.fit(data_train, labels_train, epochs=10, validation_data=(data_test, labels_test))"
   ]
  },
  {
   "cell_type": "code",
   "execution_count": 9,
   "metadata": {},
   "outputs": [
    {
     "data": {
      "image/png": "[encoded data removed]",
      "text/plain": [
       "<Figure size 1200x400 with 2 Axes>"
      ]
     },
     "metadata": {},
     "output_type": "display_data"
    }
   ],
   "source": [
    "training_accuracy = history.history['accuracy']\n",
    "validation_accuracy = history.history['val_accuracy']\n",
    "loss = history.history['loss']\n",
    "val_loss = history.history['val_loss']\n",
    "\n",
    "plt.figure(figsize=(12, 4))\n",
    "plt.subplot(1, 2, 1)\n",
    "plt.plot(training_accuracy, label='Training Accuracy')\n",
    "plt.plot(validation_accuracy, label='Validation Accuracy')\n",
    "plt.xlabel('Epoch')\n",
    "plt.ylabel('Accuracy')\n",
    "plt.legend()\n",
    "\n",
    "plt.subplot(1, 2, 2)\n",
    "plt.plot(loss, label='Training Loss')\n",
    "plt.plot(val_loss, label='Validation Loss')\n",
    "plt.xlabel('Epoch')\n",
    "plt.ylabel('Loss')\n",
    "plt.legend()\n",
    "\n",
    "plt.show()"
   ]
  },
  {
   "cell_type": "markdown",
   "metadata": {},
   "source": [
    "# Problem 3\n",
    "Tensorflow provides the tf.math.confusion_matrix method to create a simple confusion matrix. It returns\n",
    "a tf.tensor which can be converted into a regular Numpy array using np.array. Write a function\n",
    "confusion_matrix that takes a Tensorflow model and a test dataset, evaluates the test dataset, calculates\n",
    "the confusion matrix and turns it into something more readable, e.g. by providing labels, additional\n",
    "explanations, or even a nice graph via plt.img."
   ]
  },
  {
   "cell_type": "code",
   "execution_count": 10,
   "metadata": {},
   "outputs": [],
   "source": [
    "from sklearn.metrics import confusion_matrix\n",
    "import seaborn as sns"
   ]
  },
  {
   "cell_type": "code",
   "execution_count": 11,
   "metadata": {},
   "outputs": [],
   "source": [
    "def plot_confusion_matrix(model, test_data, test_labels, class_names=None, figsize=(8, 6)):\n",
    "    pred = model.predict(test_data)\n",
    "    pred_classes = np.argmax(pred, axis=1)\n",
    "    cm = confusion_matrix(test_labels, pred_classes)\n",
    "    \n",
    "    plt.figure(figsize=figsize)\n",
    "    sns.heatmap(cm, annot=True, fmt='d', cmap='Blues', cbar=False)\n",
    "    plt.title('Confusion Matrix')\n",
    "    plt.show()"
   ]
  },
  {
   "cell_type": "code",
   "execution_count": 12,
   "metadata": {},
   "outputs": [
    {
     "name": "stdout",
     "output_type": "stream",
     "text": [
      "313/313 [==============================] - 0s 504us/step\n"
     ]
    },
    {
     "data": {
      "image/png": "[encoded data removed]",
      "text/plain": [
       "<Figure size 800x600 with 1 Axes>"
      ]
     },
     "metadata": {},
     "output_type": "display_data"
    }
   ],
   "source": [
    "plot_confusion_matrix(model, data_test, labels_test)"
   ]
  },
  {
   "cell_type": "markdown",
   "metadata": {},
   "source": [
    "# Problem 4\n",
    "So far, we have been working with grayscale images."
   ]
  },
  {
   "cell_type": "markdown",
   "metadata": {},
   "source": [
    "a) Color images are harder to process because they contain more information than grayscale images. Grayscale images have a single channel representing intensity, whereas color images typically have three channels (Red, Green, and Blue). This additional information increases the complexity of the data and requires modifications to the neural network architecture. Neural networks designed for grayscale images may not be directly applicable to color images due to differences in input dimensions and the need to handle multiple channels."
   ]
  },
  {
   "cell_type": "markdown",
   "metadata": {},
   "source": [
    "b) Loading data from the CIFAR-10 dataset..."
   ]
  },
  {
   "cell_type": "code",
   "execution_count": 13,
   "metadata": {},
   "outputs": [
    {
     "name": "stdout",
     "output_type": "stream",
     "text": [
      "(50000, 32, 32)\n"
     ]
    }
   ],
   "source": [
    "data_cifar_train = np.load('/mnt/share/nnds/cifar10bw/dataTrain.npy')\n",
    "labels_cifar_train = np.load('/mnt/share/nnds/cifar10bw/labelsTrain.npy')\n",
    "data_cifar_test = np.load('/mnt/share/nnds/cifar10bw/dataTest.npy')\n",
    "labels_cifar_test = np.load('/mnt/share/nnds/cifar10bw/labelsTest.npy')\n",
    "\n",
    "# Normalizing pixel values to the range [0, 1]\n",
    "data_cifar_train = data_cifar_train.astype('float32') / 255.0\n",
    "data_cifar_test = data_cifar_test.astype('float32') / 255.0\n",
    "\n",
    "data_cifar_train = data_cifar_train.reshape((-1, 32, 32))\n",
    "data_cifar_test = data_cifar_test.reshape((-1, 32, 32))\n",
    "\n",
    "print(data_cifar_train.shape)"
   ]
  },
  {
   "cell_type": "markdown",
   "metadata": {},
   "source": [
    "c) Creating a network with a single hidden layer with 256 nodes (ReLU activation) and a softmaxed output."
   ]
  },
  {
   "cell_type": "code",
   "execution_count": 14,
   "metadata": {},
   "outputs": [],
   "source": [
    "from keras.models import Sequential\n",
    "from keras.layers import Flatten, Dense\n",
    "from keras.optimizers import SGD\n",
    "from keras import backend as K\n",
    "\n",
    "K.clear_session()"
   ]
  },
  {
   "cell_type": "code",
   "execution_count": 15,
   "metadata": {},
   "outputs": [],
   "source": [
    "cifar_model = Sequential()\n",
    "cifar_model.add(Flatten(input_shape=(32, 32)))\n",
    "cifar_model.add(Dense(256, activation='relu'))\n",
    "cifar_model.add(Dense(10, activation='softmax'))"
   ]
  },
  {
   "cell_type": "markdown",
   "metadata": {},
   "source": [
    "and training the network for (up to) 50 epochs and discuss the performance of the network..."
   ]
  },
  {
   "cell_type": "code",
   "execution_count": 16,
   "metadata": {},
   "outputs": [
    {
     "name": "stderr",
     "output_type": "stream",
     "text": [
      "WARNING:absl:`lr` is deprecated in Keras optimizer, please use `learning_rate` or use the legacy optimizer, e.g.,tf.keras.optimizers.legacy.SGD.\n"
     ]
    },
    {
     "name": "stdout",
     "output_type": "stream",
     "text": [
      "Epoch 1/50\n",
      "1250/1250 [==============================] - 2s 2ms/step - loss: 2.3023 - accuracy: 0.1040 - val_loss: 2.3021 - val_accuracy: 0.1016\n",
      "Epoch 2/50\n",
      "1250/1250 [==============================] - 2s 1ms/step - loss: 2.3022 - accuracy: 0.1035 - val_loss: 2.3021 - val_accuracy: 0.1016\n",
      "Epoch 3/50\n",
      "1250/1250 [==============================] - 2s 1ms/step - loss: 2.3021 - accuracy: 0.1046 - val_loss: 2.3021 - val_accuracy: 0.0952\n",
      "Epoch 4/50\n",
      "1250/1250 [==============================] - 2s 1ms/step - loss: 2.3020 - accuracy: 0.1080 - val_loss: 2.3020 - val_accuracy: 0.0952\n",
      "Epoch 5/50\n",
      "1250/1250 [==============================] - 2s 1ms/step - loss: 2.3020 - accuracy: 0.1044 - val_loss: 2.3018 - val_accuracy: 0.1311\n",
      "Epoch 6/50\n",
      "1250/1250 [==============================] - 2s 1ms/step - loss: 2.3019 - accuracy: 0.1093 - val_loss: 2.3018 - val_accuracy: 0.1354\n",
      "Epoch 7/50\n",
      "1250/1250 [==============================] - 2s 1ms/step - loss: 2.3018 - accuracy: 0.1090 - val_loss: 2.3017 - val_accuracy: 0.0987\n",
      "Epoch 8/50\n",
      "1250/1250 [==============================] - 2s 1ms/step - loss: 2.3018 - accuracy: 0.1185 - val_loss: 2.3016 - val_accuracy: 0.0952\n",
      "Epoch 9/50\n",
      "1250/1250 [==============================] - 2s 1ms/step - loss: 2.3017 - accuracy: 0.1056 - val_loss: 2.3016 - val_accuracy: 0.0975\n",
      "Epoch 10/50\n",
      "1250/1250 [==============================] - 2s 1ms/step - loss: 2.3016 - accuracy: 0.1093 - val_loss: 2.3015 - val_accuracy: 0.1377\n",
      "Epoch 11/50\n",
      "1250/1250 [==============================] - 2s 1ms/step - loss: 2.3015 - accuracy: 0.1131 - val_loss: 2.3014 - val_accuracy: 0.1032\n",
      "Epoch 12/50\n",
      "1250/1250 [==============================] - 2s 1ms/step - loss: 2.3014 - accuracy: 0.1117 - val_loss: 2.3014 - val_accuracy: 0.1045\n",
      "Epoch 13/50\n",
      "1250/1250 [==============================] - 2s 1ms/step - loss: 2.3013 - accuracy: 0.1169 - val_loss: 2.3013 - val_accuracy: 0.0961\n",
      "Epoch 14/50\n",
      "1250/1250 [==============================] - 2s 1ms/step - loss: 2.3012 - accuracy: 0.1133 - val_loss: 2.3012 - val_accuracy: 0.1237\n",
      "Epoch 15/50\n",
      "1250/1250 [==============================] - 2s 1ms/step - loss: 2.3012 - accuracy: 0.1186 - val_loss: 2.3011 - val_accuracy: 0.1261\n",
      "Epoch 16/50\n",
      "1250/1250 [==============================] - 2s 1ms/step - loss: 2.3011 - accuracy: 0.1116 - val_loss: 2.3008 - val_accuracy: 0.1446\n",
      "Epoch 17/50\n",
      "1250/1250 [==============================] - 2s 1ms/step - loss: 2.3010 - accuracy: 0.1200 - val_loss: 2.3008 - val_accuracy: 0.1098\n",
      "Epoch 18/50\n",
      "1250/1250 [==============================] - 2s 1ms/step - loss: 2.3009 - accuracy: 0.1232 - val_loss: 2.3008 - val_accuracy: 0.1087\n",
      "Epoch 19/50\n",
      "1250/1250 [==============================] - 2s 1ms/step - loss: 2.3008 - accuracy: 0.1186 - val_loss: 2.3006 - val_accuracy: 0.1526\n",
      "Epoch 20/50\n",
      "1250/1250 [==============================] - 2s 1ms/step - loss: 2.3007 - accuracy: 0.1135 - val_loss: 2.3004 - val_accuracy: 0.1201\n",
      "Epoch 21/50\n",
      "1250/1250 [==============================] - 2s 1ms/step - loss: 2.3006 - accuracy: 0.1226 - val_loss: 2.3004 - val_accuracy: 0.1081\n",
      "Epoch 22/50\n",
      "1250/1250 [==============================] - 2s 1ms/step - loss: 2.3005 - accuracy: 0.1303 - val_loss: 2.3003 - val_accuracy: 0.1424\n",
      "Epoch 23/50\n",
      "1250/1250 [==============================] - 2s 1ms/step - loss: 2.3003 - accuracy: 0.1282 - val_loss: 2.3005 - val_accuracy: 0.0959\n",
      "Epoch 24/50\n",
      "1250/1250 [==============================] - 2s 1ms/step - loss: 2.3002 - accuracy: 0.1177 - val_loss: 2.3001 - val_accuracy: 0.1385\n",
      "Epoch 25/50\n",
      "1250/1250 [==============================] - 2s 1ms/step - loss: 2.3001 - accuracy: 0.1235 - val_loss: 2.2999 - val_accuracy: 0.1659\n",
      "Epoch 26/50\n",
      "1250/1250 [==============================] - 2s 1ms/step - loss: 2.3000 - accuracy: 0.1305 - val_loss: 2.2998 - val_accuracy: 0.1669\n",
      "Epoch 27/50\n",
      "1250/1250 [==============================] - 2s 1ms/step - loss: 2.2999 - accuracy: 0.1317 - val_loss: 2.2997 - val_accuracy: 0.1322\n",
      "Epoch 28/50\n",
      "1250/1250 [==============================] - 2s 1ms/step - loss: 2.2998 - accuracy: 0.1264 - val_loss: 2.2998 - val_accuracy: 0.0983\n",
      "Epoch 29/50\n",
      "1250/1250 [==============================] - 2s 1ms/step - loss: 2.2996 - accuracy: 0.1205 - val_loss: 2.2994 - val_accuracy: 0.1789\n",
      "Epoch 30/50\n",
      "1250/1250 [==============================] - 2s 1ms/step - loss: 2.2995 - accuracy: 0.1309 - val_loss: 2.2991 - val_accuracy: 0.1726\n",
      "Epoch 31/50\n",
      "1250/1250 [==============================] - 2s 1ms/step - loss: 2.2994 - accuracy: 0.1452 - val_loss: 2.2993 - val_accuracy: 0.0954\n",
      "Epoch 32/50\n",
      "1250/1250 [==============================] - 2s 1ms/step - loss: 2.2992 - accuracy: 0.1304 - val_loss: 2.2991 - val_accuracy: 0.1242\n",
      "Epoch 33/50\n",
      "1250/1250 [==============================] - 2s 1ms/step - loss: 2.2991 - accuracy: 0.1330 - val_loss: 2.2989 - val_accuracy: 0.1453\n",
      "Epoch 34/50\n",
      "1250/1250 [==============================] - 2s 1ms/step - loss: 2.2989 - accuracy: 0.1488 - val_loss: 2.2989 - val_accuracy: 0.1060\n",
      "Epoch 35/50\n",
      "1250/1250 [==============================] - 2s 1ms/step - loss: 2.2988 - accuracy: 0.1449 - val_loss: 2.2986 - val_accuracy: 0.1338\n",
      "Epoch 36/50\n",
      "1250/1250 [==============================] - 2s 1ms/step - loss: 2.2986 - accuracy: 0.1346 - val_loss: 2.2985 - val_accuracy: 0.1239\n",
      "Epoch 37/50\n",
      "1250/1250 [==============================] - 2s 1ms/step - loss: 2.2984 - accuracy: 0.1364 - val_loss: 2.2982 - val_accuracy: 0.1526\n",
      "Epoch 38/50\n",
      "1250/1250 [==============================] - 2s 1ms/step - loss: 2.2983 - accuracy: 0.1529 - val_loss: 2.2980 - val_accuracy: 0.1415\n",
      "Epoch 39/50\n",
      "1250/1250 [==============================] - 2s 1ms/step - loss: 2.2980 - accuracy: 0.1342 - val_loss: 2.2979 - val_accuracy: 0.1309\n",
      "Epoch 40/50\n",
      "1250/1250 [==============================] - 2s 1ms/step - loss: 2.2978 - accuracy: 0.1383 - val_loss: 2.2977 - val_accuracy: 0.1404\n",
      "Epoch 41/50\n",
      "1250/1250 [==============================] - 2s 1ms/step - loss: 2.2977 - accuracy: 0.1489 - val_loss: 2.2976 - val_accuracy: 0.1258\n",
      "Epoch 42/50\n",
      "1250/1250 [==============================] - 2s 1ms/step - loss: 2.2975 - accuracy: 0.1492 - val_loss: 2.2972 - val_accuracy: 0.1687\n",
      "Epoch 43/50\n",
      "1250/1250 [==============================] - 2s 1ms/step - loss: 2.2973 - accuracy: 0.1604 - val_loss: 2.2969 - val_accuracy: 0.1992\n",
      "Epoch 44/50\n",
      "1250/1250 [==============================] - 2s 2ms/step - loss: 2.2970 - accuracy: 0.1600 - val_loss: 2.2972 - val_accuracy: 0.1204\n",
      "Epoch 45/50\n",
      "1250/1250 [==============================] - 2s 1ms/step - loss: 2.2969 - accuracy: 0.1436 - val_loss: 2.2965 - val_accuracy: 0.1529\n",
      "Epoch 46/50\n",
      "1250/1250 [==============================] - 2s 1ms/step - loss: 2.2966 - accuracy: 0.1605 - val_loss: 2.2964 - val_accuracy: 0.1396\n",
      "Epoch 47/50\n",
      "1250/1250 [==============================] - 2s 1ms/step - loss: 2.2964 - accuracy: 0.1629 - val_loss: 2.2961 - val_accuracy: 0.1501\n",
      "Epoch 48/50\n",
      "1250/1250 [==============================] - 2s 1ms/step - loss: 2.2961 - accuracy: 0.1583 - val_loss: 2.2961 - val_accuracy: 0.1164\n",
      "Epoch 49/50\n",
      "1250/1250 [==============================] - 2s 1ms/step - loss: 2.2959 - accuracy: 0.1574 - val_loss: 2.2956 - val_accuracy: 0.1567\n",
      "Epoch 50/50\n",
      "1250/1250 [==============================] - 2s 1ms/step - loss: 2.2955 - accuracy: 0.1612 - val_loss: 2.2953 - val_accuracy: 0.1428\n"
     ]
    }
   ],
   "source": [
    "from keras.utils import to_categorical\n",
    "\n",
    "labels_cifar_train = to_categorical(labels_cifar_train, num_classes=10)\n",
    "labels_cifar_test = to_categorical(labels_cifar_test, num_classes=10)\n",
    "\n",
    "cifar_model.compile(optimizer=SGD(lr=0.6), loss='categorical_crossentropy', metrics=['accuracy'])\n",
    "history = cifar_model.fit(data_cifar_train, labels_cifar_train,\n",
    "                    epochs=50, batch_size=32, validation_split=0.2)"
   ]
  },
  {
   "cell_type": "markdown",
   "metadata": {},
   "source": [
    "The network's performance on the validation dataset could be improved. This may be done by; \n",
    "\n",
    "- changing hyperparameters and parameters like the number of nodes in its hidden layer\n",
    "- using a more optimal learning rate.\n",
    "- training for less of more epochs to avoid overfitting and underfitting respectively.\n",
    "- and of course by adding more hidden layers."
   ]
  },
  {
   "cell_type": "markdown",
   "metadata": {},
   "source": [
    "d) Calculating the fraction of correctly classified images as a function of the image class..."
   ]
  },
  {
   "cell_type": "code",
   "execution_count": 20,
   "metadata": {},
   "outputs": [
    {
     "name": "stdout",
     "output_type": "stream",
     "text": [
      "313/313 - 0s - loss: 2.2953 - accuracy: 0.1378 - 182ms/epoch - 581us/step\n",
      "Test accuracy: 0.13779999315738678\n"
     ]
    }
   ],
   "source": [
    "cifar_test_loss, cifar_test_acc = cifar_model.evaluate(data_cifar_test, labels_cifar_test, verbose=2)\n",
    "\n",
    "print(f'Test accuracy: {cifar_test_acc}')"
   ]
  },
  {
   "cell_type": "markdown",
   "metadata": {},
   "source": [
    "e) Creating a network with two hidden layers with 256 nodes each (ReLU activation) and a softmaxed\n",
    "output."
   ]
  },
  {
   "cell_type": "code",
   "execution_count": 21,
   "metadata": {},
   "outputs": [],
   "source": [
    "cifar_model2 = Sequential()\n",
    "cifar_model2.add(Flatten(input_shape=(32, 32)))\n",
    "cifar_model2.add(Dense(256, activation='relu'))\n",
    "cifar_model2.add(Dense(256, activation='relu'))\n",
    "cifar_model2.add(Dense(10, activation='softmax'))"
   ]
  },
  {
   "cell_type": "markdown",
   "metadata": {},
   "source": [
    "and training the network for (up to) 50 epochs..."
   ]
  },
  {
   "cell_type": "code",
   "execution_count": 22,
   "metadata": {},
   "outputs": [
    {
     "name": "stderr",
     "output_type": "stream",
     "text": [
      "WARNING:absl:`lr` is deprecated in Keras optimizer, please use `learning_rate` or use the legacy optimizer, e.g.,tf.keras.optimizers.legacy.SGD.\n"
     ]
    },
    {
     "name": "stdout",
     "output_type": "stream",
     "text": [
      "Epoch 1/50\n",
      "1250/1250 [==============================] - 2s 2ms/step - loss: 2.3022 - accuracy: 0.1072 - val_loss: 2.3020 - val_accuracy: 0.0952\n",
      "Epoch 2/50\n",
      "1250/1250 [==============================] - 2s 2ms/step - loss: 2.3019 - accuracy: 0.1069 - val_loss: 2.3020 - val_accuracy: 0.0952\n",
      "Epoch 3/50\n",
      "1250/1250 [==============================] - 2s 2ms/step - loss: 2.3019 - accuracy: 0.1065 - val_loss: 2.3019 - val_accuracy: 0.0973\n",
      "Epoch 4/50\n",
      "1250/1250 [==============================] - 2s 2ms/step - loss: 2.3018 - accuracy: 0.1072 - val_loss: 2.3017 - val_accuracy: 0.0952\n",
      "Epoch 5/50\n",
      "1250/1250 [==============================] - 2s 2ms/step - loss: 2.3017 - accuracy: 0.1091 - val_loss: 2.3016 - val_accuracy: 0.1003\n",
      "Epoch 6/50\n",
      "1250/1250 [==============================] - 2s 2ms/step - loss: 2.3017 - accuracy: 0.1069 - val_loss: 2.3014 - val_accuracy: 0.1456\n",
      "Epoch 7/50\n",
      "1250/1250 [==============================] - 2s 2ms/step - loss: 2.3015 - accuracy: 0.1082 - val_loss: 2.3014 - val_accuracy: 0.0985\n",
      "Epoch 8/50\n",
      "1250/1250 [==============================] - 2s 2ms/step - loss: 2.3014 - accuracy: 0.1151 - val_loss: 2.3016 - val_accuracy: 0.0952\n",
      "Epoch 9/50\n",
      "1250/1250 [==============================] - 2s 2ms/step - loss: 2.3013 - accuracy: 0.1099 - val_loss: 2.3012 - val_accuracy: 0.1432\n",
      "Epoch 10/50\n",
      "1250/1250 [==============================] - 2s 2ms/step - loss: 2.3013 - accuracy: 0.1183 - val_loss: 2.3013 - val_accuracy: 0.0952\n",
      "Epoch 11/50\n",
      "1250/1250 [==============================] - 2s 2ms/step - loss: 2.3012 - accuracy: 0.1122 - val_loss: 2.3009 - val_accuracy: 0.1107\n",
      "Epoch 12/50\n",
      "1250/1250 [==============================] - 2s 2ms/step - loss: 2.3011 - accuracy: 0.1206 - val_loss: 2.3009 - val_accuracy: 0.1177\n",
      "Epoch 13/50\n",
      "1250/1250 [==============================] - 2s 2ms/step - loss: 2.3010 - accuracy: 0.1185 - val_loss: 2.3007 - val_accuracy: 0.1384\n",
      "Epoch 14/50\n",
      "1250/1250 [==============================] - 2s 2ms/step - loss: 2.3008 - accuracy: 0.1249 - val_loss: 2.3008 - val_accuracy: 0.1494\n",
      "Epoch 15/50\n",
      "1250/1250 [==============================] - 2s 2ms/step - loss: 2.3007 - accuracy: 0.1230 - val_loss: 2.3006 - val_accuracy: 0.1010\n",
      "Epoch 16/50\n",
      "1250/1250 [==============================] - 2s 2ms/step - loss: 2.3005 - accuracy: 0.1127 - val_loss: 2.3006 - val_accuracy: 0.0978\n",
      "Epoch 17/50\n",
      "1250/1250 [==============================] - 2s 2ms/step - loss: 2.3003 - accuracy: 0.1154 - val_loss: 2.3002 - val_accuracy: 0.1367\n",
      "Epoch 18/50\n",
      "1250/1250 [==============================] - 2s 2ms/step - loss: 2.3002 - accuracy: 0.1250 - val_loss: 2.3000 - val_accuracy: 0.1338\n",
      "Epoch 19/50\n",
      "1250/1250 [==============================] - 2s 2ms/step - loss: 2.3000 - accuracy: 0.1239 - val_loss: 2.2999 - val_accuracy: 0.1360\n",
      "Epoch 20/50\n",
      "1250/1250 [==============================] - 2s 2ms/step - loss: 2.2998 - accuracy: 0.1274 - val_loss: 2.2995 - val_accuracy: 0.1442\n",
      "Epoch 21/50\n",
      "1250/1250 [==============================] - 2s 2ms/step - loss: 2.2996 - accuracy: 0.1272 - val_loss: 2.2993 - val_accuracy: 0.1477\n",
      "Epoch 22/50\n",
      "1250/1250 [==============================] - 2s 2ms/step - loss: 2.2994 - accuracy: 0.1320 - val_loss: 2.2993 - val_accuracy: 0.1103\n",
      "Epoch 23/50\n",
      "1250/1250 [==============================] - 2s 2ms/step - loss: 2.2991 - accuracy: 0.1358 - val_loss: 2.2991 - val_accuracy: 0.1424\n",
      "Epoch 24/50\n",
      "1250/1250 [==============================] - 2s 2ms/step - loss: 2.2988 - accuracy: 0.1367 - val_loss: 2.2986 - val_accuracy: 0.1240\n",
      "Epoch 25/50\n",
      "1250/1250 [==============================] - 2s 2ms/step - loss: 2.2986 - accuracy: 0.1327 - val_loss: 2.2982 - val_accuracy: 0.1530\n",
      "Epoch 26/50\n",
      "1250/1250 [==============================] - 2s 2ms/step - loss: 2.2982 - accuracy: 0.1399 - val_loss: 2.2979 - val_accuracy: 0.1307\n",
      "Epoch 27/50\n",
      "1250/1250 [==============================] - 2s 2ms/step - loss: 2.2979 - accuracy: 0.1399 - val_loss: 2.2976 - val_accuracy: 0.1418\n",
      "Epoch 28/50\n",
      "1250/1250 [==============================] - 2s 2ms/step - loss: 2.2974 - accuracy: 0.1446 - val_loss: 2.2978 - val_accuracy: 0.1140\n",
      "Epoch 29/50\n",
      "1250/1250 [==============================] - 2s 2ms/step - loss: 2.2969 - accuracy: 0.1322 - val_loss: 2.2965 - val_accuracy: 0.1512\n",
      "Epoch 30/50\n",
      "1250/1250 [==============================] - 2s 2ms/step - loss: 2.2963 - accuracy: 0.1326 - val_loss: 2.2962 - val_accuracy: 0.1186\n",
      "Epoch 31/50\n",
      "1250/1250 [==============================] - 2s 2ms/step - loss: 2.2958 - accuracy: 0.1410 - val_loss: 2.2955 - val_accuracy: 0.1581\n",
      "Epoch 32/50\n",
      "1250/1250 [==============================] - 2s 2ms/step - loss: 2.2952 - accuracy: 0.1478 - val_loss: 2.2945 - val_accuracy: 0.1347\n",
      "Epoch 33/50\n",
      "1250/1250 [==============================] - 2s 2ms/step - loss: 2.2945 - accuracy: 0.1501 - val_loss: 2.2942 - val_accuracy: 0.1546\n",
      "Epoch 34/50\n",
      "1250/1250 [==============================] - 2s 2ms/step - loss: 2.2936 - accuracy: 0.1441 - val_loss: 2.2931 - val_accuracy: 0.1415\n",
      "Epoch 35/50\n",
      "1250/1250 [==============================] - 2s 2ms/step - loss: 2.2928 - accuracy: 0.1489 - val_loss: 2.2918 - val_accuracy: 0.1628\n",
      "Epoch 36/50\n",
      "1250/1250 [==============================] - 2s 2ms/step - loss: 2.2918 - accuracy: 0.1561 - val_loss: 2.2912 - val_accuracy: 0.1371\n",
      "Epoch 37/50\n",
      "1250/1250 [==============================] - 2s 2ms/step - loss: 2.2906 - accuracy: 0.1512 - val_loss: 2.2900 - val_accuracy: 0.1400\n",
      "Epoch 38/50\n",
      "1250/1250 [==============================] - 2s 2ms/step - loss: 2.2893 - accuracy: 0.1509 - val_loss: 2.2884 - val_accuracy: 0.1619\n",
      "Epoch 39/50\n",
      "1250/1250 [==============================] - 2s 2ms/step - loss: 2.2879 - accuracy: 0.1543 - val_loss: 2.2868 - val_accuracy: 0.1390\n",
      "Epoch 40/50\n",
      "1250/1250 [==============================] - 2s 2ms/step - loss: 2.2862 - accuracy: 0.1595 - val_loss: 2.2849 - val_accuracy: 0.1384\n",
      "Epoch 41/50\n",
      "1250/1250 [==============================] - 2s 2ms/step - loss: 2.2842 - accuracy: 0.1585 - val_loss: 2.2828 - val_accuracy: 0.1626\n",
      "Epoch 42/50\n",
      "1250/1250 [==============================] - 2s 2ms/step - loss: 2.2821 - accuracy: 0.1604 - val_loss: 2.2803 - val_accuracy: 0.1708\n",
      "Epoch 43/50\n",
      "1250/1250 [==============================] - 2s 2ms/step - loss: 2.2796 - accuracy: 0.1565 - val_loss: 2.2779 - val_accuracy: 0.1657\n",
      "Epoch 44/50\n",
      "1250/1250 [==============================] - 2s 2ms/step - loss: 2.2767 - accuracy: 0.1620 - val_loss: 2.2751 - val_accuracy: 0.1777\n",
      "Epoch 45/50\n",
      "1250/1250 [==============================] - 2s 2ms/step - loss: 2.2738 - accuracy: 0.1657 - val_loss: 2.2720 - val_accuracy: 0.1774\n",
      "Epoch 46/50\n",
      "1250/1250 [==============================] - 2s 2ms/step - loss: 2.2703 - accuracy: 0.1668 - val_loss: 2.2681 - val_accuracy: 0.1592\n",
      "Epoch 47/50\n",
      "1250/1250 [==============================] - 2s 2ms/step - loss: 2.2665 - accuracy: 0.1630 - val_loss: 2.2637 - val_accuracy: 0.2000\n",
      "Epoch 48/50\n",
      "1250/1250 [==============================] - 2s 2ms/step - loss: 2.2624 - accuracy: 0.1703 - val_loss: 2.2591 - val_accuracy: 0.1468\n",
      "Epoch 49/50\n",
      "1250/1250 [==============================] - 2s 2ms/step - loss: 2.2578 - accuracy: 0.1613 - val_loss: 2.2546 - val_accuracy: 0.1618\n",
      "Epoch 50/50\n",
      "1250/1250 [==============================] - 2s 2ms/step - loss: 2.2534 - accuracy: 0.1692 - val_loss: 2.2493 - val_accuracy: 0.1840\n"
     ]
    }
   ],
   "source": [
    "cifar_model2.compile(optimizer=SGD(lr=0.6), loss='categorical_crossentropy', metrics=['accuracy'])\n",
    "history2 = cifar_model2.fit(data_cifar_train, labels_cifar_train,\n",
    "                    epochs=50, batch_size=32, validation_split=0.2)"
   ]
  },
  {
   "cell_type": "code",
   "execution_count": 23,
   "metadata": {},
   "outputs": [
    {
     "name": "stdout",
     "output_type": "stream",
     "text": [
      "313/313 - 0s - loss: 2.2497 - accuracy: 0.1913 - 293ms/epoch - 937us/step\n",
      "Test accuracy: 0.19130000472068787\n"
     ]
    }
   ],
   "source": [
    "cifar_test_loss2, cifar_test_acc2 = cifar_model2.evaluate(data_cifar_test, labels_cifar_test, verbose=2)\n",
    "\n",
    "print(f'Test accuracy: {cifar_test_acc2}')"
   ]
  },
  {
   "cell_type": "markdown",
   "metadata": {},
   "source": [
    "We can see that with the same learning rate the performance of the model with two hidden layers was significantly greater!"
   ]
  }
 ],
 "metadata": {
  "interpreter": {
   "hash": "098b6707bb4d57eb12a2c3ccb2ba5d8a46b3e4b7830e3a9b994bb36d94b7693a"
  },
  "kernelspec": {
   "display_name": "Python 3.11.4 ('base': conda)",
   "language": "python",
   "name": "python3"
  },
  "language_info": {
   "codemirror_mode": {
    "name": "ipython",
    "version": 3
   },
   "file_extension": ".py",
   "mimetype": "text/x-python",
   "name": "python",
   "nbconvert_exporter": "python",
   "pygments_lexer": "ipython3",
   "version": "3.11.4"
  },
  "orig_nbformat": 4
 },
 "nbformat": 4,
 "nbformat_minor": 2
}
