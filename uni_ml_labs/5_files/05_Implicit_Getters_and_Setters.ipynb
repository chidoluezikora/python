{
 "cells": [
  {
   "cell_type": "markdown",
   "id": "8fc9ed1d",
   "metadata": {},
   "source": [
    "# Excursion: Implicit getter and setter calls"
   ]
  },
  {
   "cell_type": "markdown",
   "id": "c64b85b6",
   "metadata": {},
   "source": [
    "In your lectures on object oriented programming, one of the fundamental dogmas has been:\n",
    "\n",
    "*Avoid public attributes. Instead, use getter and setter methods to control private attributes.*\n",
    "\n",
    "The reasoning behind this dogma is clear and reasonable: The modern concept of data encapsulation discourages public attributes because anyone can change them just as he or she wishes, potentially breaking your code. Getter and setter methods allow us to keep control about the range of values that may be assigned to private attributes.\n",
    "\n",
    "The downside of this approch is that it leads to ugly and less-readable code that contains tons of useless ballast like\n",
    "\n",
    "```python\n",
    "var = (class1.getAttr1()+class1.getAttr2())*class2.getAttr1()/class2.getAttr2()\n",
    "```\n",
    "\n",
    "Wouldn't it be great if we could call private attributes just like public ones?\n",
    "\n",
    "```python\n",
    "var = (class1.attr1+class1.attr2)*class2.attr1/class2.attr2\n",
    "```\n",
    "\n",
    "Luckily, Python got you covered and features ``Decorators`` to declare methods as implicit setters:"
   ]
  },
  {
   "cell_type": "code",
   "execution_count": null,
   "id": "a3f31c53",
   "metadata": {},
   "outputs": [],
   "source": [
    "class Test:\n",
    "    def __init__(self,var):\n",
    "        self.var = var # Wait a second: Did we just create a public attribute?\n",
    "    @property\n",
    "    def var(self): # Let's make it private, i.e. turn it into a property\n",
    "        return self.__var\n",
    "    @var.setter # The decorator turns the following method into an implicit setter\n",
    "    def var(self, var):\n",
    "        if var < 0:\n",
    "            self.__var = 0\n",
    "        elif var > 1:\n",
    "            self.__var = 1\n",
    "        else:\n",
    "            self.__var = var"
   ]
  },
  {
   "cell_type": "markdown",
   "id": "aa013e73",
   "metadata": {},
   "source": [
    "From now on, we can reference the private attribute ``var`` just like a public attribute with an implicit setter call:"
   ]
  },
  {
   "cell_type": "code",
   "execution_count": null,
   "id": "7974837d",
   "metadata": {},
   "outputs": [],
   "source": [
    "test1 = Test(0.5) # Value within range\n",
    "test2 = Test(1.5) # Should be corrected by the setter method\n",
    "test3 = test1\n",
    "\n",
    "test3.var = -1 # Will also be corrected by the setter method\n",
    "\n",
    "print(test1.var, test2.var, test3.var)"
   ]
  }
 ],
 "metadata": {
  "kernelspec": {
   "display_name": "Python 3",
   "language": "python",
   "name": "python3"
  },
  "language_info": {
   "codemirror_mode": {
    "name": "ipython",
    "version": 3
   },
   "file_extension": ".py",
   "mimetype": "text/x-python",
   "name": "python",
   "nbconvert_exporter": "python",
   "pygments_lexer": "ipython3",
   "version": "3.9.1"
  }
 },
 "nbformat": 4,
 "nbformat_minor": 5
}
