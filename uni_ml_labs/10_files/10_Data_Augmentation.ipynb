{
 "cells": [
  {
   "cell_type": "markdown",
   "metadata": {},
   "source": [
    "# 10 Image Data Augmentation"
   ]
  },
  {
   "cell_type": "markdown",
   "metadata": {},
   "source": [
    "*IMPORTANT*\n",
    "\n",
    "If you're experiencing issues with this notebook, please update your ```cuDNN``` library:\n",
    "\n",
    "```\n",
    "conda activate tf\n",
    "pip install nvidia-cudnn-cu11==8.9.0.131\n",
    "```\n",
    "\n",
    "Then, import a familiar set of libraries:"
   ]
  },
  {
   "cell_type": "code",
   "execution_count": null,
   "metadata": {},
   "outputs": [],
   "source": [
    "import numpy as np\n",
    "import matplotlib.pyplot as plt\n",
    "from PIL import Image as image\n",
    "import tensorflow as tf\n",
    "from tensorflow import keras"
   ]
  },
  {
   "cell_type": "markdown",
   "metadata": {},
   "source": [
    "The final problem on the last sheet gave you a sneak-peak at one of the most important topics in data preprocessing - data augmentation. Tensorflow allows us to augment our training data in various fashions on the fly:\n",
    "\n",
    "- Rotations\n",
    "- Translations (vertical/horizontal)\n",
    "- Crops/Zoom\n",
    "- Flips (vertical/horizontal)\n",
    "- ...\n",
    "\n",
    "For the full list, check https://keras.io/api/preprocessing/image/. In Tensorflow, image data augmentation is carried out by creating a so-called data generator which is then called by the Tensorflow ``fit`` method to retrieve a batch of augmentated data which are then fed into the network. Here, we will create a generator for the MNIST dataset of handwritten digits:"
   ]
  },
  {
   "cell_type": "code",
   "execution_count": null,
   "metadata": {},
   "outputs": [],
   "source": [
    "mnist = keras.datasets.mnist\n",
    "\n",
    "(trainImages, trainLabels), (testImages, testLabels) = mnist.load_data()\n",
    "\n",
    "print(trainImages.shape, testImages.shape)"
   ]
  },
  {
   "cell_type": "markdown",
   "metadata": {},
   "source": [
    "Let's create a simple data generator that returns random digits rotated by up to 10 deg, where empty pixels are filled with 0:"
   ]
  },
  {
   "cell_type": "code",
   "execution_count": null,
   "metadata": {},
   "outputs": [],
   "source": [
    "imageGenerator = keras.preprocessing.image.ImageDataGenerator(\n",
    "    fill_mode='constant',\n",
    "    cval = 0.,\n",
    "    rotation_range=10,\n",
    "#    width_shift_range=.10,\n",
    "#    height_shift_range=.10,\n",
    "    horizontal_flip=False,\n",
    "    vertical_flip=False\n",
    ")"
   ]
  },
  {
   "cell_type": "markdown",
   "metadata": {},
   "source": [
    "The generator expects a image data array with four dimensions to deal with color images. Therefore, we need to add a dummy axis:"
   ]
  },
  {
   "cell_type": "code",
   "execution_count": null,
   "metadata": {},
   "outputs": [],
   "source": [
    "trainImages = np.expand_dims(trainImages, axis=3)\n",
    "print(trainImages.shape)"
   ]
  },
  {
   "cell_type": "markdown",
   "metadata": {},
   "source": [
    "We can now create and compile a model:"
   ]
  },
  {
   "cell_type": "code",
   "execution_count": null,
   "metadata": {},
   "outputs": [],
   "source": [
    "readNet = keras.models.Sequential([\n",
    "    keras.layers.Flatten(input_shape=(28, 28, 1)),\n",
    "    keras.layers.Dense(200, activation='relu'),\n",
    "    keras.layers.Dense(10, activation='softmax')\n",
    "])\n",
    "\n",
    "readNet.compile(optimizer='adam', \n",
    "              loss='sparse_categorical_crossentropy',\n",
    "              metrics=['accuracy'])"
   ]
  },
  {
   "cell_type": "markdown",
   "metadata": {},
   "source": [
    "To train the model, we pass the ```imageGenerator.flow``` with the training data and labels as input for the ```fit``` method:"
   ]
  },
  {
   "cell_type": "code",
   "execution_count": null,
   "metadata": {},
   "outputs": [],
   "source": [
    "batch = 200\n",
    "\n",
    "history = readNet.fit(imageGenerator.flow(trainImages, trainLabels, batch_size=batch, shuffle=False),validation_data=(testImages, testLabels), steps_per_epoch=len(trainImages) / batch, epochs=200)"
   ]
  },
  {
   "cell_type": "markdown",
   "metadata": {},
   "source": [
    "``batch`` defines the number of images that are generated every time we call the image generator. If you're using ``tensorflow-gpu`` and run out of memory (``resource exhaustion error``), try to reduce the batch size. On a desktop CPU, training the network takes forever ..."
   ]
  }
 ],
 "metadata": {
  "kernelspec": {
   "display_name": "Python 3",
   "language": "python",
   "name": "python3"
  },
  "language_info": {
   "codemirror_mode": {
    "name": "ipython",
    "version": 3
   },
   "file_extension": ".py",
   "mimetype": "text/x-python",
   "name": "python",
   "nbconvert_exporter": "python",
   "pygments_lexer": "ipython3",
   "version": "3.10.13"
  }
 },
 "nbformat": 4,
 "nbformat_minor": 4
}
