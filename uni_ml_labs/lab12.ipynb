{
 "cells": [
  {
   "cell_type": "markdown",
   "metadata": {},
   "source": [
    "# Problem 1\n",
    "We have to implement the pre-processing functions for this task.\n",
    "\n",
    "a) **Splitting the dataset**: Implement a function which splits the data set into a training and validation\n",
    "data set. The input of the function should be a dataframe containing the SMARD data, as well as\n",
    "the first and last timesteps of both the training and validation data sets. These four values should be\n",
    "pandas datetime objects. After the data is split, the columns containing datetime objects should be\n",
    "removed. The output of the function should be two numpy arrays, one containing the training data\n",
    "set and one containing the validation data set."
   ]
  },
  {
   "cell_type": "code",
   "execution_count": 1,
   "metadata": {},
   "outputs": [],
   "source": [
    "import pandas as pd"
   ]
  },
  {
   "cell_type": "markdown",
   "metadata": {},
   "source": [
    "Copying helper function ..."
   ]
  },
  {
   "cell_type": "code",
   "execution_count": 2,
   "metadata": {},
   "outputs": [],
   "source": [
    "def read_SMARD_data(path, remove_bad_columns=False):\n",
    "    \"\"\" Read SMARD data .csv file to a pandas Dataframe\n",
    "\n",
    "        Input:\n",
    "        path: file path to SMARD data .csv file\n",
    "\n",
    "        Returns:\n",
    "        pandas Dataframe with SMARD data\n",
    "    \"\"\"\n",
    "    # save data from .csv file to dataframe\n",
    "    df = pd.read_csv(path, delimiter=';', thousands='.', decimal=',', parse_dates=[[0,1]], dayfirst=\"True\")\n",
    "\n",
    "    # rename columns\n",
    "    df = df.rename(\n",
    "        columns={\n",
    "        'Datum_Anfang': \"Date\",\n",
    "        'Gesamt (Netzlast) [MWh] Originalauflösungen': 'Total Load [MWh]',\n",
    "        'Residuallast [MWh] Originalauflösungen': 'Residual Load [MWh]',\n",
    "        'Pumpspeicher [MWh] Originalauflösungen' : 'Energy from Pumped Storage [MWh]'\n",
    "        }\n",
    "    )\n",
    "    if remove_bad_columns==True:\n",
    "        # remove columns from Dataframe\n",
    "        df = df.drop(['Residual Load [MWh]', 'Energy from Pumped Storage [MWh]'], axis=\"columns\")\n",
    "        df.pop('Ende')\n",
    "    return df"
   ]
  },
  {
   "cell_type": "markdown",
   "metadata": {},
   "source": [
    "Reading the data from the csv ..."
   ]
  },
  {
   "cell_type": "code",
   "execution_count": 3,
   "metadata": {},
   "outputs": [],
   "source": [
    "smard_df = read_SMARD_data('SMARD.csv')"
   ]
  },
  {
   "cell_type": "code",
   "execution_count": 4,
   "metadata": {},
   "outputs": [
    {
     "name": "stdout",
     "output_type": "stream",
     "text": [
      "                      Date   Ende  Total Load [MWh]  Residual Load [MWh]  \\\n",
      "0      2020-01-01 00:00:00  00:15          10964.25              9362.75   \n",
      "1      2020-01-01 00:15:00  00:30          10908.50              9311.75   \n",
      "2      2020-01-01 00:30:00  00:45          10833.00              9170.50   \n",
      "3      2020-01-01 00:45:00  01:00          10788.25              9065.00   \n",
      "4      2020-01-01 01:00:00  01:15          10756.00              9012.50   \n",
      "...                    ...    ...               ...                  ...   \n",
      "105211 2022-12-31 22:45:00  23:00          10457.75              1922.50   \n",
      "105212 2022-12-31 23:00:00  23:15          10331.25              2098.50   \n",
      "105213 2022-12-31 23:15:00  23:30          10339.50              2131.25   \n",
      "105214 2022-12-31 23:30:00  23:45          10220.75              2076.75   \n",
      "105215 2022-12-31 23:45:00  00:00          10104.25              2039.50   \n",
      "\n",
      "        Energy from Pumped Storage [MWh]  \n",
      "0                                  48.75  \n",
      "1                                  65.25  \n",
      "2                                  96.00  \n",
      "3                                 124.75  \n",
      "4                                  94.75  \n",
      "...                                  ...  \n",
      "105211                            976.75  \n",
      "105212                            900.50  \n",
      "105213                            871.75  \n",
      "105214                            873.00  \n",
      "105215                            952.25  \n",
      "\n",
      "[105216 rows x 5 columns]\n"
     ]
    }
   ],
   "source": [
    "print(smard_df)"
   ]
  },
  {
   "cell_type": "markdown",
   "metadata": {},
   "source": [
    "Implementing a function that splits the data into training and validation datasets ..."
   ]
  },
  {
   "cell_type": "code",
   "execution_count": null,
   "metadata": {},
   "outputs": [],
   "source": [
    "def split_train_val(dataframe, first_timestp_train, last_timestp_train, first_timestp_val, last_timestp_val):\n",
    "    \"\"\"\n",
    "    Splits data into training and validation datasets\n",
    "\n",
    "    Args:\n",
    "        dataframe (pandas.Dataframe): the dataframe containing the SMARD data.\n",
    "        first_timestp_train (datetime.datetime): the first timestep of the training data.\n",
    "        last_timestp_train (datetime.datetime): the last timestep of the training data.\n",
    "        first_timestp_val (datetime.datetime): the first timestep of the validation data.\n",
    "        last_timestp_val (datetime.datetime): the last timestep of the validation data.\n",
    "\n",
    "    Returns:\n",
    "        train_data (np.array): the training data,\n",
    "        val_data (np.array): the validation data.\n",
    "    \"\"\"\n",
    "    \n",
    "    train_data = dataframe[dataframe['Date'] <= last_timestp_train]\n",
    "    val_data = dataframe[dataframe['Date'] <= last_timestp_val]\n",
    "    \n",
    "    train_data = train_data[train_data['Date'] >= first_timestp_train]\n",
    "    val_data = val_data[val_data['Date'] >= first_timestp_val]\n",
    "    \n",
    "    return train_data, val_data"
   ]
  }
 ],
 "metadata": {
  "interpreter": {
   "hash": "098b6707bb4d57eb12a2c3ccb2ba5d8a46b3e4b7830e3a9b994bb36d94b7693a"
  },
  "kernelspec": {
   "display_name": "Python 3.11.4 ('base': conda)",
   "language": "python",
   "name": "python3"
  },
  "language_info": {
   "codemirror_mode": {
    "name": "ipython",
    "version": 3
   },
   "file_extension": ".py",
   "mimetype": "text/x-python",
   "name": "python",
   "nbconvert_exporter": "python",
   "pygments_lexer": "ipython3",
   "version": "3.11.4"
  },
  "orig_nbformat": 4
 },
 "nbformat": 4,
 "nbformat_minor": 2
}
