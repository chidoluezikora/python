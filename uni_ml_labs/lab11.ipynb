{
 "cells": [
  {
   "cell_type": "markdown",
   "metadata": {},
   "source": [
    "# Problem 1\n",
    "\n",
    "Use `kerastuner` to optimize your `readNet` neural network even further. For that, expand the `modelBuilder`\n",
    "function provided in the lecture notebook by a `hyper.Boolean(label)` hyperparameter that adds a second\n",
    "dense layer to the network depending whether it’s set to `True` or `False`. For that, create your model\n",
    "incrementally, starting with an empty model and adding layers using the `add` method:\n",
    "\n",
    "```py\n",
    "model = keras.Sequential()\n",
    "model.add(layers.Dense(2, activation =\"relu\"))\n",
    "```\n",
    "\n",
    "Use your boolean hyperparameter in an if-else-clause or a conditional assignment to add a second layer\n",
    "depending on the current value of the hyperparameter."
   ]
  },
  {
   "cell_type": "code",
   "execution_count": 1,
   "metadata": {},
   "outputs": [
    {
     "name": "stderr",
     "output_type": "stream",
     "text": [
      "2024-01-17 12:19:08.472372: I external/local_tsl/tsl/cuda/cudart_stub.cc:31] Could not find cuda drivers on your machine, GPU will not be used.\n",
      "2024-01-17 12:19:08.616648: E external/local_xla/xla/stream_executor/cuda/cuda_dnn.cc:9261] Unable to register cuDNN factory: Attempting to register factory for plugin cuDNN when one has already been registered\n",
      "2024-01-17 12:19:08.616679: E external/local_xla/xla/stream_executor/cuda/cuda_fft.cc:607] Unable to register cuFFT factory: Attempting to register factory for plugin cuFFT when one has already been registered\n",
      "2024-01-17 12:19:08.618624: E external/local_xla/xla/stream_executor/cuda/cuda_blas.cc:1515] Unable to register cuBLAS factory: Attempting to register factory for plugin cuBLAS when one has already been registered\n",
      "2024-01-17 12:19:08.623468: I external/local_tsl/tsl/cuda/cudart_stub.cc:31] Could not find cuda drivers on your machine, GPU will not be used.\n",
      "2024-01-17 12:19:08.624767: I tensorflow/core/platform/cpu_feature_guard.cc:182] This TensorFlow binary is optimized to use available CPU instructions in performance-critical operations.\n",
      "To enable the following instructions: AVX2 FMA, in other operations, rebuild TensorFlow with the appropriate compiler flags.\n",
      "2024-01-17 12:19:09.943167: W tensorflow/compiler/tf2tensorrt/utils/py_utils.cc:38] TF-TRT Warning: Could not find TensorRT\n"
     ]
    }
   ],
   "source": [
    "import tensorflow as tf\n",
    "from tensorflow import keras\n",
    "import keras_tuner as kt"
   ]
  },
  {
   "cell_type": "markdown",
   "metadata": {},
   "source": [
    "A second `Dense` layer with a `softmax` activation function is added to the model in the `modelBuilder` if the `hyper.Boolean(label)` hyperparameter is set to `True`."
   ]
  },
  {
   "cell_type": "code",
   "execution_count": 2,
   "metadata": {},
   "outputs": [],
   "source": [
    "# 1.\n",
    "def modelBuilder(hyper):\n",
    "    # Define tunable hyperparameter objects\n",
    "    hyperNodes = hyper.Int('nodes', min_value=32, max_value=512, step=16)\n",
    "    hyperLrate = hyper.Choice('learning_rate', values=[1e-4, 1e-5, 1e-6])\n",
    "    add_second_layer = hyper.Boolean('add_second_layer', default=False)\n",
    "    \n",
    "    model = keras.Sequential([\n",
    "        keras.layers.Conv2D(96, (6, 6), activation='relu', input_shape=(128,128,3)),\n",
    "        keras.layers.MaxPooling2D(pool_size=(3,3)),\n",
    "        keras.layers.Flatten(),\n",
    "        keras.layers.Dense(units=hyperNodes, activation='relu')])\n",
    "    \n",
    "    if add_second_layer:\n",
    "        keras.layers.Dense(2, activation='softmax')\n",
    "\n",
    "    model.compile(\n",
    "        optimizer=keras.optimizers.Adam(learning_rate=hyperLrate),\n",
    "        loss=keras.losses.SparseCategoricalCrossentropy(),\n",
    "        metrics=['accuracy'])\n",
    "\n",
    "    return model"
   ]
  },
  {
   "cell_type": "markdown",
   "metadata": {},
   "source": [
    "# Problem 2\n",
    "\n",
    "`galaxyNet` suffers from its rather small training data set. Use the image augmentation technique shown in\n",
    "the lecture to expand the number of galaxies that it’s exposed to. Are you able to get to an accuracy beyond\n",
    "90%? Create a confusion matrix to identify if the network prefers a certain type of galaxy.\n",
    "\n",
    "\n",
    "---------------------------------------------------------------------------------------------------------------------\n",
    "\n",
    "\n",
    "In this task `keras.preprocessing.image.ImageDataGenerator` is used to augment the image data from `galaxyNet` before training as that increases our training data. The increase in training data would help the model learn better, and increase its accuracy on validation data."
   ]
  },
  {
   "cell_type": "code",
   "execution_count": 3,
   "metadata": {},
   "outputs": [],
   "source": [
    "# 2.\n",
    "import numpy as np"
   ]
  },
  {
   "cell_type": "code",
   "execution_count": 4,
   "metadata": {},
   "outputs": [],
   "source": [
    "datagen = keras.preprocessing.image.ImageDataGenerator(\n",
    "    rotation_range=20,\n",
    "    width_shift_range=0.2,\n",
    "    height_shift_range=0.2,\n",
    "    shear_range=0.2,\n",
    "    zoom_range=0.2,\n",
    "    horizontal_flip=True,\n",
    "    fill_mode='nearest'\n",
    ")"
   ]
  },
  {
   "cell_type": "markdown",
   "metadata": {},
   "source": [
    "The `get_and_save_data_and_labels` function is used to get `galaxyNet`'s image data and store it into `.npy` files."
   ]
  },
  {
   "cell_type": "code",
   "execution_count": 5,
   "metadata": {},
   "outputs": [],
   "source": [
    "from PIL import Image\n",
    "import os\n",
    "\n",
    "def get_and_save_data_and_labels(path):\n",
    "    data = open(path,\"r\")\n",
    "\n",
    "    names = []\n",
    "    types = []\n",
    "\n",
    "    for line in data:\n",
    "        fields = line.split(\" \")\n",
    "        names.append( fields[0] )\n",
    "        types.append( fields[1] )\n",
    "        \n",
    "    nData = len(names)\n",
    "    imgSize = 128\n",
    "    galaxies = np.zeros((nData,imgSize,imgSize,3))\n",
    "    labels = np.zeros(nData, dtype='int')\n",
    "\n",
    "    for i in range(nData):\n",
    "        filename = \"/mnt/share/nnds/galaxies/png/\"+str(names[i])+\".png\"\n",
    "        img = Image.open(filename)\n",
    "\n",
    "        imgResized = img.resize(size=(imgSize,imgSize))\n",
    "        imgArr = np.array(imgResized)\n",
    "\n",
    "        imgArr = imgArr/255.\n",
    "        \n",
    "        galaxies[i,:,:,:] = imgArr \n",
    "        labels[i] = types[i]\n",
    "    \n",
    "    split = 955\n",
    "\n",
    "    train_data = galaxies[:split,:,:,:]\n",
    "    train_labels = labels[:split]\n",
    "\n",
    "    test_data = galaxies[split+1:nData-1,:,:,:]\n",
    "    test_labels = labels[split+1:nData-1]\n",
    "    \n",
    "    os.makedirs(\"galaxies\")\n",
    "    np.save(\"galaxies/trainGalaxies.npy\", train_data)\n",
    "    np.save(\"galaxies/trainLabels.npy\", train_labels)\n",
    "\n",
    "    np.save(\"galaxies/testGalaxies.npy\", test_data)\n",
    "    np.save(\"galaxies/testLabels.npy\", test_labels)\n",
    "        \n",
    "    return train_data, train_labels, test_data, test_labels"
   ]
  },
  {
   "cell_type": "markdown",
   "metadata": {},
   "source": [
    "The `load_train_and_test_data` is used to reload the `galaxyNet` data quickly."
   ]
  },
  {
   "cell_type": "code",
   "execution_count": 6,
   "metadata": {},
   "outputs": [],
   "source": [
    "def load_train_and_test_data():\n",
    "    train_data = np.load(\"galaxies/trainGalaxies.npy\")\n",
    "    train_labels = np.load(\"galaxies/trainLabels.npy\")\n",
    "\n",
    "    test_data = np.load(\"galaxies/testGalaxies.npy\")\n",
    "    test_labels = np.load(\"galaxies/testLabels.npy\")\n",
    "    \n",
    "    return train_data, train_labels, test_data, test_labels"
   ]
  },
  {
   "cell_type": "code",
   "execution_count": 7,
   "metadata": {},
   "outputs": [],
   "source": [
    "train_data, train_labels, test_data, test_labels = load_train_and_test_data()"
   ]
  },
  {
   "cell_type": "markdown",
   "metadata": {},
   "source": [
    "Here `kerastuner` is used to find the optimal hyperparameters for the dataset along with the `modelBuilder` class, and then build the model."
   ]
  },
  {
   "cell_type": "code",
   "execution_count": 9,
   "metadata": {},
   "outputs": [
    {
     "name": "stderr",
     "output_type": "stream",
     "text": [
      "2024-01-17 12:19:45.779349: I external/local_xla/xla/stream_executor/cuda/cuda_executor.cc:901] successful NUMA node read from SysFS had negative value (-1), but there must be at least one NUMA node, so returning NUMA node zero. See more at https://github.com/torvalds/linux/blob/v6.0/Documentation/ABI/testing/sysfs-bus-pci#L344-L355\n",
      "2024-01-17 12:19:45.779640: W tensorflow/core/common_runtime/gpu/gpu_device.cc:2256] Cannot dlopen some GPU libraries. Please make sure the missing libraries mentioned above are installed properly if you would like to use GPU. Follow the guide at https://www.tensorflow.org/install/gpu for how to download and setup the required libraries for your platform.\n",
      "Skipping registering GPU devices...\n"
     ]
    }
   ],
   "source": [
    "folder = \"galaxyNet02\"\n",
    "\n",
    "nEpochs = 20\n",
    "tuner = kt.Hyperband(modelBuilder,objective='val_accuracy',\n",
    "                     max_epochs=nEpochs,factor=3,\n",
    "                     directory=folder,\n",
    "                     project_name=\"galaxyNet02\")"
   ]
  },
  {
   "cell_type": "code",
   "execution_count": 13,
   "metadata": {},
   "outputs": [],
   "source": [
    "# Getting optimal hyperparameters\n",
    "# batch_size = len(train_data) \n",
    "\n",
    "# # data_train_aug = []\n",
    "# # labels_train_aug = []\n",
    "\n",
    "# # for data, labels in datagen.flow(train_data, train_labels, batch_size=batch_size, shuffle=False):\n",
    "# #     data_train_aug = data\n",
    "# #     labels_train_aug = labels\n",
    "# #     break\n",
    "    \n",
    "# # data_train_combined = np.concatenate((train_data, data_train_aug))\n",
    "# # data_labels_combined = np.concatenate((train_labels, labels_train_aug))\n",
    "\n",
    "# # np.save(\"galaxies/data_train_combined.npy\", data_train_combined)\n",
    "# # np.save(\"galaxies/data_labels_combined.npy\", data_labels_combined)\n",
    "\n",
    "data_train_combined = np.load(\"galaxies/trainGalaxies.npy\")\n",
    "data_labels_combined = np.load(\"galaxies/trainLabels.npy\")\n",
    "\n",
    "# tuner.search(data_train_combined, data_labels_combined, \n",
    "#              epochs=nEpochs, \n",
    "#              validation_data=(test_data, test_labels), \n",
    "#              verbose=1)\n",
    "hyperBest = tuner.get_best_hyperparameters(num_trials=1)[0]"
   ]
  },
  {
   "cell_type": "code",
   "execution_count": 14,
   "metadata": {},
   "outputs": [
    {
     "name": "stdout",
     "output_type": "stream",
     "text": [
      "Optimal hyperparameters:\n",
      "nodes 240\n",
      "learning_rate 1e-05\n",
      "add_second_layer False\n",
      "tuner/epochs 20\n",
      "tuner/initial_epoch 7\n",
      "tuner/bracket 2\n",
      "tuner/round 2\n",
      "tuner/trial_id 0012\n"
     ]
    }
   ],
   "source": [
    "print(\"Optimal hyperparameters:\")\n",
    "for key in hyperBest.values:\n",
    "    print(key, hyperBest.values[key])"
   ]
  },
  {
   "cell_type": "markdown",
   "metadata": {},
   "source": [
    "Training with the optimal number epochs ..."
   ]
  },
  {
   "cell_type": "code",
   "execution_count": 22,
   "metadata": {},
   "outputs": [
    {
     "name": "stdout",
     "output_type": "stream",
     "text": [
      "Epoch 2/20\n",
      "30/30 [==============================] - 10s 324ms/step - loss: 1.5872 - accuracy: 0.4545 - val_loss: 1.0253 - val_accuracy: 0.5042\n",
      "Epoch 3/20\n",
      "30/30 [==============================] - 10s 321ms/step - loss: 0.9851 - accuracy: 0.5393 - val_loss: 0.9994 - val_accuracy: 0.5042\n",
      "Epoch 4/20\n",
      "30/30 [==============================] - 10s 319ms/step - loss: 0.9473 - accuracy: 0.5393 - val_loss: 0.9660 - val_accuracy: 0.5042\n",
      "Epoch 5/20\n",
      "30/30 [==============================] - 10s 319ms/step - loss: 0.8922 - accuracy: 0.5393 - val_loss: 0.9033 - val_accuracy: 0.5042\n",
      "Epoch 6/20\n",
      "30/30 [==============================] - 10s 323ms/step - loss: 0.8130 - accuracy: 0.5393 - val_loss: 0.7900 - val_accuracy: 0.5042\n",
      "Epoch 7/20\n",
      "30/30 [==============================] - 10s 320ms/step - loss: 0.7092 - accuracy: 0.6440 - val_loss: 0.8402 - val_accuracy: 0.6471\n",
      "Epoch 8/20\n",
      "30/30 [==============================] - 10s 321ms/step - loss: 0.9057 - accuracy: 0.6251 - val_loss: 0.8614 - val_accuracy: 0.5798\n",
      "Epoch 9/20\n",
      "30/30 [==============================] - 10s 322ms/step - loss: 0.8038 - accuracy: 0.5529 - val_loss: 0.8078 - val_accuracy: 0.5042\n",
      "Epoch 10/20\n",
      "30/30 [==============================] - 10s 321ms/step - loss: 0.7353 - accuracy: 0.5476 - val_loss: 0.7553 - val_accuracy: 0.5126\n",
      "Epoch 11/20\n",
      "30/30 [==============================] - 10s 322ms/step - loss: 0.6657 - accuracy: 0.6545 - val_loss: 0.6655 - val_accuracy: 0.6218\n",
      "Epoch 12/20\n",
      "30/30 [==============================] - 10s 322ms/step - loss: 0.6064 - accuracy: 0.7581 - val_loss: 0.5440 - val_accuracy: 0.7563\n",
      "Epoch 13/20\n",
      "30/30 [==============================] - 10s 323ms/step - loss: 0.6195 - accuracy: 0.8105 - val_loss: 0.6802 - val_accuracy: 0.7479\n",
      "Epoch 14/20\n",
      "30/30 [==============================] - 10s 321ms/step - loss: 0.8634 - accuracy: 0.8105 - val_loss: 1.0913 - val_accuracy: 0.7395\n",
      "Epoch 15/20\n",
      "30/30 [==============================] - 10s 320ms/step - loss: 0.6746 - accuracy: 0.7508 - val_loss: 0.6728 - val_accuracy: 0.7395\n",
      "Epoch 16/20\n",
      "30/30 [==============================] - 10s 323ms/step - loss: 0.5570 - accuracy: 0.8377 - val_loss: 1.4026 - val_accuracy: 0.7143\n",
      "Epoch 17/20\n",
      "30/30 [==============================] - 10s 326ms/step - loss: 0.7286 - accuracy: 0.7435 - val_loss: 0.5697 - val_accuracy: 0.6639\n",
      "Epoch 18/20\n",
      "30/30 [==============================] - 10s 322ms/step - loss: 0.4932 - accuracy: 0.8230 - val_loss: 0.7679 - val_accuracy: 0.7647\n",
      "Epoch 19/20\n",
      "30/30 [==============================] - 10s 325ms/step - loss: 0.5668 - accuracy: 0.8440 - val_loss: 2.1111 - val_accuracy: 0.6891\n",
      "Epoch 20/20\n",
      "30/30 [==============================] - 10s 323ms/step - loss: 4.0704 - accuracy: 0.3832 - val_loss: 5.1561 - val_accuracy: 0.2521\n",
      "Best epoch: 17\n"
     ]
    }
   ],
   "source": [
    "#from keras.models import load_model\n",
    "\n",
    "nEpochs = 20\n",
    "model = tuner.hypermodel.build(hyperBest)\n",
    "#model = load_model('galaxyNet02/galaxyNet02/trial_0012/checkpoint')\n",
    "history = model.fit(data_train_combined, data_labels_combined, \n",
    "                    validation_data=(test_data, test_labels), \n",
    "                    initial_epoch=1,\n",
    "                    epochs=nEpochs,\n",
    "                    verbose=1)\n",
    "val_acc_per_epoch = history.history['val_accuracy']\n",
    "best_epoch = val_acc_per_epoch.index(max(val_acc_per_epoch)) + 1\n",
    "print('Best epoch: %d' % (best_epoch,))"
   ]
  },
  {
   "cell_type": "code",
   "execution_count": 25,
   "metadata": {},
   "outputs": [
    {
     "data": {
      "image/png": "[encoded data removed]",
      "text/plain": [
       "<Figure size 1500x1000 with 1 Axes>"
      ]
     },
     "metadata": {},
     "output_type": "display_data"
    }
   ],
   "source": [
    "import matplotlib.pyplot as plt\n",
    "\n",
    "valAccEvo = history.history['val_accuracy']\n",
    "i = list(range(1,nEpochs))\n",
    "\n",
    "plt.figure(figsize=(15,10))\n",
    "plt.plot(i,valAccEvo)\n",
    "plt.xticks(i)\n",
    "plt.show()"
   ]
  },
  {
   "cell_type": "markdown",
   "metadata": {},
   "source": [
    "Making a confusion matrix to see if netwrok is biased ..."
   ]
  },
  {
   "cell_type": "code",
   "execution_count": 29,
   "metadata": {},
   "outputs": [
    {
     "name": "stdout",
     "output_type": "stream",
     "text": [
      "4/4 [==============================] - 0s 37ms/step\n",
      "Confusion Matrix:\n",
      "[[30  0  0]\n",
      " [60  0  0]\n",
      " [29  0  0]]\n",
      "\n",
      "Classification Report:\n",
      "              precision    recall  f1-score   support\n",
      "\n",
      "           0       0.25      1.00      0.40        30\n",
      "           1       0.00      0.00      0.00        60\n",
      "           2       0.00      0.00      0.00        29\n",
      "\n",
      "    accuracy                           0.25       119\n",
      "   macro avg       0.08      0.33      0.13       119\n",
      "weighted avg       0.06      0.25      0.10       119\n",
      "\n"
     ]
    },
    {
     "name": "stderr",
     "output_type": "stream",
     "text": [
      "/home/nnds6b/miniconda3/lib/python3.11/site-packages/sklearn/metrics/_classification.py:1471: UndefinedMetricWarning: Precision and F-score are ill-defined and being set to 0.0 in labels with no predicted samples. Use `zero_division` parameter to control this behavior.\n",
      "  _warn_prf(average, modifier, msg_start, len(result))\n",
      "/home/nnds6b/miniconda3/lib/python3.11/site-packages/sklearn/metrics/_classification.py:1471: UndefinedMetricWarning: Precision and F-score are ill-defined and being set to 0.0 in labels with no predicted samples. Use `zero_division` parameter to control this behavior.\n",
      "  _warn_prf(average, modifier, msg_start, len(result))\n",
      "/home/nnds6b/miniconda3/lib/python3.11/site-packages/sklearn/metrics/_classification.py:1471: UndefinedMetricWarning: Precision and F-score are ill-defined and being set to 0.0 in labels with no predicted samples. Use `zero_division` parameter to control this behavior.\n",
      "  _warn_prf(average, modifier, msg_start, len(result))\n"
     ]
    }
   ],
   "source": [
    "from sklearn.metrics import confusion_matrix, classification_report\n",
    "\n",
    "pred = model.predict(test_data)\n",
    "pred_classes = np.argmax(pred, axis=1)\n",
    "\n",
    "conf_matrix = confusion_matrix(test_labels, pred_classes)\n",
    "class_report = classification_report(test_labels, pred_classes)\n",
    "\n",
    "print(\"Confusion Matrix:\")\n",
    "print(conf_matrix)\n",
    "print(\"\\nClassification Report:\")\n",
    "print(class_report)"
   ]
  },
  {
   "cell_type": "markdown",
   "metadata": {},
   "source": [
    "From this we can see currently that ...\n",
    "\n",
    "- Class 0 has 30 true positives (correctly predicted), and 0 false positives (incorrectly predicted as class 1 or class 2).\n",
    "- Class 1 has 0 true positives and 60 false positives.\n",
    "- Class 2 has 0 true positives and 29 false positives\n",
    "\n",
    "- **Precision**: The ratio of correctly predicted positive observations to the total predicted positives. Precision is high for class 0 (0.25), but it's 0 for classes 1 and 2, indicating a high rate of false positives.\n",
    "- **Recall**: The ratio of correctly predicted positive observations to the total actual positives. Recall is 1.0 for class 0, but 0 for classes 1 and 2, indicating that the model is missing a significant number of positive instances.\n",
    "- **F1-score**: The weighted average of precision and recall. It considers both false positives and false negatives. The F1-score is low for all classes.\n",
    "- **Support**: The number of actual occurrences of the class in the specified dataset.\n",
    "\n",
    "### Accuracy:\n",
    "The overall accuracy of the model is 0.25, indicating that the model is not performing well.\n",
    "Macro and Weighted Averages:\n",
    "\n",
    "The macro average calculates metrics independently for each class and then takes the average. The macro average F1-score is 0.13.\n",
    "The weighted average considers the number of samples for each class. The weighted average F1-score is 0.10.\n",
    "\n",
    "### Summary:\n",
    "The model is struggling to correctly classify classes 1 and 2, resulting in poor precision, recall, and F1-scores.\n",
    "The low accuracy suggests that the model's overall performance is not satisfactory."
   ]
  },
  {
   "cell_type": "markdown",
   "metadata": {},
   "source": [
    "Traininig up to the best epoch ..."
   ]
  },
  {
   "cell_type": "code",
   "execution_count": 47,
   "metadata": {},
   "outputs": [
    {
     "name": "stdout",
     "output_type": "stream",
     "text": [
      "Epoch 2/17\n",
      "30/30 [==============================] - 10s 321ms/step - loss: 1.3609 - accuracy: 0.4429 - val_loss: 0.9941 - val_accuracy: 0.5042\n",
      "Epoch 3/17\n",
      "30/30 [==============================] - 10s 320ms/step - loss: 0.9217 - accuracy: 0.5393 - val_loss: 0.9148 - val_accuracy: 0.5042\n",
      "Epoch 4/17\n",
      "30/30 [==============================] - 10s 320ms/step - loss: 0.8166 - accuracy: 0.5393 - val_loss: 0.8233 - val_accuracy: 0.5042\n",
      "Epoch 5/17\n",
      "30/30 [==============================] - 10s 321ms/step - loss: 0.7246 - accuracy: 0.5466 - val_loss: 0.7091 - val_accuracy: 0.5294\n",
      "Epoch 6/17\n",
      "30/30 [==============================] - 10s 320ms/step - loss: 0.6496 - accuracy: 0.7351 - val_loss: 1.1196 - val_accuracy: 0.7143\n",
      "Epoch 7/17\n",
      "30/30 [==============================] - 10s 319ms/step - loss: 4.2004 - accuracy: 0.3853 - val_loss: 5.4806 - val_accuracy: 0.2521\n",
      "Epoch 8/17\n",
      "30/30 [==============================] - 10s 319ms/step - loss: 5.3946 - accuracy: 0.2492 - val_loss: 5.4806 - val_accuracy: 0.2521\n",
      "Epoch 9/17\n",
      "30/30 [==============================] - 10s 318ms/step - loss: 5.1505 - accuracy: 0.2492 - val_loss: 5.4806 - val_accuracy: 0.2521\n",
      "Epoch 10/17\n",
      "30/30 [==============================] - 10s 322ms/step - loss: 5.4806 - accuracy: 0.2492 - val_loss: 5.4806 - val_accuracy: 0.2521\n",
      "Epoch 11/17\n",
      "30/30 [==============================] - 10s 319ms/step - loss: 5.4806 - accuracy: 0.2492 - val_loss: 5.4806 - val_accuracy: 0.2521\n",
      "Epoch 12/17\n",
      "30/30 [==============================] - 10s 322ms/step - loss: 5.4806 - accuracy: 0.2492 - val_loss: 5.4806 - val_accuracy: 0.2521\n",
      "Epoch 13/17\n",
      "30/30 [==============================] - 10s 324ms/step - loss: 5.4806 - accuracy: 0.2492 - val_loss: 5.4806 - val_accuracy: 0.2521\n",
      "Epoch 14/17\n",
      "30/30 [==============================] - 10s 319ms/step - loss: 5.4806 - accuracy: 0.2492 - val_loss: 5.4806 - val_accuracy: 0.2521\n",
      "Epoch 15/17\n",
      "14/30 [=============>................] - ETA: 5s - loss: 5.4806 - accuracy: 0.2455"
     ]
    },
    {
     "ename": "KeyboardInterrupt",
     "evalue": "",
     "output_type": "error",
     "traceback": [
      "\u001b[0;31m---------------------------------------------------------------------------\u001b[0m",
      "\u001b[0;31mKeyboardInterrupt\u001b[0m                         Traceback (most recent call last)",
      "Cell \u001b[0;32mIn[47], line 4\u001b[0m\n\u001b[1;32m      1\u001b[0m model \u001b[38;5;241m=\u001b[39m tuner\u001b[38;5;241m.\u001b[39mhypermodel\u001b[38;5;241m.\u001b[39mbuild(hyperBest)\n\u001b[1;32m      3\u001b[0m \u001b[38;5;66;03m# Retrain the model\u001b[39;00m\n\u001b[0;32m----> 4\u001b[0m history \u001b[38;5;241m=\u001b[39m \u001b[43mmodel\u001b[49m\u001b[38;5;241;43m.\u001b[39;49m\u001b[43mfit\u001b[49m\u001b[43m(\u001b[49m\u001b[43mdata_train_combined\u001b[49m\u001b[43m,\u001b[49m\u001b[43m \u001b[49m\u001b[43mdata_labels_combined\u001b[49m\u001b[43m,\u001b[49m\u001b[43m \u001b[49m\n\u001b[1;32m      5\u001b[0m \u001b[43m                    \u001b[49m\u001b[43mvalidation_data\u001b[49m\u001b[38;5;241;43m=\u001b[39;49m\u001b[43m(\u001b[49m\u001b[43mtest_data\u001b[49m\u001b[43m,\u001b[49m\u001b[43m \u001b[49m\u001b[43mtest_labels\u001b[49m\u001b[43m)\u001b[49m\u001b[43m,\u001b[49m\n\u001b[1;32m      6\u001b[0m \u001b[43m                    \u001b[49m\u001b[43minitial_epoch\u001b[49m\u001b[38;5;241;43m=\u001b[39;49m\u001b[38;5;241;43m1\u001b[39;49m\u001b[43m,\u001b[49m\n\u001b[1;32m      7\u001b[0m \u001b[43m                    \u001b[49m\u001b[43mepochs\u001b[49m\u001b[38;5;241;43m=\u001b[39;49m\u001b[43mbest_epoch\u001b[49m\u001b[43m,\u001b[49m\n\u001b[1;32m      8\u001b[0m \u001b[43m                    \u001b[49m\u001b[43mverbose\u001b[49m\u001b[38;5;241;43m=\u001b[39;49m\u001b[38;5;241;43m1\u001b[39;49m\u001b[43m)\u001b[49m\n",
      "File \u001b[0;32m~/miniconda3/lib/python3.11/site-packages/keras/src/utils/traceback_utils.py:65\u001b[0m, in \u001b[0;36mfilter_traceback.<locals>.error_handler\u001b[0;34m(*args, **kwargs)\u001b[0m\n\u001b[1;32m     <a href='file:///home/nnds6b/miniconda3/lib/python3.11/site-packages/keras/src/utils/traceback_utils.py?line=62'>63</a>\u001b[0m filtered_tb \u001b[39m=\u001b[39m \u001b[39mNone\u001b[39;00m\n\u001b[1;32m     <a href='file:///home/nnds6b/miniconda3/lib/python3.11/site-packages/keras/src/utils/traceback_utils.py?line=63'>64</a>\u001b[0m \u001b[39mtry\u001b[39;00m:\n\u001b[0;32m---> <a href='file:///home/nnds6b/miniconda3/lib/python3.11/site-packages/keras/src/utils/traceback_utils.py?line=64'>65</a>\u001b[0m     \u001b[39mreturn\u001b[39;00m fn(\u001b[39m*\u001b[39;49margs, \u001b[39m*\u001b[39;49m\u001b[39m*\u001b[39;49mkwargs)\n\u001b[1;32m     <a href='file:///home/nnds6b/miniconda3/lib/python3.11/site-packages/keras/src/utils/traceback_utils.py?line=65'>66</a>\u001b[0m \u001b[39mexcept\u001b[39;00m \u001b[39mException\u001b[39;00m \u001b[39mas\u001b[39;00m e:\n\u001b[1;32m     <a href='file:///home/nnds6b/miniconda3/lib/python3.11/site-packages/keras/src/utils/traceback_utils.py?line=66'>67</a>\u001b[0m     filtered_tb \u001b[39m=\u001b[39m _process_traceback_frames(e\u001b[39m.\u001b[39m__traceback__)\n",
      "File \u001b[0;32m~/miniconda3/lib/python3.11/site-packages/keras/src/engine/training.py:1807\u001b[0m, in \u001b[0;36mModel.fit\u001b[0;34m(self, x, y, batch_size, epochs, verbose, callbacks, validation_split, validation_data, shuffle, class_weight, sample_weight, initial_epoch, steps_per_epoch, validation_steps, validation_batch_size, validation_freq, max_queue_size, workers, use_multiprocessing)\u001b[0m\n\u001b[1;32m   <a href='file:///home/nnds6b/miniconda3/lib/python3.11/site-packages/keras/src/engine/training.py?line=1798'>1799</a>\u001b[0m \u001b[39mwith\u001b[39;00m tf\u001b[39m.\u001b[39mprofiler\u001b[39m.\u001b[39mexperimental\u001b[39m.\u001b[39mTrace(\n\u001b[1;32m   <a href='file:///home/nnds6b/miniconda3/lib/python3.11/site-packages/keras/src/engine/training.py?line=1799'>1800</a>\u001b[0m     \u001b[39m\"\u001b[39m\u001b[39mtrain\u001b[39m\u001b[39m\"\u001b[39m,\n\u001b[1;32m   <a href='file:///home/nnds6b/miniconda3/lib/python3.11/site-packages/keras/src/engine/training.py?line=1800'>1801</a>\u001b[0m     epoch_num\u001b[39m=\u001b[39mepoch,\n\u001b[0;32m   (...)\u001b[0m\n\u001b[1;32m   <a href='file:///home/nnds6b/miniconda3/lib/python3.11/site-packages/keras/src/engine/training.py?line=1803'>1804</a>\u001b[0m     _r\u001b[39m=\u001b[39m\u001b[39m1\u001b[39m,\n\u001b[1;32m   <a href='file:///home/nnds6b/miniconda3/lib/python3.11/site-packages/keras/src/engine/training.py?line=1804'>1805</a>\u001b[0m ):\n\u001b[1;32m   <a href='file:///home/nnds6b/miniconda3/lib/python3.11/site-packages/keras/src/engine/training.py?line=1805'>1806</a>\u001b[0m     callbacks\u001b[39m.\u001b[39mon_train_batch_begin(step)\n\u001b[0;32m-> <a href='file:///home/nnds6b/miniconda3/lib/python3.11/site-packages/keras/src/engine/training.py?line=1806'>1807</a>\u001b[0m     tmp_logs \u001b[39m=\u001b[39m \u001b[39mself\u001b[39;49m\u001b[39m.\u001b[39;49mtrain_function(iterator)\n\u001b[1;32m   <a href='file:///home/nnds6b/miniconda3/lib/python3.11/site-packages/keras/src/engine/training.py?line=1807'>1808</a>\u001b[0m     \u001b[39mif\u001b[39;00m data_handler\u001b[39m.\u001b[39mshould_sync:\n\u001b[1;32m   <a href='file:///home/nnds6b/miniconda3/lib/python3.11/site-packages/keras/src/engine/training.py?line=1808'>1809</a>\u001b[0m         context\u001b[39m.\u001b[39masync_wait()\n",
      "File \u001b[0;32m~/miniconda3/lib/python3.11/site-packages/tensorflow/python/util/traceback_utils.py:150\u001b[0m, in \u001b[0;36mfilter_traceback.<locals>.error_handler\u001b[0;34m(*args, **kwargs)\u001b[0m\n\u001b[1;32m    <a href='file:///home/nnds6b/miniconda3/lib/python3.11/site-packages/tensorflow/python/util/traceback_utils.py?line=147'>148</a>\u001b[0m filtered_tb \u001b[39m=\u001b[39m \u001b[39mNone\u001b[39;00m\n\u001b[1;32m    <a href='file:///home/nnds6b/miniconda3/lib/python3.11/site-packages/tensorflow/python/util/traceback_utils.py?line=148'>149</a>\u001b[0m \u001b[39mtry\u001b[39;00m:\n\u001b[0;32m--> <a href='file:///home/nnds6b/miniconda3/lib/python3.11/site-packages/tensorflow/python/util/traceback_utils.py?line=149'>150</a>\u001b[0m   \u001b[39mreturn\u001b[39;00m fn(\u001b[39m*\u001b[39;49margs, \u001b[39m*\u001b[39;49m\u001b[39m*\u001b[39;49mkwargs)\n\u001b[1;32m    <a href='file:///home/nnds6b/miniconda3/lib/python3.11/site-packages/tensorflow/python/util/traceback_utils.py?line=150'>151</a>\u001b[0m \u001b[39mexcept\u001b[39;00m \u001b[39mException\u001b[39;00m \u001b[39mas\u001b[39;00m e:\n\u001b[1;32m    <a href='file:///home/nnds6b/miniconda3/lib/python3.11/site-packages/tensorflow/python/util/traceback_utils.py?line=151'>152</a>\u001b[0m   filtered_tb \u001b[39m=\u001b[39m _process_traceback_frames(e\u001b[39m.\u001b[39m__traceback__)\n",
      "File \u001b[0;32m~/miniconda3/lib/python3.11/site-packages/tensorflow/python/eager/polymorphic_function/polymorphic_function.py:832\u001b[0m, in \u001b[0;36mFunction.__call__\u001b[0;34m(self, *args, **kwds)\u001b[0m\n\u001b[1;32m    <a href='file:///home/nnds6b/miniconda3/lib/python3.11/site-packages/tensorflow/python/eager/polymorphic_function/polymorphic_function.py?line=828'>829</a>\u001b[0m compiler \u001b[39m=\u001b[39m \u001b[39m\"\u001b[39m\u001b[39mxla\u001b[39m\u001b[39m\"\u001b[39m \u001b[39mif\u001b[39;00m \u001b[39mself\u001b[39m\u001b[39m.\u001b[39m_jit_compile \u001b[39melse\u001b[39;00m \u001b[39m\"\u001b[39m\u001b[39mnonXla\u001b[39m\u001b[39m\"\u001b[39m\n\u001b[1;32m    <a href='file:///home/nnds6b/miniconda3/lib/python3.11/site-packages/tensorflow/python/eager/polymorphic_function/polymorphic_function.py?line=830'>831</a>\u001b[0m \u001b[39mwith\u001b[39;00m OptionalXlaContext(\u001b[39mself\u001b[39m\u001b[39m.\u001b[39m_jit_compile):\n\u001b[0;32m--> <a href='file:///home/nnds6b/miniconda3/lib/python3.11/site-packages/tensorflow/python/eager/polymorphic_function/polymorphic_function.py?line=831'>832</a>\u001b[0m   result \u001b[39m=\u001b[39m \u001b[39mself\u001b[39;49m\u001b[39m.\u001b[39;49m_call(\u001b[39m*\u001b[39;49margs, \u001b[39m*\u001b[39;49m\u001b[39m*\u001b[39;49mkwds)\n\u001b[1;32m    <a href='file:///home/nnds6b/miniconda3/lib/python3.11/site-packages/tensorflow/python/eager/polymorphic_function/polymorphic_function.py?line=833'>834</a>\u001b[0m new_tracing_count \u001b[39m=\u001b[39m \u001b[39mself\u001b[39m\u001b[39m.\u001b[39mexperimental_get_tracing_count()\n\u001b[1;32m    <a href='file:///home/nnds6b/miniconda3/lib/python3.11/site-packages/tensorflow/python/eager/polymorphic_function/polymorphic_function.py?line=834'>835</a>\u001b[0m without_tracing \u001b[39m=\u001b[39m (tracing_count \u001b[39m==\u001b[39m new_tracing_count)\n",
      "File \u001b[0;32m~/miniconda3/lib/python3.11/site-packages/tensorflow/python/eager/polymorphic_function/polymorphic_function.py:868\u001b[0m, in \u001b[0;36mFunction._call\u001b[0;34m(self, *args, **kwds)\u001b[0m\n\u001b[1;32m    <a href='file:///home/nnds6b/miniconda3/lib/python3.11/site-packages/tensorflow/python/eager/polymorphic_function/polymorphic_function.py?line=864'>865</a>\u001b[0m   \u001b[39mself\u001b[39m\u001b[39m.\u001b[39m_lock\u001b[39m.\u001b[39mrelease()\n\u001b[1;32m    <a href='file:///home/nnds6b/miniconda3/lib/python3.11/site-packages/tensorflow/python/eager/polymorphic_function/polymorphic_function.py?line=865'>866</a>\u001b[0m   \u001b[39m# In this case we have created variables on the first call, so we run the\u001b[39;00m\n\u001b[1;32m    <a href='file:///home/nnds6b/miniconda3/lib/python3.11/site-packages/tensorflow/python/eager/polymorphic_function/polymorphic_function.py?line=866'>867</a>\u001b[0m   \u001b[39m# defunned version which is guaranteed to never create variables.\u001b[39;00m\n\u001b[0;32m--> <a href='file:///home/nnds6b/miniconda3/lib/python3.11/site-packages/tensorflow/python/eager/polymorphic_function/polymorphic_function.py?line=867'>868</a>\u001b[0m   \u001b[39mreturn\u001b[39;00m tracing_compilation\u001b[39m.\u001b[39;49mcall_function(\n\u001b[1;32m    <a href='file:///home/nnds6b/miniconda3/lib/python3.11/site-packages/tensorflow/python/eager/polymorphic_function/polymorphic_function.py?line=868'>869</a>\u001b[0m       args, kwds, \u001b[39mself\u001b[39;49m\u001b[39m.\u001b[39;49m_no_variable_creation_config\n\u001b[1;32m    <a href='file:///home/nnds6b/miniconda3/lib/python3.11/site-packages/tensorflow/python/eager/polymorphic_function/polymorphic_function.py?line=869'>870</a>\u001b[0m   )\n\u001b[1;32m    <a href='file:///home/nnds6b/miniconda3/lib/python3.11/site-packages/tensorflow/python/eager/polymorphic_function/polymorphic_function.py?line=870'>871</a>\u001b[0m \u001b[39melif\u001b[39;00m \u001b[39mself\u001b[39m\u001b[39m.\u001b[39m_variable_creation_config \u001b[39mis\u001b[39;00m \u001b[39mnot\u001b[39;00m \u001b[39mNone\u001b[39;00m:\n\u001b[1;32m    <a href='file:///home/nnds6b/miniconda3/lib/python3.11/site-packages/tensorflow/python/eager/polymorphic_function/polymorphic_function.py?line=871'>872</a>\u001b[0m   \u001b[39m# Release the lock early so that multiple threads can perform the call\u001b[39;00m\n\u001b[1;32m    <a href='file:///home/nnds6b/miniconda3/lib/python3.11/site-packages/tensorflow/python/eager/polymorphic_function/polymorphic_function.py?line=872'>873</a>\u001b[0m   \u001b[39m# in parallel.\u001b[39;00m\n\u001b[1;32m    <a href='file:///home/nnds6b/miniconda3/lib/python3.11/site-packages/tensorflow/python/eager/polymorphic_function/polymorphic_function.py?line=873'>874</a>\u001b[0m   \u001b[39mself\u001b[39m\u001b[39m.\u001b[39m_lock\u001b[39m.\u001b[39mrelease()\n",
      "File \u001b[0;32m~/miniconda3/lib/python3.11/site-packages/tensorflow/python/eager/polymorphic_function/tracing_compilation.py:139\u001b[0m, in \u001b[0;36mcall_function\u001b[0;34m(args, kwargs, tracing_options)\u001b[0m\n\u001b[1;32m    <a href='file:///home/nnds6b/miniconda3/lib/python3.11/site-packages/tensorflow/python/eager/polymorphic_function/tracing_compilation.py?line=136'>137</a>\u001b[0m bound_args \u001b[39m=\u001b[39m function\u001b[39m.\u001b[39mfunction_type\u001b[39m.\u001b[39mbind(\u001b[39m*\u001b[39margs, \u001b[39m*\u001b[39m\u001b[39m*\u001b[39mkwargs)\n\u001b[1;32m    <a href='file:///home/nnds6b/miniconda3/lib/python3.11/site-packages/tensorflow/python/eager/polymorphic_function/tracing_compilation.py?line=137'>138</a>\u001b[0m flat_inputs \u001b[39m=\u001b[39m function\u001b[39m.\u001b[39mfunction_type\u001b[39m.\u001b[39munpack_inputs(bound_args)\n\u001b[0;32m--> <a href='file:///home/nnds6b/miniconda3/lib/python3.11/site-packages/tensorflow/python/eager/polymorphic_function/tracing_compilation.py?line=138'>139</a>\u001b[0m \u001b[39mreturn\u001b[39;00m function\u001b[39m.\u001b[39;49m_call_flat(  \u001b[39m# pylint: disable=protected-access\u001b[39;49;00m\n\u001b[1;32m    <a href='file:///home/nnds6b/miniconda3/lib/python3.11/site-packages/tensorflow/python/eager/polymorphic_function/tracing_compilation.py?line=139'>140</a>\u001b[0m     flat_inputs, captured_inputs\u001b[39m=\u001b[39;49mfunction\u001b[39m.\u001b[39;49mcaptured_inputs\n\u001b[1;32m    <a href='file:///home/nnds6b/miniconda3/lib/python3.11/site-packages/tensorflow/python/eager/polymorphic_function/tracing_compilation.py?line=140'>141</a>\u001b[0m )\n",
      "File \u001b[0;32m~/miniconda3/lib/python3.11/site-packages/tensorflow/python/eager/polymorphic_function/concrete_function.py:1323\u001b[0m, in \u001b[0;36mConcreteFunction._call_flat\u001b[0;34m(self, tensor_inputs, captured_inputs)\u001b[0m\n\u001b[1;32m   <a href='file:///home/nnds6b/miniconda3/lib/python3.11/site-packages/tensorflow/python/eager/polymorphic_function/concrete_function.py?line=1318'>1319</a>\u001b[0m possible_gradient_type \u001b[39m=\u001b[39m gradients_util\u001b[39m.\u001b[39mPossibleTapeGradientTypes(args)\n\u001b[1;32m   <a href='file:///home/nnds6b/miniconda3/lib/python3.11/site-packages/tensorflow/python/eager/polymorphic_function/concrete_function.py?line=1319'>1320</a>\u001b[0m \u001b[39mif\u001b[39;00m (possible_gradient_type \u001b[39m==\u001b[39m gradients_util\u001b[39m.\u001b[39mPOSSIBLE_GRADIENT_TYPES_NONE\n\u001b[1;32m   <a href='file:///home/nnds6b/miniconda3/lib/python3.11/site-packages/tensorflow/python/eager/polymorphic_function/concrete_function.py?line=1320'>1321</a>\u001b[0m     \u001b[39mand\u001b[39;00m executing_eagerly):\n\u001b[1;32m   <a href='file:///home/nnds6b/miniconda3/lib/python3.11/site-packages/tensorflow/python/eager/polymorphic_function/concrete_function.py?line=1321'>1322</a>\u001b[0m   \u001b[39m# No tape is watching; skip to running the function.\u001b[39;00m\n\u001b[0;32m-> <a href='file:///home/nnds6b/miniconda3/lib/python3.11/site-packages/tensorflow/python/eager/polymorphic_function/concrete_function.py?line=1322'>1323</a>\u001b[0m   \u001b[39mreturn\u001b[39;00m \u001b[39mself\u001b[39;49m\u001b[39m.\u001b[39;49m_inference_function\u001b[39m.\u001b[39;49mcall_preflattened(args)\n\u001b[1;32m   <a href='file:///home/nnds6b/miniconda3/lib/python3.11/site-packages/tensorflow/python/eager/polymorphic_function/concrete_function.py?line=1323'>1324</a>\u001b[0m forward_backward \u001b[39m=\u001b[39m \u001b[39mself\u001b[39m\u001b[39m.\u001b[39m_select_forward_and_backward_functions(\n\u001b[1;32m   <a href='file:///home/nnds6b/miniconda3/lib/python3.11/site-packages/tensorflow/python/eager/polymorphic_function/concrete_function.py?line=1324'>1325</a>\u001b[0m     args,\n\u001b[1;32m   <a href='file:///home/nnds6b/miniconda3/lib/python3.11/site-packages/tensorflow/python/eager/polymorphic_function/concrete_function.py?line=1325'>1326</a>\u001b[0m     possible_gradient_type,\n\u001b[1;32m   <a href='file:///home/nnds6b/miniconda3/lib/python3.11/site-packages/tensorflow/python/eager/polymorphic_function/concrete_function.py?line=1326'>1327</a>\u001b[0m     executing_eagerly)\n\u001b[1;32m   <a href='file:///home/nnds6b/miniconda3/lib/python3.11/site-packages/tensorflow/python/eager/polymorphic_function/concrete_function.py?line=1327'>1328</a>\u001b[0m forward_function, args_with_tangents \u001b[39m=\u001b[39m forward_backward\u001b[39m.\u001b[39mforward()\n",
      "File \u001b[0;32m~/miniconda3/lib/python3.11/site-packages/tensorflow/python/eager/polymorphic_function/atomic_function.py:216\u001b[0m, in \u001b[0;36mAtomicFunction.call_preflattened\u001b[0;34m(self, args)\u001b[0m\n\u001b[1;32m    <a href='file:///home/nnds6b/miniconda3/lib/python3.11/site-packages/tensorflow/python/eager/polymorphic_function/atomic_function.py?line=213'>214</a>\u001b[0m \u001b[39mdef\u001b[39;00m \u001b[39mcall_preflattened\u001b[39m(\u001b[39mself\u001b[39m, args: Sequence[core\u001b[39m.\u001b[39mTensor]) \u001b[39m-\u001b[39m\u001b[39m>\u001b[39m Any:\n\u001b[1;32m    <a href='file:///home/nnds6b/miniconda3/lib/python3.11/site-packages/tensorflow/python/eager/polymorphic_function/atomic_function.py?line=214'>215</a>\u001b[0m \u001b[39m  \u001b[39m\u001b[39m\"\"\"Calls with flattened tensor inputs and returns the structured output.\"\"\"\u001b[39;00m\n\u001b[0;32m--> <a href='file:///home/nnds6b/miniconda3/lib/python3.11/site-packages/tensorflow/python/eager/polymorphic_function/atomic_function.py?line=215'>216</a>\u001b[0m   flat_outputs \u001b[39m=\u001b[39m \u001b[39mself\u001b[39;49m\u001b[39m.\u001b[39;49mcall_flat(\u001b[39m*\u001b[39;49margs)\n\u001b[1;32m    <a href='file:///home/nnds6b/miniconda3/lib/python3.11/site-packages/tensorflow/python/eager/polymorphic_function/atomic_function.py?line=216'>217</a>\u001b[0m   \u001b[39mreturn\u001b[39;00m \u001b[39mself\u001b[39m\u001b[39m.\u001b[39mfunction_type\u001b[39m.\u001b[39mpack_output(flat_outputs)\n",
      "File \u001b[0;32m~/miniconda3/lib/python3.11/site-packages/tensorflow/python/eager/polymorphic_function/atomic_function.py:251\u001b[0m, in \u001b[0;36mAtomicFunction.call_flat\u001b[0;34m(self, *args)\u001b[0m\n\u001b[1;32m    <a href='file:///home/nnds6b/miniconda3/lib/python3.11/site-packages/tensorflow/python/eager/polymorphic_function/atomic_function.py?line=248'>249</a>\u001b[0m \u001b[39mwith\u001b[39;00m record\u001b[39m.\u001b[39mstop_recording():\n\u001b[1;32m    <a href='file:///home/nnds6b/miniconda3/lib/python3.11/site-packages/tensorflow/python/eager/polymorphic_function/atomic_function.py?line=249'>250</a>\u001b[0m   \u001b[39mif\u001b[39;00m \u001b[39mself\u001b[39m\u001b[39m.\u001b[39m_bound_context\u001b[39m.\u001b[39mexecuting_eagerly():\n\u001b[0;32m--> <a href='file:///home/nnds6b/miniconda3/lib/python3.11/site-packages/tensorflow/python/eager/polymorphic_function/atomic_function.py?line=250'>251</a>\u001b[0m     outputs \u001b[39m=\u001b[39m \u001b[39mself\u001b[39;49m\u001b[39m.\u001b[39;49m_bound_context\u001b[39m.\u001b[39;49mcall_function(\n\u001b[1;32m    <a href='file:///home/nnds6b/miniconda3/lib/python3.11/site-packages/tensorflow/python/eager/polymorphic_function/atomic_function.py?line=251'>252</a>\u001b[0m         \u001b[39mself\u001b[39;49m\u001b[39m.\u001b[39;49mname,\n\u001b[1;32m    <a href='file:///home/nnds6b/miniconda3/lib/python3.11/site-packages/tensorflow/python/eager/polymorphic_function/atomic_function.py?line=252'>253</a>\u001b[0m         \u001b[39mlist\u001b[39;49m(args),\n\u001b[1;32m    <a href='file:///home/nnds6b/miniconda3/lib/python3.11/site-packages/tensorflow/python/eager/polymorphic_function/atomic_function.py?line=253'>254</a>\u001b[0m         \u001b[39mlen\u001b[39;49m(\u001b[39mself\u001b[39;49m\u001b[39m.\u001b[39;49mfunction_type\u001b[39m.\u001b[39;49mflat_outputs),\n\u001b[1;32m    <a href='file:///home/nnds6b/miniconda3/lib/python3.11/site-packages/tensorflow/python/eager/polymorphic_function/atomic_function.py?line=254'>255</a>\u001b[0m     )\n\u001b[1;32m    <a href='file:///home/nnds6b/miniconda3/lib/python3.11/site-packages/tensorflow/python/eager/polymorphic_function/atomic_function.py?line=255'>256</a>\u001b[0m   \u001b[39melse\u001b[39;00m:\n\u001b[1;32m    <a href='file:///home/nnds6b/miniconda3/lib/python3.11/site-packages/tensorflow/python/eager/polymorphic_function/atomic_function.py?line=256'>257</a>\u001b[0m     outputs \u001b[39m=\u001b[39m make_call_op_in_graph(\n\u001b[1;32m    <a href='file:///home/nnds6b/miniconda3/lib/python3.11/site-packages/tensorflow/python/eager/polymorphic_function/atomic_function.py?line=257'>258</a>\u001b[0m         \u001b[39mself\u001b[39m,\n\u001b[1;32m    <a href='file:///home/nnds6b/miniconda3/lib/python3.11/site-packages/tensorflow/python/eager/polymorphic_function/atomic_function.py?line=258'>259</a>\u001b[0m         \u001b[39mlist\u001b[39m(args),\n\u001b[1;32m    <a href='file:///home/nnds6b/miniconda3/lib/python3.11/site-packages/tensorflow/python/eager/polymorphic_function/atomic_function.py?line=259'>260</a>\u001b[0m         \u001b[39mself\u001b[39m\u001b[39m.\u001b[39m_bound_context\u001b[39m.\u001b[39mfunction_call_options\u001b[39m.\u001b[39mas_attrs(),\n\u001b[1;32m    <a href='file:///home/nnds6b/miniconda3/lib/python3.11/site-packages/tensorflow/python/eager/polymorphic_function/atomic_function.py?line=260'>261</a>\u001b[0m     )\n",
      "File \u001b[0;32m~/miniconda3/lib/python3.11/site-packages/tensorflow/python/eager/context.py:1486\u001b[0m, in \u001b[0;36mContext.call_function\u001b[0;34m(self, name, tensor_inputs, num_outputs)\u001b[0m\n\u001b[1;32m   <a href='file:///home/nnds6b/miniconda3/lib/python3.11/site-packages/tensorflow/python/eager/context.py?line=1483'>1484</a>\u001b[0m cancellation_context \u001b[39m=\u001b[39m cancellation\u001b[39m.\u001b[39mcontext()\n\u001b[1;32m   <a href='file:///home/nnds6b/miniconda3/lib/python3.11/site-packages/tensorflow/python/eager/context.py?line=1484'>1485</a>\u001b[0m \u001b[39mif\u001b[39;00m cancellation_context \u001b[39mis\u001b[39;00m \u001b[39mNone\u001b[39;00m:\n\u001b[0;32m-> <a href='file:///home/nnds6b/miniconda3/lib/python3.11/site-packages/tensorflow/python/eager/context.py?line=1485'>1486</a>\u001b[0m   outputs \u001b[39m=\u001b[39m execute\u001b[39m.\u001b[39;49mexecute(\n\u001b[1;32m   <a href='file:///home/nnds6b/miniconda3/lib/python3.11/site-packages/tensorflow/python/eager/context.py?line=1486'>1487</a>\u001b[0m       name\u001b[39m.\u001b[39;49mdecode(\u001b[39m\"\u001b[39;49m\u001b[39mutf-8\u001b[39;49m\u001b[39m\"\u001b[39;49m),\n\u001b[1;32m   <a href='file:///home/nnds6b/miniconda3/lib/python3.11/site-packages/tensorflow/python/eager/context.py?line=1487'>1488</a>\u001b[0m       num_outputs\u001b[39m=\u001b[39;49mnum_outputs,\n\u001b[1;32m   <a href='file:///home/nnds6b/miniconda3/lib/python3.11/site-packages/tensorflow/python/eager/context.py?line=1488'>1489</a>\u001b[0m       inputs\u001b[39m=\u001b[39;49mtensor_inputs,\n\u001b[1;32m   <a href='file:///home/nnds6b/miniconda3/lib/python3.11/site-packages/tensorflow/python/eager/context.py?line=1489'>1490</a>\u001b[0m       attrs\u001b[39m=\u001b[39;49mattrs,\n\u001b[1;32m   <a href='file:///home/nnds6b/miniconda3/lib/python3.11/site-packages/tensorflow/python/eager/context.py?line=1490'>1491</a>\u001b[0m       ctx\u001b[39m=\u001b[39;49m\u001b[39mself\u001b[39;49m,\n\u001b[1;32m   <a href='file:///home/nnds6b/miniconda3/lib/python3.11/site-packages/tensorflow/python/eager/context.py?line=1491'>1492</a>\u001b[0m   )\n\u001b[1;32m   <a href='file:///home/nnds6b/miniconda3/lib/python3.11/site-packages/tensorflow/python/eager/context.py?line=1492'>1493</a>\u001b[0m \u001b[39melse\u001b[39;00m:\n\u001b[1;32m   <a href='file:///home/nnds6b/miniconda3/lib/python3.11/site-packages/tensorflow/python/eager/context.py?line=1493'>1494</a>\u001b[0m   outputs \u001b[39m=\u001b[39m execute\u001b[39m.\u001b[39mexecute_with_cancellation(\n\u001b[1;32m   <a href='file:///home/nnds6b/miniconda3/lib/python3.11/site-packages/tensorflow/python/eager/context.py?line=1494'>1495</a>\u001b[0m       name\u001b[39m.\u001b[39mdecode(\u001b[39m\"\u001b[39m\u001b[39mutf-8\u001b[39m\u001b[39m\"\u001b[39m),\n\u001b[1;32m   <a href='file:///home/nnds6b/miniconda3/lib/python3.11/site-packages/tensorflow/python/eager/context.py?line=1495'>1496</a>\u001b[0m       num_outputs\u001b[39m=\u001b[39mnum_outputs,\n\u001b[0;32m   (...)\u001b[0m\n\u001b[1;32m   <a href='file:///home/nnds6b/miniconda3/lib/python3.11/site-packages/tensorflow/python/eager/context.py?line=1499'>1500</a>\u001b[0m       cancellation_manager\u001b[39m=\u001b[39mcancellation_context,\n\u001b[1;32m   <a href='file:///home/nnds6b/miniconda3/lib/python3.11/site-packages/tensorflow/python/eager/context.py?line=1500'>1501</a>\u001b[0m   )\n",
      "File \u001b[0;32m~/miniconda3/lib/python3.11/site-packages/tensorflow/python/eager/execute.py:53\u001b[0m, in \u001b[0;36mquick_execute\u001b[0;34m(op_name, num_outputs, inputs, attrs, ctx, name)\u001b[0m\n\u001b[1;32m     <a href='file:///home/nnds6b/miniconda3/lib/python3.11/site-packages/tensorflow/python/eager/execute.py?line=50'>51</a>\u001b[0m \u001b[39mtry\u001b[39;00m:\n\u001b[1;32m     <a href='file:///home/nnds6b/miniconda3/lib/python3.11/site-packages/tensorflow/python/eager/execute.py?line=51'>52</a>\u001b[0m   ctx\u001b[39m.\u001b[39mensure_initialized()\n\u001b[0;32m---> <a href='file:///home/nnds6b/miniconda3/lib/python3.11/site-packages/tensorflow/python/eager/execute.py?line=52'>53</a>\u001b[0m   tensors \u001b[39m=\u001b[39m pywrap_tfe\u001b[39m.\u001b[39;49mTFE_Py_Execute(ctx\u001b[39m.\u001b[39;49m_handle, device_name, op_name,\n\u001b[1;32m     <a href='file:///home/nnds6b/miniconda3/lib/python3.11/site-packages/tensorflow/python/eager/execute.py?line=53'>54</a>\u001b[0m                                       inputs, attrs, num_outputs)\n\u001b[1;32m     <a href='file:///home/nnds6b/miniconda3/lib/python3.11/site-packages/tensorflow/python/eager/execute.py?line=54'>55</a>\u001b[0m \u001b[39mexcept\u001b[39;00m core\u001b[39m.\u001b[39m_NotOkStatusException \u001b[39mas\u001b[39;00m e:\n\u001b[1;32m     <a href='file:///home/nnds6b/miniconda3/lib/python3.11/site-packages/tensorflow/python/eager/execute.py?line=55'>56</a>\u001b[0m   \u001b[39mif\u001b[39;00m name \u001b[39mis\u001b[39;00m \u001b[39mnot\u001b[39;00m \u001b[39mNone\u001b[39;00m:\n",
      "\u001b[0;31mKeyboardInterrupt\u001b[0m: "
     ]
    }
   ],
   "source": [
    "model = tuner.hypermodel.build(hyperBest)\n",
    "\n",
    "# Retrain the model\n",
    "history = model.fit(data_train_combined, data_labels_combined, \n",
    "                    validation_data=(test_data, test_labels),\n",
    "                    initial_epoch=1,\n",
    "                    epochs=best_epoch,\n",
    "                    verbose=1)"
   ]
  },
  {
   "cell_type": "markdown",
   "metadata": {},
   "source": [
    "Checking the network's perfomance ..."
   ]
  },
  {
   "cell_type": "code",
   "execution_count": null,
   "metadata": {},
   "outputs": [],
   "source": [
    "import matplotlib.pyplot as plt\n",
    "\n",
    "valAccEvo = history.history['val_accuracy']\n",
    "i = list(range(1,nEpochs))\n",
    "\n",
    "plt.figure(figsize=(15,10))\n",
    "plt.plot(i,valAccEvo)\n",
    "plt.xticks(i)\n",
    "plt.show()"
   ]
  }
 ],
 "metadata": {
  "interpreter": {
   "hash": "098b6707bb4d57eb12a2c3ccb2ba5d8a46b3e4b7830e3a9b994bb36d94b7693a"
  },
  "kernelspec": {
   "display_name": "Python 3.11.4 ('base': conda)",
   "language": "python",
   "name": "python3"
  },
  "language_info": {
   "codemirror_mode": {
    "name": "ipython",
    "version": 3
   },
   "file_extension": ".py",
   "mimetype": "text/x-python",
   "name": "python",
   "nbconvert_exporter": "python",
   "pygments_lexer": "ipython3",
   "version": "3.11.4"
  },
  "orig_nbformat": 4
 },
 "nbformat": 4,
 "nbformat_minor": 2
}
