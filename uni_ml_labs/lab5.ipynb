{
 "cells": [
  {
   "cell_type": "markdown",
   "metadata": {},
   "source": [
    "# Problem 1\n",
    "\n",
    "## 1a.\n",
    "The inverse matrix $M^{-1}$ can be used to calculate the hypothetical state vector $\\vec{v}^{-1}$ because the inverse matrix undoes the effect of the original transition matrix $M$. Mathematically, $M^{-1} \\cdot \\vec{v}^{-1} = \\vec{v}_0$, where $\\vec{v}_0$ is the initial state vector. Using `np.linalg.inv(M)` gives you the inverse matrix, and multiplying it by the state vector ($\\vec{v}_0$) would give $\\vec{v}^{-1}$.\n",
    "\n",
    "```py\n",
    "import numpy as np\n",
    "\n",
    "# Assuming M and v0 are defined\n",
    "M_inv = np.linalg.inv(M)\n",
    "v_inv = np.dot(M_inv, v0)\n",
    "```\n",
    "\n",
    "The problem with this state is that it might not be a valid state for the political system. The values in $\\vec{v}^{-1}$ might not represent valid proportions of voters for each party, such as negative values or values greater than 1.\n"
   ]
  },
  {
   "cell_type": "markdown",
   "metadata": {},
   "source": [
    "- For **1b** the constructor is modified to raise an error if the dimensions of the initial state vector *$\\vec{v}_0$* do not match the number of rows/columns in the transition matrix *M*.\n",
    "- For **1d** *$\\vec{v}_0$* can be calculated via *$M^{10} \\cdot \\vec{v}_0$* because raising the transition matrix *M* to the power of 10 represents the system's state after 10 timesteps."
   ]
  },
  {
   "cell_type": "code",
   "execution_count": 1,
   "metadata": {},
   "outputs": [],
   "source": [
    "# 1 b, c, d, e.\n",
    "import numpy as np\n",
    "import matplotlib.pyplot as plt\n",
    "import pandas as pd\n",
    "\n",
    "class Markov():\n",
    "    def __init__(self, v0, M, colors = []):\n",
    "        if len(v0) != len(M) or any(len(row) != len(M) for row in M):\n",
    "            raise ValueError(\"Invalid dimensions for v0 or M\")\n",
    "        self.__i = 0\n",
    "        self.__v = [v0]\n",
    "        self.__M = M\n",
    "        self.colors = colors\n",
    "               \n",
    "    def __str__(self):\n",
    "        return \"Timestep: {}\\nState: {}\".format(self.__i, self.__v[-1])\n",
    "    \n",
    "    def evolve(self):\n",
    "        self.__v.append( np.dot(self.__M, self.__v[-1]) )\n",
    "        self.__i += 1\n",
    "    \n",
    "    def total_voters_over_time(self):\n",
    "        return [np.sum(voters) for voters in self.__v]\n",
    "    \n",
    "    def batchEvolve(self, n):\n",
    "        for _ in range(n):\n",
    "            self.evolve()\n",
    "    \n",
    "    def plot_voters_over_time(self):\n",
    "        df = pd.DataFrame(self.__v, columns=self.colors)\n",
    "        for column, color in zip(df.columns, self.colors):\n",
    "            plt.plot(df.index, df[column], label=column, color=color)\n",
    "\n",
    "        plt.xlabel('Time Step')\n",
    "        plt.ylabel('Number of Voters')\n",
    "        plt.legend()\n",
    "        plt.show()\n",
    "    "
   ]
  },
  {
   "cell_type": "markdown",
   "metadata": {},
   "source": [
    "Plotting the number of voters over time ..."
   ]
  },
  {
   "cell_type": "code",
   "execution_count": 2,
   "metadata": {},
   "outputs": [
    {
     "data": {
      "image/png": "[encoded data removed]",
      "text/plain": [
       "<Figure size 640x480 with 1 Axes>"
      ]
     },
     "metadata": {},
     "output_type": "display_data"
    }
   ],
   "source": [
    "# 1e. continued\n",
    "my_v0 = [0.4, 0.3, 0.3] \n",
    "my_M = [\n",
    "    [0.5, 0.3, 0.2],\n",
    "    [0.4, 0.5, 0.1],\n",
    "    [0.2, 0.3, 0.5]\n",
    "] \n",
    "\n",
    "neurostan = Markov(my_v0, my_M, [\"green\", \"blue\", \"red\"])\n",
    "neurostan.batchEvolve(100)\n",
    "neurostan.plot_voters_over_time()"
   ]
  },
  {
   "cell_type": "markdown",
   "metadata": {},
   "source": [
    "f) The eigenvector $v_{λ=1}$ associated with the eigenvalue `λ = 1` represents a special case where the matrix `M`, when applied to the eigenvector, only scales the vector by a factor of 1 and does not change its direction. In the context of dynamic systems or Markov chains, this can represent a steady state or equilibrium."
   ]
  },
  {
   "cell_type": "code",
   "execution_count": 3,
   "metadata": {},
   "outputs": [
    {
     "name": "stdout",
     "output_type": "stream",
     "text": [
      "[-0.57735027 -0.57735027 -0.57735027]\n"
     ]
    }
   ],
   "source": [
    "# f. continued\n",
    "eigenvalues, eigenvectors = np.linalg.eig(my_M)\n",
    "index_lambda_1 = np.where(np.isclose(eigenvalues, 1))[0][0]\n",
    "v_lambda_1 = eigenvectors[:, index_lambda_1]\n",
    "\n",
    "print(v_lambda_1)"
   ]
  },
  {
   "cell_type": "markdown",
   "metadata": {},
   "source": [
    "# Problem 2\n",
    "## Fraction Class Overview\n",
    "\n",
    "In this code snippet, we've crafted a simple yet powerful `frac` class to handle fractions. Fractions consist of a numerator (`p`) and a denominator (`q`). The class ensures proper initialization, guards against division by zero, and supports fraction addition. The key highlight is the automatic simplification of fractions using the greatest common divisor."
   ]
  },
  {
   "cell_type": "code",
   "execution_count": 4,
   "metadata": {},
   "outputs": [],
   "source": [
    "# 2\n",
    "class frac:\n",
    "    def __init__(self, p, q):  # a.\n",
    "        if q == 0:\n",
    "            raise ValueError(\"Denominator cannot be zero!\")\n",
    "        self.p = p\n",
    "        self.q = q\n",
    "        self.short()\n",
    "        \n",
    "    def __str__(self):   # b.\n",
    "        return f\"{self.p}/{self.q}\"\n",
    "    \n",
    "    def __add__(self, b):    # c.\n",
    "        new_numerator = self.p * b.q + b.p * self.q\n",
    "        new_denominator = self.p * b.q\n",
    "        summ = frac(new_numerator, new_denominator)\n",
    "        summ.short()\n",
    "        return summ\n",
    "        \n",
    "    def short(self):   # d.\n",
    "        common_divisor = self.greComDiv(self.p, self.q)\n",
    "        if common_divisor != 0:\n",
    "            self.p //= common_divisor\n",
    "            self.q //= common_divisor\n",
    "        \n",
    "    @staticmethod\n",
    "    def greComDiv(p, q):    # d.\n",
    "        if p == 0:\n",
    "            return abs(p)\n",
    "        if q == 0:\n",
    "            return abs(q)\n",
    "        while q != 0:\n",
    "            h = p % q\n",
    "            p = q\n",
    "            q = h\n",
    "        return abs(p)\n",
    "        "
   ]
  },
  {
   "cell_type": "markdown",
   "metadata": {},
   "source": [
    "Using the ```frac``` class ..."
   ]
  },
  {
   "cell_type": "code",
   "execution_count": 5,
   "metadata": {},
   "outputs": [
    {
     "name": "stdout",
     "output_type": "stream",
     "text": [
      "Fraction 1: 3/4\n",
      "Fraction 2: 1/2\n",
      "Sum of fractions: 5/3\n"
     ]
    }
   ],
   "source": [
    "frac1 = frac(3, 4)\n",
    "frac2 = frac(1, 2)\n",
    "\n",
    "print(f\"Fraction 1: {frac1}\")\n",
    "print(f\"Fraction 2: {frac2}\")\n",
    "\n",
    "sum_frac = frac1 + frac2\n",
    "print(f\"Sum of fractions: {sum_frac}\")"
   ]
  }
 ],
 "metadata": {
  "interpreter": {
   "hash": "098b6707bb4d57eb12a2c3ccb2ba5d8a46b3e4b7830e3a9b994bb36d94b7693a"
  },
  "kernelspec": {
   "display_name": "Python 3.11.4 ('base': conda)",
   "language": "python",
   "name": "python3"
  },
  "language_info": {
   "codemirror_mode": {
    "name": "ipython",
    "version": 3
   },
   "file_extension": ".py",
   "mimetype": "text/x-python",
   "name": "python",
   "nbconvert_exporter": "python",
   "pygments_lexer": "ipython3",
   "version": "3.11.4"
  },
  "orig_nbformat": 4
 },
 "nbformat": 4,
 "nbformat_minor": 2
}
